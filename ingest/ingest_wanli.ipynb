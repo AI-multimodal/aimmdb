{
 "cells": [
  {
   "cell_type": "code",
   "execution_count": null,
   "id": "e3cb7b38-0e7f-4463-b844-b4af7bc5efd1",
   "metadata": {},
   "outputs": [],
   "source": [
    "import argparse\n",
    "import pathlib\n",
    "import json\n",
    "from collections import defaultdict\n",
    "\n",
    "import pymongo\n",
    "from pymongo import MongoClient\n",
    "\n",
    "import pandas as pd\n",
    "\n",
    "from tqdm import tqdm\n",
    "\n",
    "from util import serialize_parquet\n",
    "from util import create_collection"
   ]
  },
  {
   "cell_type": "code",
   "execution_count": null,
   "id": "5197286e-dcfd-4631-b5a0-3e6e52b84578",
   "metadata": {},
   "outputs": [],
   "source": [
    "data_path = pathlib.Path(\"~/mnt/seagate/jkleinhenz/projects/aimm/wanli/core/\").expanduser()\n",
    "print(data_path)"
   ]
  },
  {
   "cell_type": "code",
   "execution_count": null,
   "id": "f85cdf79-9a67-45f9-abc6-599637cb8fc1",
   "metadata": {},
   "outputs": [],
   "source": [
    "mongo_uri = None\n",
    "db = \"aimm\"\n",
    "collection = \"wanli\""
   ]
  },
  {
   "cell_type": "code",
   "execution_count": null,
   "id": "f2c9d410-0e58-4c6e-8387-8d230e8ff0af",
   "metadata": {},
   "outputs": [],
   "source": [
    "client = MongoClient(mongo_uri)\n",
    "db = client[db]\n",
    "\n",
    "with open(\"schema.json\") as f:\n",
    "   schema = json.load(f)\n",
    "c = create_collection(db, collection, schema, overwrite=True)"
   ]
  },
  {
   "cell_type": "code",
   "execution_count": null,
   "id": "5f617631-f266-4102-b63b-91f5b3bd3e34",
   "metadata": {},
   "outputs": [],
   "source": [
    "def spike():\n",
    "  files = (data_path / \"O_K\").glob(\"*.txt\")\n",
    "  for f in files:\n",
    "    df = pd.read_csv(f, header=None, delimiter=\"\\t\", names=[\"energy\", \"mu\"])\n",
    "    \n",
    "    element = {\"symbol\" : \"O\", \"edge\" : \"K\"}\n",
    "    common = {\n",
    "      \"element\" : element,\n",
    "      \"spec\" : \"wanli\",\n",
    "      \"uid\" : f.stem}\n",
    "    \n",
    "    metadata = {\"common\" : common}\n",
    "    \n",
    "    data = {\n",
    "        \"media_type\": \"application/x-parquet\",\n",
    "        \"structure_family\": \"dataframe\",\n",
    "        \"blob\": serialize_parquet(df).tobytes(),\n",
    "    }\n",
    "    \n",
    "    doc = {\"data\": data, \"metadata\": metadata}\n",
    "    c.insert_one(doc)      \n",
    "  \n",
    "spike()"
   ]
  },
  {
   "cell_type": "code",
   "execution_count": null,
   "id": "7fa27fe4-bdd5-47da-96e1-01021c55353b",
   "metadata": {},
   "outputs": [],
   "source": [
    "def load_TM_L():\n",
    "  files = (data_path / \"TM_L\")\n",
    "  \n",
    "  for d in files.iterdir():\n",
    "    if d.is_file():\n",
    "      continue\n",
    "    symbol = d.stem\n",
    "    edge = \"L\"\n",
    "    element = {\"symbol\" : symbol, \"edge\" : edge}\n",
    "    \n",
    "    for f in d.glob(\"*.txt\"):\n",
    "      if f.stem.startswith(\"IgorPlot\"):\n",
    "        continue\n",
    "        \n",
    "      print(f.stem)\n",
    "      \n",
    "      with open(f, \"r\") as ff:\n",
    "        l = ff.readline()\n",
    "        n = len(l.split())\n",
    "        \n",
    "        if n == 1:\n",
    "          skiprows = 1\n",
    "          title = l\n",
    "        elif n == 2:\n",
    "          skiprows = 0\n",
    "          title = None\n",
    "        else:\n",
    "          assert False\n",
    "          \n",
    "      df = pd.read_csv(f, delimiter=\"\\t\", names=[\"energy\", \"mu\"], skiprows=skiprows)\n",
    "      \n",
    "      common = {\n",
    "        \"element\" : element,\n",
    "        \"spec\" : \"wanli\",\n",
    "        \"uid\" : f.stem}\n",
    "      \n",
    "      metadata = {\"common\" : common}\n",
    "      \n",
    "      data = {\n",
    "          \"media_type\": \"application/x-parquet\",\n",
    "          \"structure_family\": \"dataframe\",\n",
    "          \"blob\": serialize_parquet(df).tobytes(),\n",
    "      }\n",
    "      \n",
    "      doc = {\"data\": data, \"metadata\": metadata}\n",
    "      c.insert_one(doc)      \n",
    "\n",
    "load_TM_L()"
   ]
  }
 ],
 "metadata": {
  "kernelspec": {
   "display_name": "Python [conda env:tiled-dev]",
   "language": "python",
   "name": "conda-env-tiled-dev-py"
  },
  "language_info": {
   "codemirror_mode": {
    "name": "ipython",
    "version": 3
   },
   "file_extension": ".py",
   "mimetype": "text/x-python",
   "name": "python",
   "nbconvert_exporter": "python",
   "pygments_lexer": "ipython3",
   "version": "3.9.5"
  }
 },
 "nbformat": 4,
 "nbformat_minor": 5
}
