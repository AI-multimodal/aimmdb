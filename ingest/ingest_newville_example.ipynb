{
 "cells": [
  {
   "cell_type": "code",
   "execution_count": null,
   "id": "fe76b655-57a6-4268-8cf2-e4e57457d88c",
   "metadata": {},
   "outputs": [],
   "source": [
    "# install aimmdb package to get tiled client extensions for interacting with aimm server\n",
    "# !pip install git+https://git@github.com/AI-multimodal/aimmdb.git@dev"
   ]
  },
  {
   "cell_type": "code",
   "execution_count": null,
   "id": "773275e0-2fb2-49c4-a32a-4554dcf85a95",
   "metadata": {},
   "outputs": [],
   "source": [
    "import copy\n",
    "import pathlib\n",
    "\n",
    "import aimmdb\n",
    "import numpy as np\n",
    "import pandas as pd\n",
    "import tiled\n",
    "from aimmdb.queries import RawMongo\n",
    "from tiled.client import from_uri\n",
    "from tiled.examples.xdi import read_xdi"
   ]
  },
  {
   "cell_type": "code",
   "execution_count": null,
   "id": "72b90310-f258-411f-a386-8841139c59a1",
   "metadata": {},
   "outputs": [],
   "source": [
    "# create tiled client object\n",
    "# because we have installed the aimmdb package, tiled automatically constructs an AIMMCatalog instance\n",
    "# this is a subclass of the generic tiled client providing a more expressive repr and methods for uploading data to the AIMM database\n",
    "c = from_uri(\"https://aimm-staging.lbl.gov/api\")\n",
    "c"
   ]
  },
  {
   "cell_type": "code",
   "execution_count": null,
   "id": "0dc1a13e-bb8f-4e03-b271-b24521368a46",
   "metadata": {},
   "outputs": [],
   "source": [
    "# login to gain authenticated access\n",
    "c.login()"
   ]
  },
  {
   "cell_type": "code",
   "execution_count": null,
   "id": "0f811aa0-1869-4fed-bb06-4f9b216077fd",
   "metadata": {},
   "outputs": [],
   "source": [
    "c[\"sample\"]"
   ]
  },
  {
   "cell_type": "code",
   "execution_count": null,
   "id": "dba86683-dd12-4bd9-ba81-13538d2f2295",
   "metadata": {},
   "outputs": [],
   "source": [
    "# delete everything so we start fresh\n",
    "# DANGER\n",
    "for k in list(c[\"uid\"]):\n",
    "    del c[\"uid\"][k]"
   ]
  },
  {
   "cell_type": "code",
   "execution_count": null,
   "id": "4ac3ba0a-2ff9-47c5-b1c5-538603db871d",
   "metadata": {},
   "outputs": [],
   "source": [
    "# the catalog is initially empty\n",
    "c[\"uid\"]"
   ]
  },
  {
   "cell_type": "code",
   "execution_count": null,
   "id": "2ebc966e-daa7-42f7-ac41-f2980a621839",
   "metadata": {},
   "outputs": [],
   "source": [
    "# the server now supports writing array data using the write_array method\n",
    "# when submitting the server generates a unique key which can be used to refer to and fetch the data\n",
    "x = np.random.rand(100, 100)\n",
    "metadata = {\"dataset\" : \"sandbox\", \"foo\" : \"bar\"}\n",
    "key = c[\"uid\"].write_array(x, metadata)\n",
    "key"
   ]
  },
  {
   "cell_type": "code",
   "execution_count": null,
   "id": "7537369f-873a-44ce-82a0-e33890c04bbd",
   "metadata": {},
   "outputs": [],
   "source": [
    "c[\"uid\"]"
   ]
  },
  {
   "cell_type": "code",
   "execution_count": null,
   "id": "19a6059d-d6e2-45d3-89fe-82c7a9b14024",
   "metadata": {},
   "outputs": [],
   "source": [
    "node = c[\"uid\"][key]\n",
    "node"
   ]
  },
  {
   "cell_type": "code",
   "execution_count": null,
   "id": "3f899c9c-2c5f-44b8-8614-7509688f2c34",
   "metadata": {},
   "outputs": [],
   "source": [
    "node.metadata"
   ]
  },
  {
   "cell_type": "code",
   "execution_count": null,
   "id": "20886abb-9deb-4346-860c-d0aefbfa1126",
   "metadata": {},
   "outputs": [],
   "source": [
    "node.read()"
   ]
  },
  {
   "cell_type": "code",
   "execution_count": null,
   "id": "6cae759e-eaba-43d8-8ab5-7e36998ef4ba",
   "metadata": {},
   "outputs": [],
   "source": [
    "# it is also possible to write dataframes\n",
    "df = pd.DataFrame({\"a\" : np.random.rand(100), \"b\" : np.random.rand(100)})\n",
    "metadata = {\"dataset\" : \"sandbox\", \"foo\" : \"bar\"}\n",
    "key = c[\"uid\"].write_dataframe(df, metadata)\n",
    "key"
   ]
  },
  {
   "cell_type": "code",
   "execution_count": null,
   "id": "e08710f6-a909-40be-b102-6b1464bc0884",
   "metadata": {},
   "outputs": [],
   "source": [
    "c[\"uid\"]"
   ]
  },
  {
   "cell_type": "code",
   "execution_count": null,
   "id": "044f61da-8acd-44f2-80b6-1f7bc93a1688",
   "metadata": {},
   "outputs": [],
   "source": [
    "node = c[\"uid\"][key]\n",
    "node"
   ]
  },
  {
   "cell_type": "code",
   "execution_count": null,
   "id": "9aab95a6-7027-45ef-aa4d-d951084f5b95",
   "metadata": {},
   "outputs": [],
   "source": [
    "node.metadata"
   ]
  },
  {
   "cell_type": "code",
   "execution_count": null,
   "id": "e0ccc573-311e-4860-8a48-3e2c8b68a132",
   "metadata": {},
   "outputs": [],
   "source": [
    "node.read()"
   ]
  },
  {
   "cell_type": "code",
   "execution_count": null,
   "id": "bc4cbc64-6e39-4ef2-9ed7-b4152948f976",
   "metadata": {},
   "outputs": [],
   "source": [
    "# when submitting data you MUST include a 'dataset' key in the metadata\n",
    "# this is used to allow providing access control and enforcement of schemas\n",
    "metadata = {\"foo\" : \"bar\"}\n",
    "key = c[\"uid\"].write_array(x, metadata)"
   ]
  },
  {
   "cell_type": "code",
   "execution_count": null,
   "id": "1b1e022e-841b-4ded-91bb-e8f1c8b3634d",
   "metadata": {},
   "outputs": [],
   "source": [
    "# the server can be configured to apply custom validation to data in a particular dataset\n",
    "# we have configured a 'newville' dataset which requires that the metadata conform to a particular schema which provides element and edge information\n",
    "# submitting arbitrary data to this dataset will be rejected by the server"
   ]
  },
  {
   "cell_type": "code",
   "execution_count": null,
   "id": "ccf0193f-5ccd-4eb0-a53b-891a0dcd1798",
   "metadata": {},
   "outputs": [],
   "source": [
    "df = pd.DataFrame({\"a\" : np.random.rand(100), \"b\" : np.random.rand(100)})\n",
    "metadata = {\"dataset\" : \"newville\", \"foo\" : \"bar\"}\n",
    "key = c[\"uid\"].write_dataframe(df, metadata)"
   ]
  },
  {
   "cell_type": "code",
   "execution_count": null,
   "id": "eabfe8b8-8b3c-4786-b684-6e871fc8be54",
   "metadata": {},
   "outputs": [],
   "source": [
    "df = pd.DataFrame({\"a\" : np.random.rand(100), \"b\" : np.random.rand(100)})\n",
    "metadata = {\"dataset\" : \"newville\", \"foo\" : \"bar\"}\n",
    "key = c[\"uid\"].write_dataframe(df, metadata, specs=[\"XAS\"])"
   ]
  },
  {
   "cell_type": "code",
   "execution_count": null,
   "id": "1d03acc0-a9fb-48af-9b60-ad0e906bafa5",
   "metadata": {},
   "outputs": [],
   "source": [
    "x = np.random.rand(100, 100)\n",
    "metadata = {\"dataset\" : \"newville\", \"foo\" : \"bar\"}\n",
    "key = c[\"uid\"].write_array(x, metadata, specs=[\"XAS\"])"
   ]
  },
  {
   "cell_type": "code",
   "execution_count": null,
   "id": "92cafece-e269-48b6-a468-90c39cc22982",
   "metadata": {},
   "outputs": [],
   "source": [
    "# with the correct metadata we can write to the server\n",
    "# NOTE this doesn't prevent you from writing garbage but does help\n",
    "df = pd.DataFrame({\"a\" : np.random.rand(100), \"b\" : np.random.rand(100)})\n",
    "metadata = {\"dataset\" : \"newville\", \"foo\" : \"bar\", \"element\" : {\"symbol\" : \"Au\", \"edge\" : \"K\"}}\n",
    "key = c[\"uid\"].write_dataframe(df, metadata, specs=[\"XAS\"])\n",
    "key"
   ]
  },
  {
   "cell_type": "code",
   "execution_count": null,
   "id": "d66aed98-3a5e-4460-901d-a0f5ec0ef2d7",
   "metadata": {},
   "outputs": [],
   "source": [
    "c[\"uid\"]"
   ]
  },
  {
   "cell_type": "code",
   "execution_count": null,
   "id": "f30016f5-48d4-41f4-85b5-6659661fd359",
   "metadata": {},
   "outputs": [],
   "source": [
    "c[\"dataset\"]"
   ]
  },
  {
   "cell_type": "code",
   "execution_count": null,
   "id": "5860df95-5f7b-4145-9987-5536eb5d18ba",
   "metadata": {},
   "outputs": [],
   "source": [
    "c[\"dataset\"][\"newville\"][\"uid\"]"
   ]
  },
  {
   "cell_type": "code",
   "execution_count": null,
   "id": "007bd42e-f47b-4a32-8a35-b2a0f59895e3",
   "metadata": {},
   "outputs": [],
   "source": [
    "c[\"uid\"][key]"
   ]
  },
  {
   "cell_type": "code",
   "execution_count": null,
   "id": "f553c0da-7056-4ce8-ad88-fd28ee198904",
   "metadata": {},
   "outputs": [],
   "source": [
    "# since we just submitted some garbage lets delete it\n",
    "del c[\"uid\"][key]"
   ]
  },
  {
   "cell_type": "code",
   "execution_count": null,
   "id": "71cf5ba7-52e9-46be-9635-7a6e5db335a8",
   "metadata": {},
   "outputs": [],
   "source": [
    "c[\"dataset\"][\"newville\"][\"uid\"]"
   ]
  },
  {
   "cell_type": "code",
   "execution_count": null,
   "id": "fab867fe-ef93-4535-a92e-aeafc4b1f792",
   "metadata": {},
   "outputs": [],
   "source": [
    "# so far we have been write methods from the generic tiled client\n",
    "# aimmdb provides specialized methods for writing XAS data\n",
    "# NOTE now the validation error happens on the client rather than the server\n",
    "df = pd.DataFrame({\"a\" : np.random.rand(100), \"b\" : np.random.rand(100)})\n",
    "metadata = {\"dataset\" : \"sandbox\"}\n",
    "key = c[\"uid\"].write_xas(df, metadata)\n",
    "key"
   ]
  },
  {
   "cell_type": "code",
   "execution_count": null,
   "id": "7ec08e4e-3c9f-4a38-b681-d058c95aa78d",
   "metadata": {},
   "outputs": [],
   "source": [
    "df = pd.DataFrame({\"a\" : np.random.rand(100), \"b\" : np.random.rand(100)})\n",
    "metadata = {\"dataset\" : \"sandbox\", \"element\" : {\"symbol\" : \"Au\", \"edge\" : \"K\"}}\n",
    "key = c[\"uid\"].write_xas(df, metadata)\n",
    "key"
   ]
  },
  {
   "cell_type": "code",
   "execution_count": null,
   "id": "89784a9e-adaf-4d34-a6fc-cb6c4a831dbc",
   "metadata": {},
   "outputs": [],
   "source": [
    "c[\"uid\"][key]"
   ]
  },
  {
   "cell_type": "code",
   "execution_count": null,
   "id": "ff8f1c6a-1017-4b89-8dd6-ce45fb16e5ad",
   "metadata": {},
   "outputs": [],
   "source": [
    "# delete the garbage again\n",
    "del c[\"uid\"][key]"
   ]
  },
  {
   "cell_type": "code",
   "execution_count": null,
   "id": "576a4797-ccf9-47a6-b2ca-4656cb4ed53a",
   "metadata": {},
   "outputs": [],
   "source": [
    "# aimmdb also provides functionality for associating metadata and measurements with samples\n",
    "# use write_sample to write some metadata to the sample database and get a unique id\n",
    "sample_metadata = {\"name\" : \"NiO\", \"description\" : \"Jos's Nickle Oxide Sample\"}\n",
    "sample_key = c.write_sample(sample_metadata)\n",
    "sample_key"
   ]
  },
  {
   "cell_type": "code",
   "execution_count": null,
   "id": "a29b41fb-66ee-4221-8d81-1ae20368a11f",
   "metadata": {},
   "outputs": [],
   "source": [
    "# we can include sample_id in the metadata when submitting measurements\n",
    "\n",
    "df = pd.DataFrame({\"a\" : np.random.rand(100), \"b\" : np.random.rand(100)})\n",
    "metadata = {\"dataset\" : \"sandbox\", \"element\" : {\"symbol\" : \"Ni\", \"edge\" : \"K\"}, \"sample_id\" : sample_key}\n",
    "key = c[\"uid\"].write_xas(df, metadata)\n",
    "print(f\"{key=}\")\n",
    "\n",
    "df = pd.DataFrame({\"a\" : np.random.rand(100), \"b\" : np.random.rand(100)})\n",
    "metadata = {\"dataset\" : \"sandbox\", \"element\" : {\"symbol\" : \"Ni\", \"edge\" : \"L\"}, \"sample_id\" : sample_key}\n",
    "key = c[\"uid\"].write_xas(df, metadata)\n",
    "print(f\"{key=}\")"
   ]
  },
  {
   "cell_type": "code",
   "execution_count": null,
   "id": "3d52302a-43a8-4f81-9428-837b019a401a",
   "metadata": {},
   "outputs": [],
   "source": [
    "c[\"sample\"]"
   ]
  },
  {
   "cell_type": "code",
   "execution_count": null,
   "id": "c300ec45-a112-4196-a622-2417ada10f9d",
   "metadata": {},
   "outputs": [],
   "source": [
    "# we can then retrieve all measurements associated with that sample_id\n",
    "c[\"sample\"][sample_key][\"uid\"]"
   ]
  },
  {
   "cell_type": "code",
   "execution_count": null,
   "id": "b460da24-7a86-405e-9ebd-4c4ab826b661",
   "metadata": {},
   "outputs": [],
   "source": [
    "node = c[\"sample\"][sample_key][\"uid\"].values_indexer[0]\n",
    "node"
   ]
  },
  {
   "cell_type": "code",
   "execution_count": null,
   "id": "f7898ae0-c080-450a-90d0-1b69312a8f4a",
   "metadata": {},
   "outputs": [],
   "source": [
    "# the metadata from the sample database is merged into the measurement metadata\n",
    "node.metadata"
   ]
  },
  {
   "cell_type": "code",
   "execution_count": null,
   "id": "6677651a-e9f5-4817-abc4-b44e6dbc4c9e",
   "metadata": {},
   "outputs": [],
   "source": [
    "# samples can also be deleted\n",
    "sample_key = c.write_sample({\"name\" : \"garbage\"})\n",
    "c.delete_sample(sample_key)"
   ]
  },
  {
   "cell_type": "code",
   "execution_count": null,
   "id": "6cffad6e-e26a-42e8-8ba9-c287a75a47bc",
   "metadata": {},
   "outputs": [],
   "source": [
    "# now we will ingest the newville dataset\n",
    "# first download and unpack the raw data\n",
    "!curl -L https://github.com/XraySpectroscopy/XASDataLibrary/archive/master.tar.gz | tar xz"
   ]
  },
  {
   "cell_type": "code",
   "execution_count": null,
   "id": "89a89cb4-e7b4-4790-8957-9bca0f9adaf0",
   "metadata": {},
   "outputs": [],
   "source": [
    "def load_newville(data_path):\n",
    "    \"\"\"\n",
    "    Load newville dataset into a dataframe parsing sample information from metadata\n",
    "    \"\"\"\n",
    "    files = list(data_path.rglob(\"*.xdi\"))\n",
    "    print(f\"found {len(files)} xdi files to ingest\")\n",
    "\n",
    "    data_list = []\n",
    "\n",
    "    for f in files:\n",
    "        name = f.stem\n",
    "        _, metadata = read_xdi(str(f))\n",
    "        fields = metadata.pop(\"fields\")\n",
    "        metadata.update({k.lower(): v for k, v in fields.items()})\n",
    "        sample = metadata[\"sample\"]\n",
    "        name = sample.pop(\"name\")\n",
    "        prep = sample.pop(\"prep\", None)\n",
    "\n",
    "        data_list.append(\n",
    "            {\n",
    "                \"name\": f.stem,\n",
    "                \"file\": str(f),\n",
    "                \"sample.name\": name,\n",
    "                \"sample.prep\": prep,\n",
    "                \"metadata\": metadata,\n",
    "            }\n",
    "        )\n",
    "\n",
    "    df = pd.DataFrame(data_list)\n",
    "\n",
    "    return df"
   ]
  },
  {
   "cell_type": "code",
   "execution_count": null,
   "id": "cdef696f-a62f-4e32-8dcd-03b489aa70a6",
   "metadata": {},
   "outputs": [],
   "source": [
    "# read through all the files and extract some metadata\n",
    "df = load_newville(pathlib.Path(\"./XASDataLibrary-master/data/\"))\n",
    "df"
   ]
  },
  {
   "cell_type": "code",
   "execution_count": null,
   "id": "9adf7931-4fed-4988-8e90-c883dce058ae",
   "metadata": {},
   "outputs": [],
   "source": [
    "def ingest_newville(c, df, verbose=False):\n",
    "    \"\"\"\n",
    "    Upload the newville dataset to database\n",
    "    \"\"\"\n",
    "\n",
    "    for (name, prep), g in df.groupby([\"sample.name\", \"sample.prep\"]):\n",
    "        if verbose:\n",
    "            print(f\"{name}: {prep}, {len(g)}\")\n",
    "\n",
    "        sample_id = c.write_sample({\"name\" : name, \"prep\" : prep})\n",
    "\n",
    "        for i, row in g.iterrows():\n",
    "            xas_df, _ = read_xdi(row.file)\n",
    "            metadata = row.metadata\n",
    "            metadata[\"dataset\"] = \"newville\"\n",
    "            metadata[\"sample_id\"] = sample_id\n",
    "            c[\"uid\"].write_xas(xas_df, metadata)"
   ]
  },
  {
   "cell_type": "code",
   "execution_count": null,
   "id": "1e66dba1-2975-483f-bf33-c0cdbdc9c2f6",
   "metadata": {},
   "outputs": [],
   "source": [
    "# read and upload all files\n",
    "print(\"starting ingestion...\")\n",
    "ingest_newville(c, df, verbose=True)\n",
    "print(\"finished.\")"
   ]
  },
  {
   "cell_type": "code",
   "execution_count": null,
   "id": "59df59c4-ad2d-4819-9c3c-78099f137286",
   "metadata": {},
   "outputs": [],
   "source": [
    "# now we can see the newville data on the server\n",
    "# NOTE (values/keys/items)_indexer are getting a better interface soon!\n",
    "c[\"dataset\"][\"newville\"][\"uid\"].items_indexer[:10]"
   ]
  },
  {
   "cell_type": "code",
   "execution_count": null,
   "id": "7e88e161-78a6-4881-a655-9673fe9d05c3",
   "metadata": {},
   "outputs": [],
   "source": [
    "# because we have the aimmdb package installed, tiled automatically constructs an XASClient instance when we select a single measurement\n",
    "# this is a subclass of the generic tiled dataframe client providing a more expressive repr which shows the sample name and edge information for the measurement\n",
    "x = c[\"dataset\"][\"newville\"][\"uid\"].values_indexer[0]\n",
    "x"
   ]
  },
  {
   "cell_type": "code",
   "execution_count": null,
   "id": "1f5d42cb-56f5-44a7-b77a-07e2c0b448d1",
   "metadata": {},
   "outputs": [],
   "source": [
    "# the measurement uid can be accessed as a property\n",
    "x.uid"
   ]
  },
  {
   "cell_type": "code",
   "execution_count": null,
   "id": "cd6947a2-cb5a-49f6-8cd8-9b08b3035b90",
   "metadata": {},
   "outputs": [],
   "source": [
    "# the measurement itself is stored in a dataframe which can be obtained using the .read() method\n",
    "df = x.read()\n",
    "df"
   ]
  },
  {
   "cell_type": "code",
   "execution_count": null,
   "id": "17c3d4d1-060d-473e-a292-b2faeb41b966",
   "metadata": {},
   "outputs": [],
   "source": [
    "# once the data is ingested it can be searched\n",
    "# queries can be interactively built up by drilling down into the tree structure"
   ]
  },
  {
   "cell_type": "code",
   "execution_count": null,
   "id": "05165f22-8442-4ccd-b517-52bdf0d43ab1",
   "metadata": {},
   "outputs": [],
   "source": [
    "c"
   ]
  },
  {
   "cell_type": "code",
   "execution_count": null,
   "id": "41ff061d-4697-4c30-bf93-04aea4ad138b",
   "metadata": {},
   "outputs": [],
   "source": [
    "c[\"dataset\"]"
   ]
  },
  {
   "cell_type": "code",
   "execution_count": null,
   "id": "c0e8a6d4-ceaf-4e0b-877d-ee674ca85ca7",
   "metadata": {},
   "outputs": [],
   "source": [
    "c[\"dataset\"][\"newville\"]"
   ]
  },
  {
   "cell_type": "code",
   "execution_count": null,
   "id": "df17f7a0-c06b-498c-9a65-def8284a677a",
   "metadata": {},
   "outputs": [],
   "source": [
    "# measurements can be grouped by absorbing element (as in the original file tree)\n",
    "c[\"dataset\"][\"newville\"][\"element\"]"
   ]
  },
  {
   "cell_type": "code",
   "execution_count": null,
   "id": "58c88496-76b9-40ef-856a-c2a7f287c7a6",
   "metadata": {},
   "outputs": [],
   "source": [
    "c[\"dataset\"][\"newville\"][\"element\"][\"Ni\"]"
   ]
  },
  {
   "cell_type": "code",
   "execution_count": null,
   "id": "5e416a5d-7d29-4aa4-8ca3-23dd32891d47",
   "metadata": {},
   "outputs": [],
   "source": [
    "c[\"dataset\"][\"newville\"][\"element\"][\"Ni\"][\"uid\"]"
   ]
  },
  {
   "cell_type": "code",
   "execution_count": null,
   "id": "34e4e567-11aa-43be-9278-808501b1788e",
   "metadata": {},
   "outputs": [],
   "source": [
    "node = c[\"dataset\"][\"newville\"][\"element\"][\"Ni\"][\"uid\"].values_indexer[0]\n",
    "node"
   ]
  },
  {
   "cell_type": "code",
   "execution_count": null,
   "id": "035af168-598f-4ed7-b722-a9223644c328",
   "metadata": {},
   "outputs": [],
   "source": [
    "# ... or by edge\n",
    "c[\"dataset\"][\"newville\"][\"edge\"]"
   ]
  },
  {
   "cell_type": "code",
   "execution_count": null,
   "id": "cf7fae86-8d2c-4675-81f7-0063545c8489",
   "metadata": {},
   "outputs": [],
   "source": [
    "c[\"dataset\"][\"newville\"][\"edge\"][\"L3\"][\"uid\"]"
   ]
  },
  {
   "cell_type": "code",
   "execution_count": null,
   "id": "9d629681-e450-49c5-83a6-031c06bd97e7",
   "metadata": {},
   "outputs": [],
   "source": [
    "node = c[\"dataset\"][\"newville\"][\"edge\"][\"L3\"][\"uid\"].values_indexer[0]\n",
    "node"
   ]
  },
  {
   "cell_type": "code",
   "execution_count": null,
   "id": "defb59ca-f6e4-4105-88d8-0cd428e3df4e",
   "metadata": {},
   "outputs": [],
   "source": [
    "# ... and these can be combined/nested\n",
    "\n",
    "# this query gets all absorbing elements for which we have an L3 edge measurement\n",
    "c[\"dataset\"][\"newville\"][\"edge\"][\"L3\"][\"element\"]"
   ]
  },
  {
   "cell_type": "code",
   "execution_count": null,
   "id": "345dbc13-c008-4271-be22-d5ef2dfafbc8",
   "metadata": {},
   "outputs": [],
   "source": [
    "node = c[\"dataset\"][\"newville\"][\"edge\"][\"L3\"][\"element\"][\"Pt\"][\"uid\"].values_indexer[0]\n",
    "node"
   ]
  },
  {
   "cell_type": "code",
   "execution_count": null,
   "id": "4fc53924-226d-47f7-89e5-3d4319f6d0ee",
   "metadata": {},
   "outputs": [],
   "source": [
    "# if you prefer you can also directly search on the metadata\n",
    "result = c[\"uid\"].search(RawMongo({\"metadata.dataset\" : \"newville\", \"metadata.element.symbol\" : \"Pt\", \"metadata.element.edge\" : \"L3\"}))\n",
    "result"
   ]
  },
  {
   "cell_type": "code",
   "execution_count": null,
   "id": "cecd9abc-4371-407a-a271-7b45ceacacef",
   "metadata": {},
   "outputs": [],
   "source": [
    "node = result.values_indexer[0]\n",
    "node"
   ]
  },
  {
   "cell_type": "code",
   "execution_count": null,
   "id": "d7df12a4-e282-4ec2-b3e3-de7ea034eda4",
   "metadata": {},
   "outputs": [],
   "source": [
    "node.read()"
   ]
  },
  {
   "cell_type": "code",
   "execution_count": null,
   "id": "c6b57b81-2300-4876-a20b-37fa0fad7b8e",
   "metadata": {},
   "outputs": [],
   "source": [
    "# the newville dataset is quite clean and well curated but it is still in need of some post-processing\n",
    "# most obviously, not all measurements have the actual absorption mu computed\n",
    "# we will now demonstrate using aimmdb tools to perform this first basic post processing step"
   ]
  },
  {
   "cell_type": "code",
   "execution_count": null,
   "id": "28392855-154a-4e83-a696-2609ce13d4d2",
   "metadata": {},
   "outputs": [],
   "source": [
    "# first read through all the data on the server and print the column names to get an idea of what we are dealing with\n",
    "for k, v in c[\"dataset\"][\"newville\"][\"uid\"].items():\n",
    "    sample_name = v.metadata[\"sample\"][\"name\"]\n",
    "    df = v.read()\n",
    "    print(f\"{sample_name:>40} ({k}): {list(df)}\")"
   ]
  },
  {
   "cell_type": "code",
   "execution_count": null,
   "id": "3e0b3ec8-55ac-42b1-b695-6a0400d8f325",
   "metadata": {},
   "outputs": [],
   "source": [
    "# define functions to compute the most basic calculation of the absorption from transmission or fluorescence measurements\n",
    "\n",
    "def compute_mutrans(df):\n",
    "    assert \"energy\" in df\n",
    "    assert \"i0\" in df\n",
    "    assert \"itrans\" in df\n",
    "\n",
    "    energy = df[\"energy\"]\n",
    "    mutrans = np.log(df[\"i0\"] / df[\"itrans\"])\n",
    "\n",
    "    return pd.DataFrame({\"energy\": energy, \"mu\": mutrans})\n",
    "\n",
    "\n",
    "def compute_mufluor(df):\n",
    "    assert \"energy\" in df\n",
    "    assert \"i0\" in df\n",
    "    assert \"ifluor\" in df\n",
    "\n",
    "    energy = df[\"energy\"]\n",
    "    mufluor = df[\"ifluor\"] / df[\"i0\"]\n",
    "\n",
    "    return pd.DataFrame({\"energy\": energy, \"mu\": mufluor})"
   ]
  },
  {
   "cell_type": "code",
   "execution_count": null,
   "id": "373d85d7-3088-49fb-8636-af27cf1d23a1",
   "metadata": {},
   "outputs": [],
   "source": [
    "def process_metadata(metadata):\n",
    "    metadata_ = copy.deepcopy(metadata)\n",
    "    return metadata_\n",
    "\n",
    "def run_postprocessing(c, uids):\n",
    "    for i, k in enumerate(uids):\n",
    "        v = c[k]\n",
    "        sample_name = v.metadata[\"sample\"][\"name\"]\n",
    "        print(f\"{i}: {sample_name}\")\n",
    "\n",
    "        df = v.read()\n",
    "        metadata = dict(v.metadata)\n",
    "\n",
    "        cols = set(list(df))\n",
    "\n",
    "        if {\"energy\", \"i0\", \"itrans\"}.issubset(cols):\n",
    "            df_ = compute_mutrans(df)\n",
    "            metadata_ = process_metadata(metadata)\n",
    "            metadata_[\"postprocessing\"] = {\n",
    "                \"operator\": \"compute_mutrans\",\n",
    "                \"parents\": [v.uid],\n",
    "            }\n",
    "            c.write_xas(df_, metadata_)\n",
    "\n",
    "        if {\"energy\", \"i0\", \"ifluor\"}.issubset(cols):\n",
    "            df_ = compute_mufluor(df)\n",
    "            metadata_ = process_metadata(metadata)\n",
    "            metadata_[\"postprocessing\"] = {\n",
    "                \"operator\": \"compute_mufluor\",\n",
    "                \"parents\": [v.uid],\n",
    "            }\n",
    "            c.write_xas(df_, metadata_)\n",
    "\n",
    "        if {\"energy\", \"mutrans\"}.issubset(cols):\n",
    "            df_ = pd.DataFrame({\"energy\": df[\"energy\"], \"mu\": df[\"mutrans\"]})\n",
    "            metadata_ = process_metadata(metadata)\n",
    "            metadata_[\"postprocessing\"] = {\n",
    "                \"operator\": \"copy_mutrans\",\n",
    "                \"parents\": [v.uid],\n",
    "            }\n",
    "            c.write_xas(df_, metadata_)\n",
    "\n",
    "        if {\"energy\", \"mufluor\"}.issubset(cols):\n",
    "            df_ = pd.DataFrame({\"energy\": df[\"energy\"], \"mu\": df[\"mufluor\"]})\n",
    "            metadata_ = process_metadata(metadata)\n",
    "            metadata_[\"postprocessing\"] = {\n",
    "                \"operator\": \"copy_mufluor\",\n",
    "                \"parents\": [v.uid],\n",
    "            }\n",
    "            c.write_xas(df_, metadata_)"
   ]
  },
  {
   "cell_type": "code",
   "execution_count": null,
   "id": "b28575ba-bf16-4bfb-b193-e5d8d3f8064c",
   "metadata": {},
   "outputs": [],
   "source": [
    "# get a list of the uids for non postprocessed data\n",
    "# NOTE we use list(...) to extract the list of uids ahead of time because it is not safe to iterate a collection that you are simultaneously modifying\n",
    "raw_uids = list(c[\"dataset\"][\"newville\"][\"uid\"].search(RawMongo({\"metadata.postprocessing\" : None})))"
   ]
  },
  {
   "cell_type": "code",
   "execution_count": null,
   "id": "16f78547-b7b1-44e7-a762-b02cc277e006",
   "metadata": {},
   "outputs": [],
   "source": [
    "run_postprocessing(c[\"uid\"], raw_uids)"
   ]
  },
  {
   "cell_type": "code",
   "execution_count": null,
   "id": "adb29c74-015f-4d95-a9b5-2e78d4e479bd",
   "metadata": {},
   "outputs": [],
   "source": [
    "# we can use search to select only the postprocessed data\n",
    "result = c[\"dataset\"][\"newville\"][\"uid\"].search(RawMongo({\"metadata.postprocessing\" : {\"$exists\" : True}}))\n",
    "result"
   ]
  },
  {
   "cell_type": "code",
   "execution_count": null,
   "id": "345c7d58-ba9a-4ec0-bfcf-2342632305d1",
   "metadata": {},
   "outputs": [],
   "source": [
    "# information about the postprocessing steps are stored in the metadata\n",
    "node = result.values_indexer[0]\n",
    "node.metadata"
   ]
  },
  {
   "cell_type": "code",
   "execution_count": null,
   "id": "53f379d0-3940-42ce-9412-0cc2b73136dc",
   "metadata": {},
   "outputs": [],
   "source": [
    "# we can use search to select data that has been postprocessed in a particular way\n",
    "result = c[\"dataset\"][\"newville\"][\"uid\"].search(RawMongo({\"metadata.postprocessing.operator\" : \"compute_mutrans\"}))\n",
    "result"
   ]
  },
  {
   "cell_type": "code",
   "execution_count": null,
   "id": "5d451b03-8572-4e7b-9dcd-be3786cc9059",
   "metadata": {},
   "outputs": [],
   "source": [
    "# we can use search to select data that has been postprocessed in a particular way\n",
    "result = c[\"dataset\"][\"newville\"][\"uid\"].search(RawMongo({\"metadata.postprocessing.operator\" : \"compute_mufluor\"}))\n",
    "result"
   ]
  },
  {
   "cell_type": "code",
   "execution_count": null,
   "id": "bab80ab9-140b-4c55-a84b-ab1dbc593e86",
   "metadata": {},
   "outputs": [],
   "source": [
    "# our postprocessed data is guarenteed to be a dataframe with two columns: energy and mu\n",
    "df = node.read()\n",
    "df"
   ]
  },
  {
   "cell_type": "code",
   "execution_count": null,
   "id": "b4c2787b-7e72-4f50-93ba-c904798d2b6c",
   "metadata": {},
   "outputs": [],
   "source": [
    "df.plot(\"energy\", \"mu\", title=node.describe())"
   ]
  },
  {
   "cell_type": "code",
   "execution_count": null,
   "id": "0b46fdb5-96fb-403a-8095-0c897ccab3c2",
   "metadata": {},
   "outputs": [],
   "source": [
    "# the postprocessed metadata include a list of 'parent' uids which were used as input enabling basic provenance tracking\n",
    "node.metadata[\"postprocessing\"]"
   ]
  },
  {
   "cell_type": "code",
   "execution_count": null,
   "id": "6afddd49-2ff6-47b8-9709-f77a0592a810",
   "metadata": {},
   "outputs": [],
   "source": [
    "key = node.metadata[\"postprocessing\"][\"parents\"][0]\n",
    "parent_node = c[\"uid\"][key]\n",
    "parent_node"
   ]
  },
  {
   "cell_type": "code",
   "execution_count": null,
   "id": "73bac053-2f45-4614-bc86-4f5cbfe058fe",
   "metadata": {},
   "outputs": [],
   "source": [
    "parent_node.read()"
   ]
  },
  {
   "cell_type": "code",
   "execution_count": null,
   "id": "478e54f5-a55f-4f2b-817f-ee822d9b9fe5",
   "metadata": {},
   "outputs": [],
   "source": [
    "# while logged in both the 'newville' and 'sandbox' datasets are visible\n",
    "c[\"dataset\"]"
   ]
  },
  {
   "cell_type": "code",
   "execution_count": null,
   "id": "0446c8a0-2c46-4825-b652-19696d202dac",
   "metadata": {},
   "outputs": [],
   "source": [
    "c.logout()"
   ]
  },
  {
   "cell_type": "code",
   "execution_count": null,
   "id": "d2fa90e7-e078-4359-a3b8-87cefafe2e4a",
   "metadata": {},
   "outputs": [],
   "source": [
    "# upon logout the sandbox dataset is no longer visible but the newville dataset is still visible\n",
    "c[\"dataset\"]"
   ]
  },
  {
   "cell_type": "code",
   "execution_count": null,
   "id": "a243fe63-29d5-4bb5-8fc9-a7f7fe0491c0",
   "metadata": {},
   "outputs": [],
   "source": [
    "# public users are allowed to read data from specified datasets\n",
    "key = c[\"dataset\"][\"newville\"][\"uid\"].keys_indexer[0]\n",
    "node = c[\"uid\"][key]\n",
    "node.read()"
   ]
  },
  {
   "cell_type": "code",
   "execution_count": null,
   "id": "3f35422b-c818-4149-8144-335c4164f198",
   "metadata": {},
   "outputs": [],
   "source": [
    "# but are not allowed any write access\n",
    "del c[\"uid\"][key]"
   ]
  },
  {
   "cell_type": "code",
   "execution_count": null,
   "id": "b3fae846-b0b1-414c-b804-cf409e45fd08",
   "metadata": {},
   "outputs": [],
   "source": []
  }
 ],
 "metadata": {
  "kernelspec": {
   "display_name": "Python [conda env:aimm_spike]",
   "language": "python",
   "name": "conda-env-aimm_spike-py"
  },
  "language_info": {
   "codemirror_mode": {
    "name": "ipython",
    "version": 3
   },
   "file_extension": ".py",
   "mimetype": "text/x-python",
   "name": "python",
   "nbconvert_exporter": "python",
   "pygments_lexer": "ipython3",
   "version": "3.9.12"
  }
 },
 "nbformat": 4,
 "nbformat_minor": 5
}
