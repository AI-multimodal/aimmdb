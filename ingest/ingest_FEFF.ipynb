{
 "cells": [
  {
   "cell_type": "code",
   "execution_count": 1,
   "metadata": {},
   "outputs": [],
   "source": [
    "import copy\n",
    "from pathlib import Path\n",
    "\n",
    "import numpy as np\n",
    "import pandas as pd"
   ]
  },
  {
   "cell_type": "code",
   "execution_count": 2,
   "metadata": {},
   "outputs": [
    {
     "ename": "ConnectError",
     "evalue": "[WinError 10061] No connection could be made because the target machine actively refused it",
     "output_type": "error",
     "traceback": [
      "\u001b[1;31m---------------------------------------------------------------------------\u001b[0m",
      "\u001b[1;31mConnectionRefusedError\u001b[0m                    Traceback (most recent call last)",
      "File \u001b[1;32mc:\\Users\\msega\\anaconda3\\envs\\aimm\\lib\\site-packages\\httpcore\\_exceptions.py:8\u001b[0m, in \u001b[0;36mmap_exceptions\u001b[1;34m(map)\u001b[0m\n\u001b[0;32m      7\u001b[0m \u001b[39mtry\u001b[39;00m:\n\u001b[1;32m----> 8\u001b[0m     \u001b[39myield\u001b[39;00m\n\u001b[0;32m      9\u001b[0m \u001b[39mexcept\u001b[39;00m \u001b[39mException\u001b[39;00m \u001b[39mas\u001b[39;00m exc:  \u001b[39m# noqa: PIE786\u001b[39;00m\n",
      "File \u001b[1;32mc:\\Users\\msega\\anaconda3\\envs\\aimm\\lib\\site-packages\\httpcore\\backends\\sync.py:86\u001b[0m, in \u001b[0;36mSyncBackend.connect_tcp\u001b[1;34m(self, host, port, timeout, local_address)\u001b[0m\n\u001b[0;32m     85\u001b[0m \u001b[39mwith\u001b[39;00m map_exceptions(exc_map):\n\u001b[1;32m---> 86\u001b[0m     sock \u001b[39m=\u001b[39m socket\u001b[39m.\u001b[39;49mcreate_connection(\n\u001b[0;32m     87\u001b[0m         address, timeout, source_address\u001b[39m=\u001b[39;49msource_address\n\u001b[0;32m     88\u001b[0m     )\n\u001b[0;32m     89\u001b[0m \u001b[39mreturn\u001b[39;00m SyncStream(sock)\n",
      "File \u001b[1;32mc:\\Users\\msega\\anaconda3\\envs\\aimm\\lib\\socket.py:844\u001b[0m, in \u001b[0;36mcreate_connection\u001b[1;34m(address, timeout, source_address)\u001b[0m\n\u001b[0;32m    843\u001b[0m \u001b[39mtry\u001b[39;00m:\n\u001b[1;32m--> 844\u001b[0m     \u001b[39mraise\u001b[39;00m err\n\u001b[0;32m    845\u001b[0m \u001b[39mfinally\u001b[39;00m:\n\u001b[0;32m    846\u001b[0m     \u001b[39m# Break explicitly a reference cycle\u001b[39;00m\n",
      "File \u001b[1;32mc:\\Users\\msega\\anaconda3\\envs\\aimm\\lib\\socket.py:832\u001b[0m, in \u001b[0;36mcreate_connection\u001b[1;34m(address, timeout, source_address)\u001b[0m\n\u001b[0;32m    831\u001b[0m     sock\u001b[39m.\u001b[39mbind(source_address)\n\u001b[1;32m--> 832\u001b[0m sock\u001b[39m.\u001b[39;49mconnect(sa)\n\u001b[0;32m    833\u001b[0m \u001b[39m# Break explicitly a reference cycle\u001b[39;00m\n",
      "\u001b[1;31mConnectionRefusedError\u001b[0m: [WinError 10061] No connection could be made because the target machine actively refused it",
      "\nDuring handling of the above exception, another exception occurred:\n",
      "\u001b[1;31mConnectError\u001b[0m                              Traceback (most recent call last)",
      "File \u001b[1;32mc:\\Users\\msega\\anaconda3\\envs\\aimm\\lib\\site-packages\\httpx\\_transports\\default.py:60\u001b[0m, in \u001b[0;36mmap_httpcore_exceptions\u001b[1;34m()\u001b[0m\n\u001b[0;32m     59\u001b[0m \u001b[39mtry\u001b[39;00m:\n\u001b[1;32m---> 60\u001b[0m     \u001b[39myield\u001b[39;00m\n\u001b[0;32m     61\u001b[0m \u001b[39mexcept\u001b[39;00m \u001b[39mException\u001b[39;00m \u001b[39mas\u001b[39;00m exc:  \u001b[39m# noqa: PIE-786\u001b[39;00m\n",
      "File \u001b[1;32mc:\\Users\\msega\\anaconda3\\envs\\aimm\\lib\\site-packages\\httpx\\_transports\\default.py:218\u001b[0m, in \u001b[0;36mHTTPTransport.handle_request\u001b[1;34m(self, request)\u001b[0m\n\u001b[0;32m    217\u001b[0m \u001b[39mwith\u001b[39;00m map_httpcore_exceptions():\n\u001b[1;32m--> 218\u001b[0m     resp \u001b[39m=\u001b[39m \u001b[39mself\u001b[39;49m\u001b[39m.\u001b[39;49m_pool\u001b[39m.\u001b[39;49mhandle_request(req)\n\u001b[0;32m    220\u001b[0m \u001b[39massert\u001b[39;00m \u001b[39misinstance\u001b[39m(resp\u001b[39m.\u001b[39mstream, typing\u001b[39m.\u001b[39mIterable)\n",
      "File \u001b[1;32mc:\\Users\\msega\\anaconda3\\envs\\aimm\\lib\\site-packages\\httpcore\\_sync\\connection_pool.py:253\u001b[0m, in \u001b[0;36mConnectionPool.handle_request\u001b[1;34m(self, request)\u001b[0m\n\u001b[0;32m    252\u001b[0m     \u001b[39mself\u001b[39m\u001b[39m.\u001b[39mresponse_closed(status)\n\u001b[1;32m--> 253\u001b[0m     \u001b[39mraise\u001b[39;00m exc\n\u001b[0;32m    254\u001b[0m \u001b[39melse\u001b[39;00m:\n",
      "File \u001b[1;32mc:\\Users\\msega\\anaconda3\\envs\\aimm\\lib\\site-packages\\httpcore\\_sync\\connection_pool.py:237\u001b[0m, in \u001b[0;36mConnectionPool.handle_request\u001b[1;34m(self, request)\u001b[0m\n\u001b[0;32m    236\u001b[0m \u001b[39mtry\u001b[39;00m:\n\u001b[1;32m--> 237\u001b[0m     response \u001b[39m=\u001b[39m connection\u001b[39m.\u001b[39;49mhandle_request(request)\n\u001b[0;32m    238\u001b[0m \u001b[39mexcept\u001b[39;00m ConnectionNotAvailable:\n\u001b[0;32m    239\u001b[0m     \u001b[39m# The ConnectionNotAvailable exception is a special case, that\u001b[39;00m\n\u001b[0;32m    240\u001b[0m     \u001b[39m# indicates we need to retry the request on a new connection.\u001b[39;00m\n\u001b[1;32m   (...)\u001b[0m\n\u001b[0;32m    244\u001b[0m     \u001b[39m# might end up as an HTTP/2 connection, but which actually ends\u001b[39;00m\n\u001b[0;32m    245\u001b[0m     \u001b[39m# up as HTTP/1.1.\u001b[39;00m\n",
      "File \u001b[1;32mc:\\Users\\msega\\anaconda3\\envs\\aimm\\lib\\site-packages\\httpcore\\_sync\\connection.py:86\u001b[0m, in \u001b[0;36mHTTPConnection.handle_request\u001b[1;34m(self, request)\u001b[0m\n\u001b[0;32m     85\u001b[0m         \u001b[39mself\u001b[39m\u001b[39m.\u001b[39m_connect_failed \u001b[39m=\u001b[39m \u001b[39mTrue\u001b[39;00m\n\u001b[1;32m---> 86\u001b[0m         \u001b[39mraise\u001b[39;00m exc\n\u001b[0;32m     87\u001b[0m \u001b[39melif\u001b[39;00m \u001b[39mnot\u001b[39;00m \u001b[39mself\u001b[39m\u001b[39m.\u001b[39m_connection\u001b[39m.\u001b[39mis_available():\n",
      "File \u001b[1;32mc:\\Users\\msega\\anaconda3\\envs\\aimm\\lib\\site-packages\\httpcore\\_sync\\connection.py:63\u001b[0m, in \u001b[0;36mHTTPConnection.handle_request\u001b[1;34m(self, request)\u001b[0m\n\u001b[0;32m     62\u001b[0m \u001b[39mtry\u001b[39;00m:\n\u001b[1;32m---> 63\u001b[0m     stream \u001b[39m=\u001b[39m \u001b[39mself\u001b[39;49m\u001b[39m.\u001b[39;49m_connect(request)\n\u001b[0;32m     65\u001b[0m     ssl_object \u001b[39m=\u001b[39m stream\u001b[39m.\u001b[39mget_extra_info(\u001b[39m\"\u001b[39m\u001b[39mssl_object\u001b[39m\u001b[39m\"\u001b[39m)\n",
      "File \u001b[1;32mc:\\Users\\msega\\anaconda3\\envs\\aimm\\lib\\site-packages\\httpcore\\_sync\\connection.py:111\u001b[0m, in \u001b[0;36mHTTPConnection._connect\u001b[1;34m(self, request)\u001b[0m\n\u001b[0;32m    108\u001b[0m \u001b[39mwith\u001b[39;00m Trace(\n\u001b[0;32m    109\u001b[0m     \u001b[39m\"\u001b[39m\u001b[39mconnection.connect_tcp\u001b[39m\u001b[39m\"\u001b[39m, request, kwargs\n\u001b[0;32m    110\u001b[0m ) \u001b[39mas\u001b[39;00m trace:\n\u001b[1;32m--> 111\u001b[0m     stream \u001b[39m=\u001b[39m \u001b[39mself\u001b[39m\u001b[39m.\u001b[39m_network_backend\u001b[39m.\u001b[39mconnect_tcp(\u001b[39m*\u001b[39m\u001b[39m*\u001b[39mkwargs)\n\u001b[0;32m    112\u001b[0m     trace\u001b[39m.\u001b[39mreturn_value \u001b[39m=\u001b[39m stream\n",
      "File \u001b[1;32mc:\\Users\\msega\\anaconda3\\envs\\aimm\\lib\\site-packages\\httpcore\\backends\\sync.py:86\u001b[0m, in \u001b[0;36mSyncBackend.connect_tcp\u001b[1;34m(self, host, port, timeout, local_address)\u001b[0m\n\u001b[0;32m     85\u001b[0m \u001b[39mwith\u001b[39;00m map_exceptions(exc_map):\n\u001b[1;32m---> 86\u001b[0m     sock \u001b[39m=\u001b[39m socket\u001b[39m.\u001b[39mcreate_connection(\n\u001b[0;32m     87\u001b[0m         address, timeout, source_address\u001b[39m=\u001b[39msource_address\n\u001b[0;32m     88\u001b[0m     )\n\u001b[0;32m     89\u001b[0m \u001b[39mreturn\u001b[39;00m SyncStream(sock)\n",
      "File \u001b[1;32mc:\\Users\\msega\\anaconda3\\envs\\aimm\\lib\\contextlib.py:137\u001b[0m, in \u001b[0;36m_GeneratorContextManager.__exit__\u001b[1;34m(self, typ, value, traceback)\u001b[0m\n\u001b[0;32m    136\u001b[0m \u001b[39mtry\u001b[39;00m:\n\u001b[1;32m--> 137\u001b[0m     \u001b[39mself\u001b[39;49m\u001b[39m.\u001b[39;49mgen\u001b[39m.\u001b[39;49mthrow(typ, value, traceback)\n\u001b[0;32m    138\u001b[0m \u001b[39mexcept\u001b[39;00m \u001b[39mStopIteration\u001b[39;00m \u001b[39mas\u001b[39;00m exc:\n\u001b[0;32m    139\u001b[0m     \u001b[39m# Suppress StopIteration *unless* it's the same exception that\u001b[39;00m\n\u001b[0;32m    140\u001b[0m     \u001b[39m# was passed to throw().  This prevents a StopIteration\u001b[39;00m\n\u001b[0;32m    141\u001b[0m     \u001b[39m# raised inside the \"with\" statement from being suppressed.\u001b[39;00m\n",
      "File \u001b[1;32mc:\\Users\\msega\\anaconda3\\envs\\aimm\\lib\\site-packages\\httpcore\\_exceptions.py:12\u001b[0m, in \u001b[0;36mmap_exceptions\u001b[1;34m(map)\u001b[0m\n\u001b[0;32m     11\u001b[0m     \u001b[39mif\u001b[39;00m \u001b[39misinstance\u001b[39m(exc, from_exc):\n\u001b[1;32m---> 12\u001b[0m         \u001b[39mraise\u001b[39;00m to_exc(exc)\n\u001b[0;32m     13\u001b[0m \u001b[39mraise\u001b[39;00m\n",
      "\u001b[1;31mConnectError\u001b[0m: [WinError 10061] No connection could be made because the target machine actively refused it",
      "\nThe above exception was the direct cause of the following exception:\n",
      "\u001b[1;31mConnectError\u001b[0m                              Traceback (most recent call last)",
      "Cell \u001b[1;32mIn [2], line 2\u001b[0m\n\u001b[0;32m      1\u001b[0m \u001b[39mfrom\u001b[39;00m \u001b[39mtiled\u001b[39;00m\u001b[39m.\u001b[39;00m\u001b[39mclient\u001b[39;00m \u001b[39mimport\u001b[39;00m from_uri\n\u001b[1;32m----> 2\u001b[0m client \u001b[39m=\u001b[39m from_uri(\u001b[39m\"\u001b[39;49m\u001b[39mhttp://localhost:8000/api\u001b[39;49m\u001b[39m\"\u001b[39;49m)\n",
      "File \u001b[1;32mc:\\Users\\msega\\anaconda3\\envs\\aimm\\lib\\site-packages\\tiled\\client\\constructors.py:101\u001b[0m, in \u001b[0;36mfrom_uri\u001b[1;34m(uri, structure_clients, cache, offline, username, auth_provider, api_key, token_cache, verify, prompt_for_reauthentication, headers, timeout)\u001b[0m\n\u001b[0;32m     91\u001b[0m     timeout \u001b[39m=\u001b[39m httpx\u001b[39m.\u001b[39mTimeout(\u001b[39m*\u001b[39m\u001b[39m*\u001b[39mDEFAULT_TIMEOUT_PARAMS)\n\u001b[0;32m     93\u001b[0m client \u001b[39m=\u001b[39m httpx\u001b[39m.\u001b[39mClient(\n\u001b[0;32m     94\u001b[0m     base_url\u001b[39m=\u001b[39mbase_uri,\n\u001b[0;32m     95\u001b[0m     verify\u001b[39m=\u001b[39mverify,\n\u001b[1;32m   (...)\u001b[0m\n\u001b[0;32m     99\u001b[0m     params\u001b[39m=\u001b[39mparams,\n\u001b[0;32m    100\u001b[0m )\n\u001b[1;32m--> 101\u001b[0m context \u001b[39m=\u001b[39m Context(\n\u001b[0;32m    102\u001b[0m     client,\n\u001b[0;32m    103\u001b[0m     username\u001b[39m=\u001b[39;49musername,\n\u001b[0;32m    104\u001b[0m     auth_provider\u001b[39m=\u001b[39;49mauth_provider,\n\u001b[0;32m    105\u001b[0m     api_key\u001b[39m=\u001b[39;49mapi_key,\n\u001b[0;32m    106\u001b[0m     cache\u001b[39m=\u001b[39;49mcache,\n\u001b[0;32m    107\u001b[0m     offline\u001b[39m=\u001b[39;49moffline,\n\u001b[0;32m    108\u001b[0m     token_cache\u001b[39m=\u001b[39;49mtoken_cache,\n\u001b[0;32m    109\u001b[0m     prompt_for_reauthentication\u001b[39m=\u001b[39;49mprompt_for_reauthentication,\n\u001b[0;32m    110\u001b[0m )\n\u001b[0;32m    111\u001b[0m \u001b[39mreturn\u001b[39;00m from_context(context, structure_clients\u001b[39m=\u001b[39mstructure_clients)\n",
      "File \u001b[1;32mc:\\Users\\msega\\anaconda3\\envs\\aimm\\lib\\site-packages\\tiled\\client\\context.py:228\u001b[0m, in \u001b[0;36mContext.__init__\u001b[1;34m(self, client, username, auth_provider, api_key, cache, offline, token_cache, prompt_for_reauthentication, app)\u001b[0m\n\u001b[0;32m    223\u001b[0m \u001b[39mwith\u001b[39;00m \u001b[39mself\u001b[39m\u001b[39m.\u001b[39mdisable_cache(allow_read\u001b[39m=\u001b[39m\u001b[39mFalse\u001b[39;00m, allow_write\u001b[39m=\u001b[39m\u001b[39mTrue\u001b[39;00m):\n\u001b[0;32m    224\u001b[0m     \u001b[39m# Make this request manually to inject custom error handling.\u001b[39;00m\n\u001b[0;32m    225\u001b[0m     request \u001b[39m=\u001b[39m \u001b[39mself\u001b[39m\u001b[39m.\u001b[39m_client\u001b[39m.\u001b[39mbuild_request(\n\u001b[0;32m    226\u001b[0m         \u001b[39m\"\u001b[39m\u001b[39mGET\u001b[39m\u001b[39m\"\u001b[39m, \u001b[39m\"\u001b[39m\u001b[39m/\u001b[39m\u001b[39m\"\u001b[39m, params\u001b[39m=\u001b[39m{\u001b[39m\"\u001b[39m\u001b[39mroot_path\u001b[39m\u001b[39m\"\u001b[39m: \u001b[39mTrue\u001b[39;00m}\n\u001b[0;32m    227\u001b[0m     )\n\u001b[1;32m--> 228\u001b[0m     response \u001b[39m=\u001b[39m \u001b[39mself\u001b[39;49m\u001b[39m.\u001b[39;49m_client\u001b[39m.\u001b[39;49msend(request)\n\u001b[0;32m    229\u001b[0m     \u001b[39m# Handle case where user pastes in a link like\u001b[39;00m\n\u001b[0;32m    230\u001b[0m     \u001b[39m# https://example.com/some/subpath/node/metadata/a/b/c\u001b[39;00m\n\u001b[0;32m    231\u001b[0m     \u001b[39m# and it requires authentication. The 401 response includes a header\u001b[39;00m\n\u001b[0;32m    232\u001b[0m     \u001b[39m# that points us to https://examples.com/some/subpath where we\u001b[39;00m\n\u001b[0;32m    233\u001b[0m     \u001b[39m# can see the authentication providers and their endpoints.\u001b[39;00m\n\u001b[0;32m    234\u001b[0m     \u001b[39mif\u001b[39;00m response\u001b[39m.\u001b[39mstatus_code \u001b[39m==\u001b[39m \u001b[39m401\u001b[39m:\n",
      "File \u001b[1;32mc:\\Users\\msega\\anaconda3\\envs\\aimm\\lib\\site-packages\\httpx\\_client.py:902\u001b[0m, in \u001b[0;36mClient.send\u001b[1;34m(self, request, stream, auth, follow_redirects)\u001b[0m\n\u001b[0;32m    894\u001b[0m follow_redirects \u001b[39m=\u001b[39m (\n\u001b[0;32m    895\u001b[0m     \u001b[39mself\u001b[39m\u001b[39m.\u001b[39mfollow_redirects\n\u001b[0;32m    896\u001b[0m     \u001b[39mif\u001b[39;00m \u001b[39misinstance\u001b[39m(follow_redirects, UseClientDefault)\n\u001b[0;32m    897\u001b[0m     \u001b[39melse\u001b[39;00m follow_redirects\n\u001b[0;32m    898\u001b[0m )\n\u001b[0;32m    900\u001b[0m auth \u001b[39m=\u001b[39m \u001b[39mself\u001b[39m\u001b[39m.\u001b[39m_build_request_auth(request, auth)\n\u001b[1;32m--> 902\u001b[0m response \u001b[39m=\u001b[39m \u001b[39mself\u001b[39;49m\u001b[39m.\u001b[39;49m_send_handling_auth(\n\u001b[0;32m    903\u001b[0m     request,\n\u001b[0;32m    904\u001b[0m     auth\u001b[39m=\u001b[39;49mauth,\n\u001b[0;32m    905\u001b[0m     follow_redirects\u001b[39m=\u001b[39;49mfollow_redirects,\n\u001b[0;32m    906\u001b[0m     history\u001b[39m=\u001b[39;49m[],\n\u001b[0;32m    907\u001b[0m )\n\u001b[0;32m    908\u001b[0m \u001b[39mtry\u001b[39;00m:\n\u001b[0;32m    909\u001b[0m     \u001b[39mif\u001b[39;00m \u001b[39mnot\u001b[39;00m stream:\n",
      "File \u001b[1;32mc:\\Users\\msega\\anaconda3\\envs\\aimm\\lib\\site-packages\\httpx\\_client.py:930\u001b[0m, in \u001b[0;36mClient._send_handling_auth\u001b[1;34m(self, request, auth, follow_redirects, history)\u001b[0m\n\u001b[0;32m    927\u001b[0m request \u001b[39m=\u001b[39m \u001b[39mnext\u001b[39m(auth_flow)\n\u001b[0;32m    929\u001b[0m \u001b[39mwhile\u001b[39;00m \u001b[39mTrue\u001b[39;00m:\n\u001b[1;32m--> 930\u001b[0m     response \u001b[39m=\u001b[39m \u001b[39mself\u001b[39;49m\u001b[39m.\u001b[39;49m_send_handling_redirects(\n\u001b[0;32m    931\u001b[0m         request,\n\u001b[0;32m    932\u001b[0m         follow_redirects\u001b[39m=\u001b[39;49mfollow_redirects,\n\u001b[0;32m    933\u001b[0m         history\u001b[39m=\u001b[39;49mhistory,\n\u001b[0;32m    934\u001b[0m     )\n\u001b[0;32m    935\u001b[0m     \u001b[39mtry\u001b[39;00m:\n\u001b[0;32m    936\u001b[0m         \u001b[39mtry\u001b[39;00m:\n",
      "File \u001b[1;32mc:\\Users\\msega\\anaconda3\\envs\\aimm\\lib\\site-packages\\httpx\\_client.py:967\u001b[0m, in \u001b[0;36mClient._send_handling_redirects\u001b[1;34m(self, request, follow_redirects, history)\u001b[0m\n\u001b[0;32m    964\u001b[0m \u001b[39mfor\u001b[39;00m hook \u001b[39min\u001b[39;00m \u001b[39mself\u001b[39m\u001b[39m.\u001b[39m_event_hooks[\u001b[39m\"\u001b[39m\u001b[39mrequest\u001b[39m\u001b[39m\"\u001b[39m]:\n\u001b[0;32m    965\u001b[0m     hook(request)\n\u001b[1;32m--> 967\u001b[0m response \u001b[39m=\u001b[39m \u001b[39mself\u001b[39;49m\u001b[39m.\u001b[39;49m_send_single_request(request)\n\u001b[0;32m    968\u001b[0m \u001b[39mtry\u001b[39;00m:\n\u001b[0;32m    969\u001b[0m     \u001b[39mfor\u001b[39;00m hook \u001b[39min\u001b[39;00m \u001b[39mself\u001b[39m\u001b[39m.\u001b[39m_event_hooks[\u001b[39m\"\u001b[39m\u001b[39mresponse\u001b[39m\u001b[39m\"\u001b[39m]:\n",
      "File \u001b[1;32mc:\\Users\\msega\\anaconda3\\envs\\aimm\\lib\\site-packages\\httpx\\_client.py:1003\u001b[0m, in \u001b[0;36mClient._send_single_request\u001b[1;34m(self, request)\u001b[0m\n\u001b[0;32m    998\u001b[0m     \u001b[39mraise\u001b[39;00m \u001b[39mRuntimeError\u001b[39;00m(\n\u001b[0;32m    999\u001b[0m         \u001b[39m\"\u001b[39m\u001b[39mAttempted to send an async request with a sync Client instance.\u001b[39m\u001b[39m\"\u001b[39m\n\u001b[0;32m   1000\u001b[0m     )\n\u001b[0;32m   1002\u001b[0m \u001b[39mwith\u001b[39;00m request_context(request\u001b[39m=\u001b[39mrequest):\n\u001b[1;32m-> 1003\u001b[0m     response \u001b[39m=\u001b[39m transport\u001b[39m.\u001b[39;49mhandle_request(request)\n\u001b[0;32m   1005\u001b[0m \u001b[39massert\u001b[39;00m \u001b[39misinstance\u001b[39m(response\u001b[39m.\u001b[39mstream, SyncByteStream)\n\u001b[0;32m   1007\u001b[0m response\u001b[39m.\u001b[39mrequest \u001b[39m=\u001b[39m request\n",
      "File \u001b[1;32mc:\\Users\\msega\\anaconda3\\envs\\aimm\\lib\\site-packages\\httpx\\_transports\\default.py:218\u001b[0m, in \u001b[0;36mHTTPTransport.handle_request\u001b[1;34m(self, request)\u001b[0m\n\u001b[0;32m    205\u001b[0m req \u001b[39m=\u001b[39m httpcore\u001b[39m.\u001b[39mRequest(\n\u001b[0;32m    206\u001b[0m     method\u001b[39m=\u001b[39mrequest\u001b[39m.\u001b[39mmethod,\n\u001b[0;32m    207\u001b[0m     url\u001b[39m=\u001b[39mhttpcore\u001b[39m.\u001b[39mURL(\n\u001b[1;32m   (...)\u001b[0m\n\u001b[0;32m    215\u001b[0m     extensions\u001b[39m=\u001b[39mrequest\u001b[39m.\u001b[39mextensions,\n\u001b[0;32m    216\u001b[0m )\n\u001b[0;32m    217\u001b[0m \u001b[39mwith\u001b[39;00m map_httpcore_exceptions():\n\u001b[1;32m--> 218\u001b[0m     resp \u001b[39m=\u001b[39m \u001b[39mself\u001b[39m\u001b[39m.\u001b[39m_pool\u001b[39m.\u001b[39mhandle_request(req)\n\u001b[0;32m    220\u001b[0m \u001b[39massert\u001b[39;00m \u001b[39misinstance\u001b[39m(resp\u001b[39m.\u001b[39mstream, typing\u001b[39m.\u001b[39mIterable)\n\u001b[0;32m    222\u001b[0m \u001b[39mreturn\u001b[39;00m Response(\n\u001b[0;32m    223\u001b[0m     status_code\u001b[39m=\u001b[39mresp\u001b[39m.\u001b[39mstatus,\n\u001b[0;32m    224\u001b[0m     headers\u001b[39m=\u001b[39mresp\u001b[39m.\u001b[39mheaders,\n\u001b[0;32m    225\u001b[0m     stream\u001b[39m=\u001b[39mResponseStream(resp\u001b[39m.\u001b[39mstream),\n\u001b[0;32m    226\u001b[0m     extensions\u001b[39m=\u001b[39mresp\u001b[39m.\u001b[39mextensions,\n\u001b[0;32m    227\u001b[0m )\n",
      "File \u001b[1;32mc:\\Users\\msega\\anaconda3\\envs\\aimm\\lib\\contextlib.py:137\u001b[0m, in \u001b[0;36m_GeneratorContextManager.__exit__\u001b[1;34m(self, typ, value, traceback)\u001b[0m\n\u001b[0;32m    135\u001b[0m     value \u001b[39m=\u001b[39m typ()\n\u001b[0;32m    136\u001b[0m \u001b[39mtry\u001b[39;00m:\n\u001b[1;32m--> 137\u001b[0m     \u001b[39mself\u001b[39;49m\u001b[39m.\u001b[39;49mgen\u001b[39m.\u001b[39;49mthrow(typ, value, traceback)\n\u001b[0;32m    138\u001b[0m \u001b[39mexcept\u001b[39;00m \u001b[39mStopIteration\u001b[39;00m \u001b[39mas\u001b[39;00m exc:\n\u001b[0;32m    139\u001b[0m     \u001b[39m# Suppress StopIteration *unless* it's the same exception that\u001b[39;00m\n\u001b[0;32m    140\u001b[0m     \u001b[39m# was passed to throw().  This prevents a StopIteration\u001b[39;00m\n\u001b[0;32m    141\u001b[0m     \u001b[39m# raised inside the \"with\" statement from being suppressed.\u001b[39;00m\n\u001b[0;32m    142\u001b[0m     \u001b[39mreturn\u001b[39;00m exc \u001b[39mis\u001b[39;00m \u001b[39mnot\u001b[39;00m value\n",
      "File \u001b[1;32mc:\\Users\\msega\\anaconda3\\envs\\aimm\\lib\\site-packages\\httpx\\_transports\\default.py:77\u001b[0m, in \u001b[0;36mmap_httpcore_exceptions\u001b[1;34m()\u001b[0m\n\u001b[0;32m     74\u001b[0m     \u001b[39mraise\u001b[39;00m\n\u001b[0;32m     76\u001b[0m message \u001b[39m=\u001b[39m \u001b[39mstr\u001b[39m(exc)\n\u001b[1;32m---> 77\u001b[0m \u001b[39mraise\u001b[39;00m mapped_exc(message) \u001b[39mfrom\u001b[39;00m \u001b[39mexc\u001b[39;00m\n",
      "\u001b[1;31mConnectError\u001b[0m: [WinError 10061] No connection could be made because the target machine actively refused it"
     ]
    }
   ],
   "source": [
    "from tiled.client import from_uri\n",
    "client = from_uri(\"http://localhost:8000/api\")"
   ]
  },
  {
   "cell_type": "code",
   "execution_count": 4,
   "metadata": {},
   "outputs": [
    {
     "name": "stdout",
     "output_type": "stream",
     "text": [
      "Data Path: AIMMDB\\data\\feff\\65272_C_007\n"
     ]
    }
   ],
   "source": [
    "from pathlib import Path\n",
    "DATA_PATH = Path(\"aimmdb/data/feff/65272_C_007\")\n",
    "print(\"Data Path:\", DATA_PATH)"
   ]
  },
  {
   "cell_type": "code",
   "execution_count": 7,
   "metadata": {},
   "outputs": [
    {
     "ename": "FileNotFoundError",
     "evalue": "[Errno 2] No such file or directory: 'AIMMDB\\\\data\\\\feff\\\\65272_C_007\\\\xmu.dat'",
     "output_type": "error",
     "traceback": [
      "\u001b[1;31m---------------------------------------------------------------------------\u001b[0m",
      "\u001b[1;31mFileNotFoundError\u001b[0m                         Traceback (most recent call last)",
      "Cell \u001b[1;32mIn [7], line 3\u001b[0m\n\u001b[0;32m      1\u001b[0m \u001b[39mfrom\u001b[39;00m \u001b[39mload_FEFF_Data\u001b[39;00m \u001b[39mimport\u001b[39;00m load_feff_data\n\u001b[1;32m----> 3\u001b[0m load_feff_data(DATA_PATH)\n",
      "File \u001b[1;32mc:\\Users\\msega\\aimmdb\\ingest\\load_FEFF_Data.py:37\u001b[0m, in \u001b[0;36mload_feff_data\u001b[1;34m(data_path, verbose)\u001b[0m\n\u001b[0;32m     34\u001b[0m feff_out \u001b[39m=\u001b[39m data_path \u001b[39m/\u001b[39m \u001b[39m\"\u001b[39m\u001b[39mfeff.out\u001b[39m\u001b[39m\"\u001b[39m\n\u001b[0;32m     35\u001b[0m xmu_dat \u001b[39m=\u001b[39m data_path \u001b[39m/\u001b[39m \u001b[39m\"\u001b[39m\u001b[39mxmu.dat\u001b[39m\u001b[39m\"\u001b[39m\n\u001b[1;32m---> 37\u001b[0m data \u001b[39m=\u001b[39m pd\u001b[39m.\u001b[39;49mread_csv(\n\u001b[0;32m     38\u001b[0m     xmu_dat,\n\u001b[0;32m     39\u001b[0m     sep\u001b[39m=\u001b[39;49m\u001b[39m\"\u001b[39;49m\u001b[39m\\\u001b[39;49m\u001b[39ms+\u001b[39;49m\u001b[39m\"\u001b[39;49m,\n\u001b[0;32m     40\u001b[0m     header\u001b[39m=\u001b[39;49m\u001b[39mNone\u001b[39;49;00m,\n\u001b[0;32m     41\u001b[0m     names\u001b[39m=\u001b[39;49m[\u001b[39m\"\u001b[39;49m\u001b[39momega\u001b[39;49m\u001b[39m\"\u001b[39;49m, \u001b[39m\"\u001b[39;49m\u001b[39me\u001b[39;49m\u001b[39m\"\u001b[39;49m, \u001b[39m\"\u001b[39;49m\u001b[39mk\u001b[39;49m\u001b[39m\"\u001b[39;49m, \u001b[39m\"\u001b[39;49m\u001b[39mmu\u001b[39;49m\u001b[39m\"\u001b[39;49m, \u001b[39m\"\u001b[39;49m\u001b[39mmu0\u001b[39;49m\u001b[39m\"\u001b[39;49m, \u001b[39m\"\u001b[39;49m\u001b[39mchi\u001b[39;49m\u001b[39m\"\u001b[39;49m],\n\u001b[0;32m     42\u001b[0m     comment\u001b[39m=\u001b[39;49m\u001b[39m\"\u001b[39;49m\u001b[39m#\u001b[39;49m\u001b[39m\"\u001b[39;49m,\n\u001b[0;32m     43\u001b[0m )\n\u001b[0;32m     45\u001b[0m metadata \u001b[39m=\u001b[39m {\n\u001b[0;32m     46\u001b[0m     \u001b[39m\"\u001b[39m\u001b[39mfeff.inp\u001b[39m\u001b[39m\"\u001b[39m: feff_inp\u001b[39m.\u001b[39mread_text(),\n\u001b[0;32m     47\u001b[0m     \u001b[39m\"\u001b[39m\u001b[39mfeff.out\u001b[39m\u001b[39m\"\u001b[39m: feff_out\u001b[39m.\u001b[39mread_text(),\n\u001b[0;32m     48\u001b[0m }\n\u001b[0;32m     50\u001b[0m dat \u001b[39m=\u001b[39m [\n\u001b[0;32m     51\u001b[0m     line\n\u001b[0;32m     52\u001b[0m     \u001b[39mfor\u001b[39;00m line \u001b[39min\u001b[39;00m xmu_dat\u001b[39m.\u001b[39mread_text()\u001b[39m.\u001b[39msplitlines()\n\u001b[0;32m     53\u001b[0m     \u001b[39mif\u001b[39;00m line\u001b[39m.\u001b[39mstartswith(\u001b[39m\"\u001b[39m\u001b[39m#\u001b[39m\u001b[39m\"\u001b[39m)\n\u001b[0;32m     54\u001b[0m ]\n",
      "File \u001b[1;32mc:\\Users\\msega\\anaconda3\\envs\\aimm\\lib\\site-packages\\pandas\\util\\_decorators.py:211\u001b[0m, in \u001b[0;36mdeprecate_kwarg.<locals>._deprecate_kwarg.<locals>.wrapper\u001b[1;34m(*args, **kwargs)\u001b[0m\n\u001b[0;32m    209\u001b[0m     \u001b[39melse\u001b[39;00m:\n\u001b[0;32m    210\u001b[0m         kwargs[new_arg_name] \u001b[39m=\u001b[39m new_arg_value\n\u001b[1;32m--> 211\u001b[0m \u001b[39mreturn\u001b[39;00m func(\u001b[39m*\u001b[39margs, \u001b[39m*\u001b[39m\u001b[39m*\u001b[39mkwargs)\n",
      "File \u001b[1;32mc:\\Users\\msega\\anaconda3\\envs\\aimm\\lib\\site-packages\\pandas\\util\\_decorators.py:317\u001b[0m, in \u001b[0;36mdeprecate_nonkeyword_arguments.<locals>.decorate.<locals>.wrapper\u001b[1;34m(*args, **kwargs)\u001b[0m\n\u001b[0;32m    311\u001b[0m \u001b[39mif\u001b[39;00m \u001b[39mlen\u001b[39m(args) \u001b[39m>\u001b[39m num_allow_args:\n\u001b[0;32m    312\u001b[0m     warnings\u001b[39m.\u001b[39mwarn(\n\u001b[0;32m    313\u001b[0m         msg\u001b[39m.\u001b[39mformat(arguments\u001b[39m=\u001b[39marguments),\n\u001b[0;32m    314\u001b[0m         \u001b[39mFutureWarning\u001b[39;00m,\n\u001b[0;32m    315\u001b[0m         stacklevel\u001b[39m=\u001b[39mfind_stack_level(inspect\u001b[39m.\u001b[39mcurrentframe()),\n\u001b[0;32m    316\u001b[0m     )\n\u001b[1;32m--> 317\u001b[0m \u001b[39mreturn\u001b[39;00m func(\u001b[39m*\u001b[39margs, \u001b[39m*\u001b[39m\u001b[39m*\u001b[39mkwargs)\n",
      "File \u001b[1;32mc:\\Users\\msega\\anaconda3\\envs\\aimm\\lib\\site-packages\\pandas\\io\\parsers\\readers.py:950\u001b[0m, in \u001b[0;36mread_csv\u001b[1;34m(filepath_or_buffer, sep, delimiter, header, names, index_col, usecols, squeeze, prefix, mangle_dupe_cols, dtype, engine, converters, true_values, false_values, skipinitialspace, skiprows, skipfooter, nrows, na_values, keep_default_na, na_filter, verbose, skip_blank_lines, parse_dates, infer_datetime_format, keep_date_col, date_parser, dayfirst, cache_dates, iterator, chunksize, compression, thousands, decimal, lineterminator, quotechar, quoting, doublequote, escapechar, comment, encoding, encoding_errors, dialect, error_bad_lines, warn_bad_lines, on_bad_lines, delim_whitespace, low_memory, memory_map, float_precision, storage_options)\u001b[0m\n\u001b[0;32m    935\u001b[0m kwds_defaults \u001b[39m=\u001b[39m _refine_defaults_read(\n\u001b[0;32m    936\u001b[0m     dialect,\n\u001b[0;32m    937\u001b[0m     delimiter,\n\u001b[1;32m   (...)\u001b[0m\n\u001b[0;32m    946\u001b[0m     defaults\u001b[39m=\u001b[39m{\u001b[39m\"\u001b[39m\u001b[39mdelimiter\u001b[39m\u001b[39m\"\u001b[39m: \u001b[39m\"\u001b[39m\u001b[39m,\u001b[39m\u001b[39m\"\u001b[39m},\n\u001b[0;32m    947\u001b[0m )\n\u001b[0;32m    948\u001b[0m kwds\u001b[39m.\u001b[39mupdate(kwds_defaults)\n\u001b[1;32m--> 950\u001b[0m \u001b[39mreturn\u001b[39;00m _read(filepath_or_buffer, kwds)\n",
      "File \u001b[1;32mc:\\Users\\msega\\anaconda3\\envs\\aimm\\lib\\site-packages\\pandas\\io\\parsers\\readers.py:605\u001b[0m, in \u001b[0;36m_read\u001b[1;34m(filepath_or_buffer, kwds)\u001b[0m\n\u001b[0;32m    602\u001b[0m _validate_names(kwds\u001b[39m.\u001b[39mget(\u001b[39m\"\u001b[39m\u001b[39mnames\u001b[39m\u001b[39m\"\u001b[39m, \u001b[39mNone\u001b[39;00m))\n\u001b[0;32m    604\u001b[0m \u001b[39m# Create the parser.\u001b[39;00m\n\u001b[1;32m--> 605\u001b[0m parser \u001b[39m=\u001b[39m TextFileReader(filepath_or_buffer, \u001b[39m*\u001b[39m\u001b[39m*\u001b[39mkwds)\n\u001b[0;32m    607\u001b[0m \u001b[39mif\u001b[39;00m chunksize \u001b[39mor\u001b[39;00m iterator:\n\u001b[0;32m    608\u001b[0m     \u001b[39mreturn\u001b[39;00m parser\n",
      "File \u001b[1;32mc:\\Users\\msega\\anaconda3\\envs\\aimm\\lib\\site-packages\\pandas\\io\\parsers\\readers.py:1442\u001b[0m, in \u001b[0;36mTextFileReader.__init__\u001b[1;34m(self, f, engine, **kwds)\u001b[0m\n\u001b[0;32m   1439\u001b[0m     \u001b[39mself\u001b[39m\u001b[39m.\u001b[39moptions[\u001b[39m\"\u001b[39m\u001b[39mhas_index_names\u001b[39m\u001b[39m\"\u001b[39m] \u001b[39m=\u001b[39m kwds[\u001b[39m\"\u001b[39m\u001b[39mhas_index_names\u001b[39m\u001b[39m\"\u001b[39m]\n\u001b[0;32m   1441\u001b[0m \u001b[39mself\u001b[39m\u001b[39m.\u001b[39mhandles: IOHandles \u001b[39m|\u001b[39m \u001b[39mNone\u001b[39;00m \u001b[39m=\u001b[39m \u001b[39mNone\u001b[39;00m\n\u001b[1;32m-> 1442\u001b[0m \u001b[39mself\u001b[39m\u001b[39m.\u001b[39m_engine \u001b[39m=\u001b[39m \u001b[39mself\u001b[39;49m\u001b[39m.\u001b[39;49m_make_engine(f, \u001b[39mself\u001b[39;49m\u001b[39m.\u001b[39;49mengine)\n",
      "File \u001b[1;32mc:\\Users\\msega\\anaconda3\\envs\\aimm\\lib\\site-packages\\pandas\\io\\parsers\\readers.py:1729\u001b[0m, in \u001b[0;36mTextFileReader._make_engine\u001b[1;34m(self, f, engine)\u001b[0m\n\u001b[0;32m   1727\u001b[0m     is_text \u001b[39m=\u001b[39m \u001b[39mFalse\u001b[39;00m\n\u001b[0;32m   1728\u001b[0m     mode \u001b[39m=\u001b[39m \u001b[39m\"\u001b[39m\u001b[39mrb\u001b[39m\u001b[39m\"\u001b[39m\n\u001b[1;32m-> 1729\u001b[0m \u001b[39mself\u001b[39m\u001b[39m.\u001b[39mhandles \u001b[39m=\u001b[39m get_handle(\n\u001b[0;32m   1730\u001b[0m     f,\n\u001b[0;32m   1731\u001b[0m     mode,\n\u001b[0;32m   1732\u001b[0m     encoding\u001b[39m=\u001b[39;49m\u001b[39mself\u001b[39;49m\u001b[39m.\u001b[39;49moptions\u001b[39m.\u001b[39;49mget(\u001b[39m\"\u001b[39;49m\u001b[39mencoding\u001b[39;49m\u001b[39m\"\u001b[39;49m, \u001b[39mNone\u001b[39;49;00m),\n\u001b[0;32m   1733\u001b[0m     compression\u001b[39m=\u001b[39;49m\u001b[39mself\u001b[39;49m\u001b[39m.\u001b[39;49moptions\u001b[39m.\u001b[39;49mget(\u001b[39m\"\u001b[39;49m\u001b[39mcompression\u001b[39;49m\u001b[39m\"\u001b[39;49m, \u001b[39mNone\u001b[39;49;00m),\n\u001b[0;32m   1734\u001b[0m     memory_map\u001b[39m=\u001b[39;49m\u001b[39mself\u001b[39;49m\u001b[39m.\u001b[39;49moptions\u001b[39m.\u001b[39;49mget(\u001b[39m\"\u001b[39;49m\u001b[39mmemory_map\u001b[39;49m\u001b[39m\"\u001b[39;49m, \u001b[39mFalse\u001b[39;49;00m),\n\u001b[0;32m   1735\u001b[0m     is_text\u001b[39m=\u001b[39;49mis_text,\n\u001b[0;32m   1736\u001b[0m     errors\u001b[39m=\u001b[39;49m\u001b[39mself\u001b[39;49m\u001b[39m.\u001b[39;49moptions\u001b[39m.\u001b[39;49mget(\u001b[39m\"\u001b[39;49m\u001b[39mencoding_errors\u001b[39;49m\u001b[39m\"\u001b[39;49m, \u001b[39m\"\u001b[39;49m\u001b[39mstrict\u001b[39;49m\u001b[39m\"\u001b[39;49m),\n\u001b[0;32m   1737\u001b[0m     storage_options\u001b[39m=\u001b[39;49m\u001b[39mself\u001b[39;49m\u001b[39m.\u001b[39;49moptions\u001b[39m.\u001b[39;49mget(\u001b[39m\"\u001b[39;49m\u001b[39mstorage_options\u001b[39;49m\u001b[39m\"\u001b[39;49m, \u001b[39mNone\u001b[39;49;00m),\n\u001b[0;32m   1738\u001b[0m )\n\u001b[0;32m   1739\u001b[0m \u001b[39massert\u001b[39;00m \u001b[39mself\u001b[39m\u001b[39m.\u001b[39mhandles \u001b[39mis\u001b[39;00m \u001b[39mnot\u001b[39;00m \u001b[39mNone\u001b[39;00m\n\u001b[0;32m   1740\u001b[0m f \u001b[39m=\u001b[39m \u001b[39mself\u001b[39m\u001b[39m.\u001b[39mhandles\u001b[39m.\u001b[39mhandle\n",
      "File \u001b[1;32mc:\\Users\\msega\\anaconda3\\envs\\aimm\\lib\\site-packages\\pandas\\io\\common.py:857\u001b[0m, in \u001b[0;36mget_handle\u001b[1;34m(path_or_buf, mode, encoding, compression, memory_map, is_text, errors, storage_options)\u001b[0m\n\u001b[0;32m    852\u001b[0m \u001b[39melif\u001b[39;00m \u001b[39misinstance\u001b[39m(handle, \u001b[39mstr\u001b[39m):\n\u001b[0;32m    853\u001b[0m     \u001b[39m# Check whether the filename is to be opened in binary mode.\u001b[39;00m\n\u001b[0;32m    854\u001b[0m     \u001b[39m# Binary mode does not support 'encoding' and 'newline'.\u001b[39;00m\n\u001b[0;32m    855\u001b[0m     \u001b[39mif\u001b[39;00m ioargs\u001b[39m.\u001b[39mencoding \u001b[39mand\u001b[39;00m \u001b[39m\"\u001b[39m\u001b[39mb\u001b[39m\u001b[39m\"\u001b[39m \u001b[39mnot\u001b[39;00m \u001b[39min\u001b[39;00m ioargs\u001b[39m.\u001b[39mmode:\n\u001b[0;32m    856\u001b[0m         \u001b[39m# Encoding\u001b[39;00m\n\u001b[1;32m--> 857\u001b[0m         handle \u001b[39m=\u001b[39m \u001b[39mopen\u001b[39;49m(\n\u001b[0;32m    858\u001b[0m             handle,\n\u001b[0;32m    859\u001b[0m             ioargs\u001b[39m.\u001b[39;49mmode,\n\u001b[0;32m    860\u001b[0m             encoding\u001b[39m=\u001b[39;49mioargs\u001b[39m.\u001b[39;49mencoding,\n\u001b[0;32m    861\u001b[0m             errors\u001b[39m=\u001b[39;49merrors,\n\u001b[0;32m    862\u001b[0m             newline\u001b[39m=\u001b[39;49m\u001b[39m\"\u001b[39;49m\u001b[39m\"\u001b[39;49m,\n\u001b[0;32m    863\u001b[0m         )\n\u001b[0;32m    864\u001b[0m     \u001b[39melse\u001b[39;00m:\n\u001b[0;32m    865\u001b[0m         \u001b[39m# Binary mode\u001b[39;00m\n\u001b[0;32m    866\u001b[0m         handle \u001b[39m=\u001b[39m \u001b[39mopen\u001b[39m(handle, ioargs\u001b[39m.\u001b[39mmode)\n",
      "\u001b[1;31mFileNotFoundError\u001b[0m: [Errno 2] No such file or directory: 'AIMMDB\\\\data\\\\feff\\\\65272_C_007\\\\xmu.dat'"
     ]
    }
   ],
   "source": [
    "from load_FEFF_Data import load_feff_data\n",
    "\n",
    "load_feff_data(DATA_PATH)"
   ]
  },
  {
   "cell_type": "code",
   "execution_count": 51,
   "metadata": {},
   "outputs": [
    {
     "name": "stdout",
     "output_type": "stream",
     "text": [
      "Files opened:  D:\\BNL\\AIMMDB\\FEFF_Data\\65272_C_007\\feff.inp D:\\BNL\\AIMMDB\\FEFF_Data\\65272_C_007\\feff.out D:\\BNL\\AIMMDB\\FEFF_Data\\65272_C_007\\xmu.dat\n"
     ]
    },
    {
     "data": {
      "text/plain": [
       "(      omega       e     k        mu       mu0       chi\n",
       " 0   274.278 -11.491 -0.80  0.008794  0.011493 -0.002699\n",
       " 1   274.741 -11.028 -0.72  0.010453  0.014542 -0.004089\n",
       " 2   275.156 -10.613 -0.64  0.012638  0.018913 -0.006275\n",
       " 3   275.521 -10.247 -0.56  0.015644  0.025455 -0.009811\n",
       " 4   275.838  -9.930 -0.48  0.020026  0.035790 -0.015765\n",
       " ..      ...     ...   ...       ...       ...       ...\n",
       " 95  325.002  39.234  3.56  0.981847  1.006860 -0.025010\n",
       " 96  326.094  40.325  3.60  0.986115  1.001850 -0.015738\n",
       " 97  327.197  41.428  3.64  0.989862  0.996706 -0.006844\n",
       " 98  328.313  42.544  3.68  0.992953  0.991381  0.001572\n",
       " 99  329.440  43.672  3.72  0.995197  0.985933  0.009264\n",
       " \n",
       " [100 rows x 6 columns],\n",
       " {'feff.inp': 'TITLE 65272_C_007\\n\\nEDGE      K\\nS02       1.0\\nCOREHOLE  RPA\\nCONTROL   1 1 1 1 1 1\\n\\nXANES     4 0.04 0.1\\n\\nFMS       9.0\\nEXCHANGE  0 0.0 0.0 2\\nSCF       7.0 1 100 0.2 3\\nRPATH     -1\\n\\nPOTENTIALS\\n*\\tipot\\tZ\\telement\\tl_scmt\\tl_fms\\n0\\t6\\tC\\t-1\\t-1\\t8\\n1\\t8\\tO\\t-1\\t-1\\t1\\n2\\t1\\tH\\t-1\\t-1\\t14\\n3\\t6\\tC\\t-1\\t-1\\t8\\n\\nATOMS\\n0.11604509 1.38784311 0.13505013 1\\n0.20666659 -0.06290667 0.03415119 3\\n0.94990656 -0.55278239 -1.02579164 3\\n1.29005187 -0.84456617 0.37110379 3\\n-1.29324947 -0.72339127 0.13453590 3\\n-1.97009972 -0.32847353 1.56467581 3\\n-3.42889944 -0.78651651 1.14860359 3\\n-3.77383154 0.00398307 -0.11424171 0\\n-2.22576479 0.04473701 -0.80950366 3\\n0.04259256 1.50349635 1.04473692 2\\n0.73134101 -1.30930483 -1.56407524 2\\n1.61476561 0.19846610 -1.46760323 2\\n1.99713078 -0.31513827 1.00205616 2\\n1.06157229 -1.96780200 0.86736120 2\\n-1.18655214 -1.78808606 -0.07935984 2\\n-1.57211827 -1.09624803 2.18470682 2\\n-1.77161235 0.63742451 1.86021944 2\\n-3.72126728 -1.82168908 1.09559373 2\\n-4.04110075 -0.32200572 1.99098428 2\\n-4.48166510 -0.68255787 -0.81378802 2\\n-4.07898758 1.08233018 -0.08022361 2\\n-1.91391821 0.99342510 -1.10212711 2\\n-2.35106517 -0.44231706 -1.87892007 2\\nEND\\n',\n",
       "  'feff.out': \"### feff starts at Mon Aug 15 11:00:04 EDT 2022\\n### Serial version\\n### FeffPath is /sdcc/u/mcarbone/software/JFEFF/hsw/feff90/linux\\n \\nLaunching FEFF version FEFF 9.9.1\\nCore hole lifetime is   0.087 eV.\\nYour calculation:\\n 65272_C_007\\nC K edge XANES using RPA corehole.\\nUsing:     * Self-Consistent Field potentials\\nUsing cards:   ATOMS CONTROL EXCHANGE TITLE RPATH POTENTIALS XANES EDGE SCF FMS S02 COREHOLE\\n\\n :WARNING  TWO ATOMS VERY CLOSE TOGETHER. CHECK INPUT.\\n atoms        1      10 distance   0.91995E+00 Angstrom\\n    1  1.16045E-01  1.38784E+00  1.35050E-01 Z=   8\\n   10  4.25926E-02  1.50350E+00  1.04474E+00 Z=   1\\nCalculating atomic potentials ...\\n    overlapped atomic potential and density for unique potential    0\\n    overlapped atomic potential and density for unique potential    1\\n    overlapped atomic potential and density for unique potential    2\\n    overlapped atomic potential and density for unique potential    3\\nDone with module: atomic potentials.\\n\\nCalculating SCF potentials ...\\nFEFF-serial using 1 thread.\\nMuffin tin radii and interstitial parameters [bohr]:\\ntype, norman radius, muffin tin, overlap factor\\n    0  1.13638E+00  9.29428E-01  1.15000E+00\\n    1  1.06795E+00  8.35957E-01  1.15000E+00\\n    2  9.74431E-01  8.01033E-01  1.15000E+00\\n    3  1.11495E+00  9.03613E-01  1.15000E+00\\nCore-valence separation energy:  ecv=   -40.000 eV\\nInitial Fermi level:              mu=     4.233 eV\\nSCF ITERATION NUMBER  1\\n     point #   1  energy = -40.000\\nFMS for a cluster of   23 atoms around atom type   0\\n     point #  20  energy = -28.920\\n     point #  40  energy = -12.611\\n     point #  60  energy =  -9.617\\n     point #  80  energy =  -9.317\\nNew Fermi level:    mu=  -9.303 eV  Charge distance=  0.0299 (partial c.d.=  4.0449)\\nnegative density   2  -24.517 - usually harmless precision error, but check DOS if it persists\\nnegative density   2   -6.869 - usually harmless precision error, but check DOS if it persists\\nnegative density   2   -1.302 - usually harmless precision error, but check DOS if it persists\\nSCF ITERATION NUMBER  1\\n     point #   1  energy = -40.000\\nFMS for a cluster of   23 atoms around atom type   0\\n     point #  20  energy = -28.745\\n     point #  40  energy =  -9.303\\n     point #  60  energy =  -9.241\\nNew Fermi level:    mu=  -9.191 eV  Charge distance=  0.0199 (partial c.d.=  0.0449)\\nnegative density   2  -47.433 - usually harmless precision error, but check DOS if it persists\\nnegative density   2  -15.613 - usually harmless precision error, but check DOS if it persists\\nnegative density   2   -5.581 - usually harmless precision error, but check DOS if it persists\\nnegative density   2   -0.912 - usually harmless precision error, but check DOS if it persists\\nSCF ITERATION NUMBER  1\\n     point #   1  energy = -40.000\\nFMS for a cluster of   23 atoms around atom type   0\\n     point #  20  energy = -28.704\\n     point #  40  energy =  -9.191\\n     point #  60  energy =  -9.129\\nNew Fermi level:    mu=  -9.121 eV  Charge distance=  0.0134 (partial c.d.=  0.0120)\\nnegative density   2  -65.691 - usually harmless precision error, but check DOS if it persists\\nnegative density   2  -22.544 - usually harmless precision error, but check DOS if it persists\\nnegative density   2   -8.961 - usually harmless precision error, but check DOS if it persists\\nnegative density   2   -2.641 - usually harmless precision error, but check DOS if it persists\\nSCF ITERATION NUMBER  2\\n     point #   1  energy = -40.000\\n     point #  20  energy = -28.678\\n     point #  40  energy =  -9.121\\nNew Fermi level:    mu=  -9.080 eV  Charge distance=  0.0411 (partial c.d.=  0.0078)\\nnegative density   2 -131.390 - usually harmless precision error, but check DOS if it persists\\nnegative density   2  -47.430 - usually harmless precision error, but check DOS if it persists\\nnegative density   2  -21.071 - usually harmless precision error, but check DOS if it persists\\nnegative density   2   -8.813 - usually harmless precision error, but check DOS if it persists\\nnegative density   2   -2.852 - usually harmless precision error, but check DOS if it persists\\nnegative density   3 -551.622 - usually harmless precision error, but check DOS if it persists\\nSCF ITERATION NUMBER  3\\n     point #   1  energy = -40.000\\n     point #  20  energy = -29.028\\n     point #  40  energy =  -9.080\\n     point #  60  energy =  -9.030\\nNew Fermi level:    mu=  -8.975 eV  Charge distance=  0.0038 (partial c.d.=  0.0229)\\nnegative density   2 -132.230 - usually harmless precision error, but check DOS if it persists\\nnegative density   2  -47.722 - usually harmless precision error, but check DOS if it persists\\nnegative density   2  -21.195 - usually harmless precision error, but check DOS if it persists\\nnegative density   2   -8.861 - usually harmless precision error, but check DOS if it persists\\nnegative density   2   -2.864 - usually harmless precision error, but check DOS if it persists\\nnegative density   3 -574.716 - usually harmless precision error, but check DOS if it persists\\nSCF ITERATION NUMBER  4\\n     point #   1  energy = -40.000\\n     point #  20  energy = -28.991\\n     point #  40  energy =  -8.975\\nNew Fermi level:    mu=  -9.001 eV  Charge distance=  0.0077 (partial c.d.=  0.0025)\\nnegative density   2 -132.973 - usually harmless precision error, but check DOS if it persists\\nnegative density   2  -47.991 - usually harmless precision error, but check DOS if it persists\\nnegative density   2  -21.294 - usually harmless precision error, but check DOS if it persists\\nnegative density   2   -8.882 - usually harmless precision error, but check DOS if it persists\\nnegative density   2   -2.851 - usually harmless precision error, but check DOS if it persists\\nnegative density   3 -616.926 - usually harmless precision error, but check DOS if it persists\\nSCF ITERATION NUMBER  5\\n     point #   1  energy = -40.000\\n     point #  20  energy = -29.000\\n     point #  40  energy =  -9.001\\n     point #  60  energy =  -9.051\\nNew Fermi level:    mu=  -9.053 eV  Charge distance=  0.0002 (partial c.d.=  0.0050)\\nnegative density   2 -132.433 - usually harmless precision error, but check DOS if it persists\\nnegative density   2  -47.816 - usually harmless precision error, but check DOS if it persists\\nnegative density   2  -21.210 - usually harmless precision error, but check DOS if it persists\\nnegative density   2   -8.839 - usually harmless precision error, but check DOS if it persists\\nnegative density   2   -2.828 - usually harmless precision error, but check DOS if it persists\\nnegative density   3 -617.614 - usually harmless precision error, but check DOS if it persists\\nSCF ITERATION NUMBER  6\\n     point #   1  energy = -40.000\\n     point #  20  energy = -29.019\\n     point #  40  energy =  -9.053\\nNew Fermi level:    mu=  -9.052 eV  Charge distance=  0.0004 (partial c.d.=  0.0001)\\nElectronic configuration\\n  type     l     N_el\\n     0     0    1.408\\n     0     1    2.506\\n     0     2    0.179\\n     0     3    0.000\\n     1     0    1.845\\n     1     1    4.086\\n     1     2    0.087\\n     1     3    0.000\\n     2     0    0.795\\n     2     1    0.113\\n     2     2    0.000\\n     2     3    0.000\\n     3     0    1.396\\n     3     1    2.473\\n     3     2    0.197\\n     3     3    0.000\\nCharge transfer:  type  charge\\n       0    0.093\\n       1    0.018\\n       2   -0.092\\n       3    0.066\\nConvergence reached in    6 iterations.\\nDone with module: potentials.\\n\\nCalculating screened core-hole potential ...\\nFMS for a cluster of   15 atoms around iph =   0\\n    0% of energy integration\\n   20%\\n   40%\\n   60%\\n   80%\\n  100%\\nPreparing response function.\\nComputing (1 - K Chi0)^-1 v_ch\\nDone with module: screened core-hole potential.\\n\\nCalculating cross-section and phases ...\\n    absorption cross section\\n x0,dx,rnrm,inrm,jnrm   8.80000000000000       5.000000000000000E-002\\n   2.14744258699983              192         193\\n    phase shifts for unique potential    0\\n    phase shifts for unique potential    1\\n    phase shifts for unique potential    2\\n    phase shifts for unique potential    3\\nDone with module: cross-section and phases (XSPH).\\n\\nFMS calculation of full Green's function ...\\nFEFF-serial using 1 thread.\\nUsing   114 energy points.\\nxprep done\\nFMS for a cluster of   23 atoms\\nEnergy point    1/ 114\\nEnergy point   10/ 114\\nEnergy point   20/ 114\\nEnergy point   30/ 114\\nEnergy point   40/ 114\\nEnergy point   50/ 114\\nEnergy point   60/ 114\\nEnergy point   70/ 114\\nEnergy point   80/ 114\\nEnergy point   90/ 114\\nEnergy point  100/ 114\\nEnergy point  110/ 114\\nDone with module: FMS.\\n\\nMKGTR: Tracing over Green's function ...\\nDone with module: MKGTR.\\n\\nPathfinder: finding scattering paths...\\nPreparing plane wave scattering amplitudes\\nSearching for paths\\nEliminating path degeneracies\\n0 paths retained.\\nDone with module: pathfinder.\\n\\nCalculating EXAFS parameters ...\\nDone with module: EXAFS parameters (GENFMT).\\n\\nCalculating XAS spectra ...\\nDone with module: XAS spectra (FF2X: DW + final sum over paths).\\n\\n \\n### feff ends at Mon Aug 15 11:00:21 EDT 2022\\n \\n\",\n",
       "  'xmu.dat': ['# # 65272_C_007                                                  FEFF 9.9.1  ',\n",
       "   '# # POT  SCF 100  7.0000   1, screened core-hole, AFOLP (folp(0)= 1.150)',\n",
       "   '# # Abs   Z= 6 Rmt= 0.929 Rnm= 1.136 K  shell',\n",
       "   '# # Pot 1 Z= 8 Rmt= 0.836 Rnm= 1.068',\n",
       "   '# # Pot 2 Z= 1 Rmt= 0.801 Rnm= 0.974',\n",
       "   '# # Pot 3 Z= 6 Rmt= 0.904 Rnm= 1.115',\n",
       "   '# # Gam_ch=8.676E-02 H-L exch Vi= 0.000E+00 Vr= 0.000E+00',\n",
       "   '# # Mu=-9.052E+00eV kf=2.206E+00 Vint=-1.429E+01eV Rs_int= 1.644',\n",
       "   '# FMS rfms= 9.0000',\n",
       "   '# # PATH  Rmax=-1.000,  Keep_limit= 0.00, Heap_limit 0.00  Pwcrit= 2.50%',\n",
       "   '#  S02=1.000  Temp=   0.00  Debye_temp=   0.00  Global_sig2= 0.00000',\n",
       "   '#  Energy zero shift, vr, vi    0.00000E+00   0.00000E+00',\n",
       "   '#  Curved wave amplitude ratio filter   4.000%',\n",
       "   '#     file         sig2 tot  cw amp ratio   deg  nlegs   reff  inp sig2',\n",
       "   '#     0/   0 paths used',\n",
       "   '#  xsedge+ 50, used to normalize mu           7.4830E-03',\n",
       "   '#  -----------------------------------------------------------------------']})"
      ]
     },
     "execution_count": 51,
     "metadata": {},
     "output_type": "execute_result"
    }
   ],
   "source": [
    "# data path\n",
    "import pathlib\n",
    "\n",
    "feff = load_feff_data(pathlib.Path(\"D:/BNL/AIMMDB/FEFF_Data/65272_C_007\"))\n",
    "feff\n"
   ]
  },
  {
   "cell_type": "code",
   "execution_count": 11,
   "metadata": {},
   "outputs": [],
   "source": [
    "def ingest_feff(client, df, verbose=False):\n",
    "    \"\"\"\n",
    "    Upload the FEFF dataset to database\n",
    "    \"\"\"\n",
    "\n",
    "    for (name, prep), g in df.groupby([\"sample.name\", \"sample.prep\"]):\n",
    "        if verbose:\n",
    "            print(f\"{name}: {prep}, {len(g)}\")\n",
    "\n",
    "        sample_id = client.write_sample({\"name\" : name, \"prep\" : prep})\n",
    "\n",
    "        for i, row in g.iterrows():\n",
    "            feff_df, _ = read_dat(row.file)\n",
    "            metadata = row.metadata\n",
    "            metadata[\"dataset\"] = \"feff\"\n",
    "            metadata[\"sample_id\"] = sample_id\n",
    "            client[\"uid\"].write_dataframe(feff_df, metadata=metadata, specs=[\"FEFF\"])"
   ]
  },
  {
   "cell_type": "code",
   "execution_count": 12,
   "metadata": {},
   "outputs": [
    {
     "name": "stdout",
     "output_type": "stream",
     "text": [
      "starting ingestion...\n"
     ]
    },
    {
     "ename": "NameError",
     "evalue": "name 'client' is not defined",
     "output_type": "error",
     "traceback": [
      "\u001b[1;31m---------------------------------------------------------------------------\u001b[0m",
      "\u001b[1;31mNameError\u001b[0m                                 Traceback (most recent call last)",
      "Cell \u001b[1;32mIn [12], line 2\u001b[0m\n\u001b[0;32m      1\u001b[0m \u001b[39mprint\u001b[39m(\u001b[39m\"\u001b[39m\u001b[39mstarting ingestion...\u001b[39m\u001b[39m\"\u001b[39m)\n\u001b[1;32m----> 2\u001b[0m ingest_feff(client, feff, verbose\u001b[39m=\u001b[39m\u001b[39mTrue\u001b[39;00m)\n\u001b[0;32m      3\u001b[0m \u001b[39mprint\u001b[39m(\u001b[39m\"\u001b[39m\u001b[39mfinished.\u001b[39m\u001b[39m\"\u001b[39m)\n",
      "\u001b[1;31mNameError\u001b[0m: name 'client' is not defined"
     ]
    }
   ],
   "source": [
    "print(\"starting ingestion...\")\n",
    "ingest_feff(client, feff, verbose=True)\n",
    "print(\"finished.\")"
   ]
  },
  {
   "cell_type": "code",
   "execution_count": 13,
   "metadata": {},
   "outputs": [
    {
     "data": {
      "text/plain": [
       "{'title': 'FEFFInputMetadata',\n",
       " 'type': 'object',\n",
       " 'properties': {'element': {'$ref': '#/definitions/XDIElement'},\n",
       "  'measurement_type': {'default': 'xas',\n",
       "   'allOf': [{'$ref': '#/definitions/MeasurementEnum'}]},\n",
       "  'dataset': {'title': 'Dataset', 'type': 'string'},\n",
       "  'sample_id': {'title': 'Sample Id', 'type': 'string'},\n",
       "  'input_script': {'title': 'Input Script', 'type': 'string'}},\n",
       " 'required': ['element', 'dataset', 'sample_id', 'input_script'],\n",
       " 'definitions': {'XDIElement': {'title': 'XDIElement',\n",
       "   'type': 'object',\n",
       "   'properties': {'symbol': {'title': 'Symbol', 'type': 'string'},\n",
       "    'edge': {'title': 'Edge', 'type': 'string'}},\n",
       "   'required': ['symbol', 'edge']},\n",
       "  'MeasurementEnum': {'title': 'MeasurementEnum',\n",
       "   'description': 'An enumeration.',\n",
       "   'enum': ['xas', 'rixs'],\n",
       "   'type': 'string'}}}"
      ]
     },
     "execution_count": 13,
     "metadata": {},
     "output_type": "execute_result"
    }
   ],
   "source": [
    "FEFFInputMetadata.schema()"
   ]
  },
  {
   "cell_type": "code",
   "execution_count": 14,
   "metadata": {},
   "outputs": [
    {
     "data": {
      "text/plain": [
       "{'title': 'FEFFOutputMetadata',\n",
       " 'type': 'object',\n",
       " 'properties': {'element': {'$ref': '#/definitions/XDIElement'},\n",
       "  'measurement_type': {'default': 'xas',\n",
       "   'allOf': [{'$ref': '#/definitions/MeasurementEnum'}]},\n",
       "  'dataset': {'title': 'Dataset', 'type': 'string'},\n",
       "  'sample_id': {'title': 'Sample Id', 'type': 'string'},\n",
       "  'output_script': {'title': 'Output Script', 'type': 'string'}},\n",
       " 'required': ['element', 'dataset', 'sample_id', 'output_script'],\n",
       " 'definitions': {'XDIElement': {'title': 'XDIElement',\n",
       "   'type': 'object',\n",
       "   'properties': {'symbol': {'title': 'Symbol', 'type': 'string'},\n",
       "    'edge': {'title': 'Edge', 'type': 'string'}},\n",
       "   'required': ['symbol', 'edge']},\n",
       "  'MeasurementEnum': {'title': 'MeasurementEnum',\n",
       "   'description': 'An enumeration.',\n",
       "   'enum': ['xas', 'rixs'],\n",
       "   'type': 'string'}}}"
      ]
     },
     "execution_count": 14,
     "metadata": {},
     "output_type": "execute_result"
    }
   ],
   "source": [
    "FEFFOutputMetadata.schema()"
   ]
  },
  {
   "cell_type": "code",
   "execution_count": 15,
   "metadata": {},
   "outputs": [
    {
     "data": {
      "text/plain": [
       "{'title': 'ExperimentalXASMetadata',\n",
       " 'type': 'object',\n",
       " 'properties': {'element': {'$ref': '#/definitions/XDIElement'},\n",
       "  'measurement_type': {'default': 'xas',\n",
       "   'allOf': [{'$ref': '#/definitions/MeasurementEnum'}]},\n",
       "  'dataset': {'title': 'Dataset', 'type': 'string'},\n",
       "  'sample_id': {'title': 'Sample Id', 'type': 'string'},\n",
       "  'facility': {'$ref': '#/definitions/FacilityMetadata'},\n",
       "  'beamline': {'$ref': '#/definitions/BeamlineMetadata'}},\n",
       " 'required': ['element', 'dataset', 'facility', 'beamline'],\n",
       " 'definitions': {'XDIElement': {'title': 'XDIElement',\n",
       "   'type': 'object',\n",
       "   'properties': {'symbol': {'title': 'Symbol', 'type': 'string'},\n",
       "    'edge': {'title': 'Edge', 'type': 'string'}},\n",
       "   'required': ['symbol', 'edge']},\n",
       "  'MeasurementEnum': {'title': 'MeasurementEnum',\n",
       "   'description': 'An enumeration.',\n",
       "   'enum': ['xas', 'rixs'],\n",
       "   'type': 'string'},\n",
       "  'FacilityMetadata': {'title': 'FacilityMetadata',\n",
       "   'type': 'object',\n",
       "   'properties': {'name': {'title': 'Name', 'type': 'string'}},\n",
       "   'required': ['name']},\n",
       "  'BeamlineMetadata': {'title': 'BeamlineMetadata',\n",
       "   'type': 'object',\n",
       "   'properties': {'name': {'title': 'Name', 'type': 'string'}},\n",
       "   'required': ['name']}}}"
      ]
     },
     "execution_count": 15,
     "metadata": {},
     "output_type": "execute_result"
    }
   ],
   "source": [
    "# we will enforce that XAS metadata satisfies the following schema\n",
    "ExperimentalXASMetadata.schema()"
   ]
  },
  {
   "cell_type": "code",
   "execution_count": null,
   "metadata": {},
   "outputs": [],
   "source": [
    "client[\"uid\"]"
   ]
  },
  {
   "cell_type": "code",
   "execution_count": null,
   "metadata": {},
   "outputs": [],
   "source": [
    "# with the correct metadata we can write to the server\n",
    "# NOTE this doesn't prevent you from writing garbage but does help\n",
    "df = pd.DataFrame({\"a\" : np.random.rand(100), \"b\" : np.random.rand(100)})\n",
    "metadata = {\"dataset\" : \"feff\", \"foo\" : \"bar\", \"element\" : {\"symbol\" : \"Au\", \"edge\" : \"K\"}, \"facility\" : {\"name\" : \"ALS\"}, \"beamline\" : {\"name\" : \"8.0.1\"}}\n",
    "node = client[\"uid\"].write_dataframe(df, metadata=metadata, specs=[\"FEFF\"])\n",
    "node"
   ]
  }
 ],
 "metadata": {
  "kernelspec": {
   "display_name": "Python 3.9.13 ('aimm')",
   "language": "python",
   "name": "python3"
  },
  "language_info": {
   "codemirror_mode": {
    "name": "ipython",
    "version": 3
   },
   "file_extension": ".py",
   "mimetype": "text/x-python",
   "name": "python",
   "nbconvert_exporter": "python",
   "pygments_lexer": "ipython3",
   "version": "3.9.13"
  },
  "orig_nbformat": 4,
  "vscode": {
   "interpreter": {
    "hash": "189d756eac8438d33e11f8e23aa09bdc4c99760ed11a3bfefa464e31dcca4c4a"
   }
  }
 },
 "nbformat": 4,
 "nbformat_minor": 2
}
