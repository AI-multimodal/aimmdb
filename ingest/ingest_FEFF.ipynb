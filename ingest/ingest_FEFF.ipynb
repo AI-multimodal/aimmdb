{
 "cells": [
  {
   "cell_type": "code",
   "execution_count": 5,
   "metadata": {},
   "outputs": [],
   "source": [
    "import copy\n",
    "import pathlib\n",
    "\n",
    "import numpy as np\n",
    "import pandas as pd\n",
    "\n",
    "from tiled.client import from_uri\n",
    "from tiled.examples.xdi import read_xdi\n",
    "from tiled.queries import Key\n",
    "\n",
    "from aimmdb.schemas import ExperimentalXASMetadata\n",
    "from aimmdb.schemas import FEFFInputMetadata\n",
    "from aimmdb.schemas import FEFFOutputMetadata"
   ]
  },
  {
   "cell_type": "code",
   "execution_count": 6,
   "metadata": {},
   "outputs": [
    {
     "ename": "ConnectError",
     "evalue": "[WinError 10061] No connection could be made because the target machine actively refused it",
     "output_type": "error",
     "traceback": [
      "\u001b[1;31m---------------------------------------------------------------------------\u001b[0m",
      "\u001b[1;31mConnectionRefusedError\u001b[0m                    Traceback (most recent call last)",
      "File \u001b[1;32mc:\\Users\\msega\\anaconda3\\envs\\aimm\\lib\\site-packages\\httpcore\\_exceptions.py:8\u001b[0m, in \u001b[0;36mmap_exceptions\u001b[1;34m(map)\u001b[0m\n\u001b[0;32m      7\u001b[0m \u001b[39mtry\u001b[39;00m:\n\u001b[1;32m----> 8\u001b[0m     \u001b[39myield\u001b[39;00m\n\u001b[0;32m      9\u001b[0m \u001b[39mexcept\u001b[39;00m \u001b[39mException\u001b[39;00m \u001b[39mas\u001b[39;00m exc:  \u001b[39m# noqa: PIE786\u001b[39;00m\n",
      "File \u001b[1;32mc:\\Users\\msega\\anaconda3\\envs\\aimm\\lib\\site-packages\\httpcore\\backends\\sync.py:86\u001b[0m, in \u001b[0;36mSyncBackend.connect_tcp\u001b[1;34m(self, host, port, timeout, local_address)\u001b[0m\n\u001b[0;32m     85\u001b[0m \u001b[39mwith\u001b[39;00m map_exceptions(exc_map):\n\u001b[1;32m---> 86\u001b[0m     sock \u001b[39m=\u001b[39m socket\u001b[39m.\u001b[39;49mcreate_connection(\n\u001b[0;32m     87\u001b[0m         address, timeout, source_address\u001b[39m=\u001b[39;49msource_address\n\u001b[0;32m     88\u001b[0m     )\n\u001b[0;32m     89\u001b[0m \u001b[39mreturn\u001b[39;00m SyncStream(sock)\n",
      "File \u001b[1;32mc:\\Users\\msega\\anaconda3\\envs\\aimm\\lib\\socket.py:844\u001b[0m, in \u001b[0;36mcreate_connection\u001b[1;34m(address, timeout, source_address)\u001b[0m\n\u001b[0;32m    843\u001b[0m \u001b[39mtry\u001b[39;00m:\n\u001b[1;32m--> 844\u001b[0m     \u001b[39mraise\u001b[39;00m err\n\u001b[0;32m    845\u001b[0m \u001b[39mfinally\u001b[39;00m:\n\u001b[0;32m    846\u001b[0m     \u001b[39m# Break explicitly a reference cycle\u001b[39;00m\n",
      "File \u001b[1;32mc:\\Users\\msega\\anaconda3\\envs\\aimm\\lib\\socket.py:832\u001b[0m, in \u001b[0;36mcreate_connection\u001b[1;34m(address, timeout, source_address)\u001b[0m\n\u001b[0;32m    831\u001b[0m     sock\u001b[39m.\u001b[39mbind(source_address)\n\u001b[1;32m--> 832\u001b[0m sock\u001b[39m.\u001b[39;49mconnect(sa)\n\u001b[0;32m    833\u001b[0m \u001b[39m# Break explicitly a reference cycle\u001b[39;00m\n",
      "\u001b[1;31mConnectionRefusedError\u001b[0m: [WinError 10061] No connection could be made because the target machine actively refused it",
      "\nDuring handling of the above exception, another exception occurred:\n",
      "\u001b[1;31mConnectError\u001b[0m                              Traceback (most recent call last)",
      "File \u001b[1;32mc:\\Users\\msega\\anaconda3\\envs\\aimm\\lib\\site-packages\\httpx\\_transports\\default.py:60\u001b[0m, in \u001b[0;36mmap_httpcore_exceptions\u001b[1;34m()\u001b[0m\n\u001b[0;32m     59\u001b[0m \u001b[39mtry\u001b[39;00m:\n\u001b[1;32m---> 60\u001b[0m     \u001b[39myield\u001b[39;00m\n\u001b[0;32m     61\u001b[0m \u001b[39mexcept\u001b[39;00m \u001b[39mException\u001b[39;00m \u001b[39mas\u001b[39;00m exc:  \u001b[39m# noqa: PIE-786\u001b[39;00m\n",
      "File \u001b[1;32mc:\\Users\\msega\\anaconda3\\envs\\aimm\\lib\\site-packages\\httpx\\_transports\\default.py:218\u001b[0m, in \u001b[0;36mHTTPTransport.handle_request\u001b[1;34m(self, request)\u001b[0m\n\u001b[0;32m    217\u001b[0m \u001b[39mwith\u001b[39;00m map_httpcore_exceptions():\n\u001b[1;32m--> 218\u001b[0m     resp \u001b[39m=\u001b[39m \u001b[39mself\u001b[39;49m\u001b[39m.\u001b[39;49m_pool\u001b[39m.\u001b[39;49mhandle_request(req)\n\u001b[0;32m    220\u001b[0m \u001b[39massert\u001b[39;00m \u001b[39misinstance\u001b[39m(resp\u001b[39m.\u001b[39mstream, typing\u001b[39m.\u001b[39mIterable)\n",
      "File \u001b[1;32mc:\\Users\\msega\\anaconda3\\envs\\aimm\\lib\\site-packages\\httpcore\\_sync\\connection_pool.py:253\u001b[0m, in \u001b[0;36mConnectionPool.handle_request\u001b[1;34m(self, request)\u001b[0m\n\u001b[0;32m    252\u001b[0m     \u001b[39mself\u001b[39m\u001b[39m.\u001b[39mresponse_closed(status)\n\u001b[1;32m--> 253\u001b[0m     \u001b[39mraise\u001b[39;00m exc\n\u001b[0;32m    254\u001b[0m \u001b[39melse\u001b[39;00m:\n",
      "File \u001b[1;32mc:\\Users\\msega\\anaconda3\\envs\\aimm\\lib\\site-packages\\httpcore\\_sync\\connection_pool.py:237\u001b[0m, in \u001b[0;36mConnectionPool.handle_request\u001b[1;34m(self, request)\u001b[0m\n\u001b[0;32m    236\u001b[0m \u001b[39mtry\u001b[39;00m:\n\u001b[1;32m--> 237\u001b[0m     response \u001b[39m=\u001b[39m connection\u001b[39m.\u001b[39;49mhandle_request(request)\n\u001b[0;32m    238\u001b[0m \u001b[39mexcept\u001b[39;00m ConnectionNotAvailable:\n\u001b[0;32m    239\u001b[0m     \u001b[39m# The ConnectionNotAvailable exception is a special case, that\u001b[39;00m\n\u001b[0;32m    240\u001b[0m     \u001b[39m# indicates we need to retry the request on a new connection.\u001b[39;00m\n\u001b[1;32m   (...)\u001b[0m\n\u001b[0;32m    244\u001b[0m     \u001b[39m# might end up as an HTTP/2 connection, but which actually ends\u001b[39;00m\n\u001b[0;32m    245\u001b[0m     \u001b[39m# up as HTTP/1.1.\u001b[39;00m\n",
      "File \u001b[1;32mc:\\Users\\msega\\anaconda3\\envs\\aimm\\lib\\site-packages\\httpcore\\_sync\\connection.py:86\u001b[0m, in \u001b[0;36mHTTPConnection.handle_request\u001b[1;34m(self, request)\u001b[0m\n\u001b[0;32m     85\u001b[0m         \u001b[39mself\u001b[39m\u001b[39m.\u001b[39m_connect_failed \u001b[39m=\u001b[39m \u001b[39mTrue\u001b[39;00m\n\u001b[1;32m---> 86\u001b[0m         \u001b[39mraise\u001b[39;00m exc\n\u001b[0;32m     87\u001b[0m \u001b[39melif\u001b[39;00m \u001b[39mnot\u001b[39;00m \u001b[39mself\u001b[39m\u001b[39m.\u001b[39m_connection\u001b[39m.\u001b[39mis_available():\n",
      "File \u001b[1;32mc:\\Users\\msega\\anaconda3\\envs\\aimm\\lib\\site-packages\\httpcore\\_sync\\connection.py:63\u001b[0m, in \u001b[0;36mHTTPConnection.handle_request\u001b[1;34m(self, request)\u001b[0m\n\u001b[0;32m     62\u001b[0m \u001b[39mtry\u001b[39;00m:\n\u001b[1;32m---> 63\u001b[0m     stream \u001b[39m=\u001b[39m \u001b[39mself\u001b[39;49m\u001b[39m.\u001b[39;49m_connect(request)\n\u001b[0;32m     65\u001b[0m     ssl_object \u001b[39m=\u001b[39m stream\u001b[39m.\u001b[39mget_extra_info(\u001b[39m\"\u001b[39m\u001b[39mssl_object\u001b[39m\u001b[39m\"\u001b[39m)\n",
      "File \u001b[1;32mc:\\Users\\msega\\anaconda3\\envs\\aimm\\lib\\site-packages\\httpcore\\_sync\\connection.py:111\u001b[0m, in \u001b[0;36mHTTPConnection._connect\u001b[1;34m(self, request)\u001b[0m\n\u001b[0;32m    108\u001b[0m \u001b[39mwith\u001b[39;00m Trace(\n\u001b[0;32m    109\u001b[0m     \u001b[39m\"\u001b[39m\u001b[39mconnection.connect_tcp\u001b[39m\u001b[39m\"\u001b[39m, request, kwargs\n\u001b[0;32m    110\u001b[0m ) \u001b[39mas\u001b[39;00m trace:\n\u001b[1;32m--> 111\u001b[0m     stream \u001b[39m=\u001b[39m \u001b[39mself\u001b[39m\u001b[39m.\u001b[39m_network_backend\u001b[39m.\u001b[39mconnect_tcp(\u001b[39m*\u001b[39m\u001b[39m*\u001b[39mkwargs)\n\u001b[0;32m    112\u001b[0m     trace\u001b[39m.\u001b[39mreturn_value \u001b[39m=\u001b[39m stream\n",
      "File \u001b[1;32mc:\\Users\\msega\\anaconda3\\envs\\aimm\\lib\\site-packages\\httpcore\\backends\\sync.py:86\u001b[0m, in \u001b[0;36mSyncBackend.connect_tcp\u001b[1;34m(self, host, port, timeout, local_address)\u001b[0m\n\u001b[0;32m     85\u001b[0m \u001b[39mwith\u001b[39;00m map_exceptions(exc_map):\n\u001b[1;32m---> 86\u001b[0m     sock \u001b[39m=\u001b[39m socket\u001b[39m.\u001b[39mcreate_connection(\n\u001b[0;32m     87\u001b[0m         address, timeout, source_address\u001b[39m=\u001b[39msource_address\n\u001b[0;32m     88\u001b[0m     )\n\u001b[0;32m     89\u001b[0m \u001b[39mreturn\u001b[39;00m SyncStream(sock)\n",
      "File \u001b[1;32mc:\\Users\\msega\\anaconda3\\envs\\aimm\\lib\\contextlib.py:137\u001b[0m, in \u001b[0;36m_GeneratorContextManager.__exit__\u001b[1;34m(self, typ, value, traceback)\u001b[0m\n\u001b[0;32m    136\u001b[0m \u001b[39mtry\u001b[39;00m:\n\u001b[1;32m--> 137\u001b[0m     \u001b[39mself\u001b[39;49m\u001b[39m.\u001b[39;49mgen\u001b[39m.\u001b[39;49mthrow(typ, value, traceback)\n\u001b[0;32m    138\u001b[0m \u001b[39mexcept\u001b[39;00m \u001b[39mStopIteration\u001b[39;00m \u001b[39mas\u001b[39;00m exc:\n\u001b[0;32m    139\u001b[0m     \u001b[39m# Suppress StopIteration *unless* it's the same exception that\u001b[39;00m\n\u001b[0;32m    140\u001b[0m     \u001b[39m# was passed to throw().  This prevents a StopIteration\u001b[39;00m\n\u001b[0;32m    141\u001b[0m     \u001b[39m# raised inside the \"with\" statement from being suppressed.\u001b[39;00m\n",
      "File \u001b[1;32mc:\\Users\\msega\\anaconda3\\envs\\aimm\\lib\\site-packages\\httpcore\\_exceptions.py:12\u001b[0m, in \u001b[0;36mmap_exceptions\u001b[1;34m(map)\u001b[0m\n\u001b[0;32m     11\u001b[0m     \u001b[39mif\u001b[39;00m \u001b[39misinstance\u001b[39m(exc, from_exc):\n\u001b[1;32m---> 12\u001b[0m         \u001b[39mraise\u001b[39;00m to_exc(exc)\n\u001b[0;32m     13\u001b[0m \u001b[39mraise\u001b[39;00m\n",
      "\u001b[1;31mConnectError\u001b[0m: [WinError 10061] No connection could be made because the target machine actively refused it",
      "\nThe above exception was the direct cause of the following exception:\n",
      "\u001b[1;31mConnectError\u001b[0m                              Traceback (most recent call last)",
      "Cell \u001b[1;32mIn [6], line 2\u001b[0m\n\u001b[0;32m      1\u001b[0m \u001b[39mfrom\u001b[39;00m \u001b[39mtiled\u001b[39;00m\u001b[39m.\u001b[39;00m\u001b[39mclient\u001b[39;00m \u001b[39mimport\u001b[39;00m from_uri\n\u001b[1;32m----> 2\u001b[0m client \u001b[39m=\u001b[39m from_uri(\u001b[39m\"\u001b[39;49m\u001b[39mhttp://localhost:8000/api\u001b[39;49m\u001b[39m\"\u001b[39;49m)\n",
      "File \u001b[1;32mc:\\Users\\msega\\anaconda3\\envs\\aimm\\lib\\site-packages\\tiled\\client\\constructors.py:101\u001b[0m, in \u001b[0;36mfrom_uri\u001b[1;34m(uri, structure_clients, cache, offline, username, auth_provider, api_key, token_cache, verify, prompt_for_reauthentication, headers, timeout)\u001b[0m\n\u001b[0;32m     91\u001b[0m     timeout \u001b[39m=\u001b[39m httpx\u001b[39m.\u001b[39mTimeout(\u001b[39m*\u001b[39m\u001b[39m*\u001b[39mDEFAULT_TIMEOUT_PARAMS)\n\u001b[0;32m     93\u001b[0m client \u001b[39m=\u001b[39m httpx\u001b[39m.\u001b[39mClient(\n\u001b[0;32m     94\u001b[0m     base_url\u001b[39m=\u001b[39mbase_uri,\n\u001b[0;32m     95\u001b[0m     verify\u001b[39m=\u001b[39mverify,\n\u001b[1;32m   (...)\u001b[0m\n\u001b[0;32m     99\u001b[0m     params\u001b[39m=\u001b[39mparams,\n\u001b[0;32m    100\u001b[0m )\n\u001b[1;32m--> 101\u001b[0m context \u001b[39m=\u001b[39m Context(\n\u001b[0;32m    102\u001b[0m     client,\n\u001b[0;32m    103\u001b[0m     username\u001b[39m=\u001b[39;49musername,\n\u001b[0;32m    104\u001b[0m     auth_provider\u001b[39m=\u001b[39;49mauth_provider,\n\u001b[0;32m    105\u001b[0m     api_key\u001b[39m=\u001b[39;49mapi_key,\n\u001b[0;32m    106\u001b[0m     cache\u001b[39m=\u001b[39;49mcache,\n\u001b[0;32m    107\u001b[0m     offline\u001b[39m=\u001b[39;49moffline,\n\u001b[0;32m    108\u001b[0m     token_cache\u001b[39m=\u001b[39;49mtoken_cache,\n\u001b[0;32m    109\u001b[0m     prompt_for_reauthentication\u001b[39m=\u001b[39;49mprompt_for_reauthentication,\n\u001b[0;32m    110\u001b[0m )\n\u001b[0;32m    111\u001b[0m \u001b[39mreturn\u001b[39;00m from_context(context, structure_clients\u001b[39m=\u001b[39mstructure_clients)\n",
      "File \u001b[1;32mc:\\Users\\msega\\anaconda3\\envs\\aimm\\lib\\site-packages\\tiled\\client\\context.py:228\u001b[0m, in \u001b[0;36mContext.__init__\u001b[1;34m(self, client, username, auth_provider, api_key, cache, offline, token_cache, prompt_for_reauthentication, app)\u001b[0m\n\u001b[0;32m    223\u001b[0m \u001b[39mwith\u001b[39;00m \u001b[39mself\u001b[39m\u001b[39m.\u001b[39mdisable_cache(allow_read\u001b[39m=\u001b[39m\u001b[39mFalse\u001b[39;00m, allow_write\u001b[39m=\u001b[39m\u001b[39mTrue\u001b[39;00m):\n\u001b[0;32m    224\u001b[0m     \u001b[39m# Make this request manually to inject custom error handling.\u001b[39;00m\n\u001b[0;32m    225\u001b[0m     request \u001b[39m=\u001b[39m \u001b[39mself\u001b[39m\u001b[39m.\u001b[39m_client\u001b[39m.\u001b[39mbuild_request(\n\u001b[0;32m    226\u001b[0m         \u001b[39m\"\u001b[39m\u001b[39mGET\u001b[39m\u001b[39m\"\u001b[39m, \u001b[39m\"\u001b[39m\u001b[39m/\u001b[39m\u001b[39m\"\u001b[39m, params\u001b[39m=\u001b[39m{\u001b[39m\"\u001b[39m\u001b[39mroot_path\u001b[39m\u001b[39m\"\u001b[39m: \u001b[39mTrue\u001b[39;00m}\n\u001b[0;32m    227\u001b[0m     )\n\u001b[1;32m--> 228\u001b[0m     response \u001b[39m=\u001b[39m \u001b[39mself\u001b[39;49m\u001b[39m.\u001b[39;49m_client\u001b[39m.\u001b[39;49msend(request)\n\u001b[0;32m    229\u001b[0m     \u001b[39m# Handle case where user pastes in a link like\u001b[39;00m\n\u001b[0;32m    230\u001b[0m     \u001b[39m# https://example.com/some/subpath/node/metadata/a/b/c\u001b[39;00m\n\u001b[0;32m    231\u001b[0m     \u001b[39m# and it requires authentication. The 401 response includes a header\u001b[39;00m\n\u001b[0;32m    232\u001b[0m     \u001b[39m# that points us to https://examples.com/some/subpath where we\u001b[39;00m\n\u001b[0;32m    233\u001b[0m     \u001b[39m# can see the authentication providers and their endpoints.\u001b[39;00m\n\u001b[0;32m    234\u001b[0m     \u001b[39mif\u001b[39;00m response\u001b[39m.\u001b[39mstatus_code \u001b[39m==\u001b[39m \u001b[39m401\u001b[39m:\n",
      "File \u001b[1;32mc:\\Users\\msega\\anaconda3\\envs\\aimm\\lib\\site-packages\\httpx\\_client.py:902\u001b[0m, in \u001b[0;36mClient.send\u001b[1;34m(self, request, stream, auth, follow_redirects)\u001b[0m\n\u001b[0;32m    894\u001b[0m follow_redirects \u001b[39m=\u001b[39m (\n\u001b[0;32m    895\u001b[0m     \u001b[39mself\u001b[39m\u001b[39m.\u001b[39mfollow_redirects\n\u001b[0;32m    896\u001b[0m     \u001b[39mif\u001b[39;00m \u001b[39misinstance\u001b[39m(follow_redirects, UseClientDefault)\n\u001b[0;32m    897\u001b[0m     \u001b[39melse\u001b[39;00m follow_redirects\n\u001b[0;32m    898\u001b[0m )\n\u001b[0;32m    900\u001b[0m auth \u001b[39m=\u001b[39m \u001b[39mself\u001b[39m\u001b[39m.\u001b[39m_build_request_auth(request, auth)\n\u001b[1;32m--> 902\u001b[0m response \u001b[39m=\u001b[39m \u001b[39mself\u001b[39;49m\u001b[39m.\u001b[39;49m_send_handling_auth(\n\u001b[0;32m    903\u001b[0m     request,\n\u001b[0;32m    904\u001b[0m     auth\u001b[39m=\u001b[39;49mauth,\n\u001b[0;32m    905\u001b[0m     follow_redirects\u001b[39m=\u001b[39;49mfollow_redirects,\n\u001b[0;32m    906\u001b[0m     history\u001b[39m=\u001b[39;49m[],\n\u001b[0;32m    907\u001b[0m )\n\u001b[0;32m    908\u001b[0m \u001b[39mtry\u001b[39;00m:\n\u001b[0;32m    909\u001b[0m     \u001b[39mif\u001b[39;00m \u001b[39mnot\u001b[39;00m stream:\n",
      "File \u001b[1;32mc:\\Users\\msega\\anaconda3\\envs\\aimm\\lib\\site-packages\\httpx\\_client.py:930\u001b[0m, in \u001b[0;36mClient._send_handling_auth\u001b[1;34m(self, request, auth, follow_redirects, history)\u001b[0m\n\u001b[0;32m    927\u001b[0m request \u001b[39m=\u001b[39m \u001b[39mnext\u001b[39m(auth_flow)\n\u001b[0;32m    929\u001b[0m \u001b[39mwhile\u001b[39;00m \u001b[39mTrue\u001b[39;00m:\n\u001b[1;32m--> 930\u001b[0m     response \u001b[39m=\u001b[39m \u001b[39mself\u001b[39;49m\u001b[39m.\u001b[39;49m_send_handling_redirects(\n\u001b[0;32m    931\u001b[0m         request,\n\u001b[0;32m    932\u001b[0m         follow_redirects\u001b[39m=\u001b[39;49mfollow_redirects,\n\u001b[0;32m    933\u001b[0m         history\u001b[39m=\u001b[39;49mhistory,\n\u001b[0;32m    934\u001b[0m     )\n\u001b[0;32m    935\u001b[0m     \u001b[39mtry\u001b[39;00m:\n\u001b[0;32m    936\u001b[0m         \u001b[39mtry\u001b[39;00m:\n",
      "File \u001b[1;32mc:\\Users\\msega\\anaconda3\\envs\\aimm\\lib\\site-packages\\httpx\\_client.py:967\u001b[0m, in \u001b[0;36mClient._send_handling_redirects\u001b[1;34m(self, request, follow_redirects, history)\u001b[0m\n\u001b[0;32m    964\u001b[0m \u001b[39mfor\u001b[39;00m hook \u001b[39min\u001b[39;00m \u001b[39mself\u001b[39m\u001b[39m.\u001b[39m_event_hooks[\u001b[39m\"\u001b[39m\u001b[39mrequest\u001b[39m\u001b[39m\"\u001b[39m]:\n\u001b[0;32m    965\u001b[0m     hook(request)\n\u001b[1;32m--> 967\u001b[0m response \u001b[39m=\u001b[39m \u001b[39mself\u001b[39;49m\u001b[39m.\u001b[39;49m_send_single_request(request)\n\u001b[0;32m    968\u001b[0m \u001b[39mtry\u001b[39;00m:\n\u001b[0;32m    969\u001b[0m     \u001b[39mfor\u001b[39;00m hook \u001b[39min\u001b[39;00m \u001b[39mself\u001b[39m\u001b[39m.\u001b[39m_event_hooks[\u001b[39m\"\u001b[39m\u001b[39mresponse\u001b[39m\u001b[39m\"\u001b[39m]:\n",
      "File \u001b[1;32mc:\\Users\\msega\\anaconda3\\envs\\aimm\\lib\\site-packages\\httpx\\_client.py:1003\u001b[0m, in \u001b[0;36mClient._send_single_request\u001b[1;34m(self, request)\u001b[0m\n\u001b[0;32m    998\u001b[0m     \u001b[39mraise\u001b[39;00m \u001b[39mRuntimeError\u001b[39;00m(\n\u001b[0;32m    999\u001b[0m         \u001b[39m\"\u001b[39m\u001b[39mAttempted to send an async request with a sync Client instance.\u001b[39m\u001b[39m\"\u001b[39m\n\u001b[0;32m   1000\u001b[0m     )\n\u001b[0;32m   1002\u001b[0m \u001b[39mwith\u001b[39;00m request_context(request\u001b[39m=\u001b[39mrequest):\n\u001b[1;32m-> 1003\u001b[0m     response \u001b[39m=\u001b[39m transport\u001b[39m.\u001b[39;49mhandle_request(request)\n\u001b[0;32m   1005\u001b[0m \u001b[39massert\u001b[39;00m \u001b[39misinstance\u001b[39m(response\u001b[39m.\u001b[39mstream, SyncByteStream)\n\u001b[0;32m   1007\u001b[0m response\u001b[39m.\u001b[39mrequest \u001b[39m=\u001b[39m request\n",
      "File \u001b[1;32mc:\\Users\\msega\\anaconda3\\envs\\aimm\\lib\\site-packages\\httpx\\_transports\\default.py:218\u001b[0m, in \u001b[0;36mHTTPTransport.handle_request\u001b[1;34m(self, request)\u001b[0m\n\u001b[0;32m    205\u001b[0m req \u001b[39m=\u001b[39m httpcore\u001b[39m.\u001b[39mRequest(\n\u001b[0;32m    206\u001b[0m     method\u001b[39m=\u001b[39mrequest\u001b[39m.\u001b[39mmethod,\n\u001b[0;32m    207\u001b[0m     url\u001b[39m=\u001b[39mhttpcore\u001b[39m.\u001b[39mURL(\n\u001b[1;32m   (...)\u001b[0m\n\u001b[0;32m    215\u001b[0m     extensions\u001b[39m=\u001b[39mrequest\u001b[39m.\u001b[39mextensions,\n\u001b[0;32m    216\u001b[0m )\n\u001b[0;32m    217\u001b[0m \u001b[39mwith\u001b[39;00m map_httpcore_exceptions():\n\u001b[1;32m--> 218\u001b[0m     resp \u001b[39m=\u001b[39m \u001b[39mself\u001b[39m\u001b[39m.\u001b[39m_pool\u001b[39m.\u001b[39mhandle_request(req)\n\u001b[0;32m    220\u001b[0m \u001b[39massert\u001b[39;00m \u001b[39misinstance\u001b[39m(resp\u001b[39m.\u001b[39mstream, typing\u001b[39m.\u001b[39mIterable)\n\u001b[0;32m    222\u001b[0m \u001b[39mreturn\u001b[39;00m Response(\n\u001b[0;32m    223\u001b[0m     status_code\u001b[39m=\u001b[39mresp\u001b[39m.\u001b[39mstatus,\n\u001b[0;32m    224\u001b[0m     headers\u001b[39m=\u001b[39mresp\u001b[39m.\u001b[39mheaders,\n\u001b[0;32m    225\u001b[0m     stream\u001b[39m=\u001b[39mResponseStream(resp\u001b[39m.\u001b[39mstream),\n\u001b[0;32m    226\u001b[0m     extensions\u001b[39m=\u001b[39mresp\u001b[39m.\u001b[39mextensions,\n\u001b[0;32m    227\u001b[0m )\n",
      "File \u001b[1;32mc:\\Users\\msega\\anaconda3\\envs\\aimm\\lib\\contextlib.py:137\u001b[0m, in \u001b[0;36m_GeneratorContextManager.__exit__\u001b[1;34m(self, typ, value, traceback)\u001b[0m\n\u001b[0;32m    135\u001b[0m     value \u001b[39m=\u001b[39m typ()\n\u001b[0;32m    136\u001b[0m \u001b[39mtry\u001b[39;00m:\n\u001b[1;32m--> 137\u001b[0m     \u001b[39mself\u001b[39;49m\u001b[39m.\u001b[39;49mgen\u001b[39m.\u001b[39;49mthrow(typ, value, traceback)\n\u001b[0;32m    138\u001b[0m \u001b[39mexcept\u001b[39;00m \u001b[39mStopIteration\u001b[39;00m \u001b[39mas\u001b[39;00m exc:\n\u001b[0;32m    139\u001b[0m     \u001b[39m# Suppress StopIteration *unless* it's the same exception that\u001b[39;00m\n\u001b[0;32m    140\u001b[0m     \u001b[39m# was passed to throw().  This prevents a StopIteration\u001b[39;00m\n\u001b[0;32m    141\u001b[0m     \u001b[39m# raised inside the \"with\" statement from being suppressed.\u001b[39;00m\n\u001b[0;32m    142\u001b[0m     \u001b[39mreturn\u001b[39;00m exc \u001b[39mis\u001b[39;00m \u001b[39mnot\u001b[39;00m value\n",
      "File \u001b[1;32mc:\\Users\\msega\\anaconda3\\envs\\aimm\\lib\\site-packages\\httpx\\_transports\\default.py:77\u001b[0m, in \u001b[0;36mmap_httpcore_exceptions\u001b[1;34m()\u001b[0m\n\u001b[0;32m     74\u001b[0m     \u001b[39mraise\u001b[39;00m\n\u001b[0;32m     76\u001b[0m message \u001b[39m=\u001b[39m \u001b[39mstr\u001b[39m(exc)\n\u001b[1;32m---> 77\u001b[0m \u001b[39mraise\u001b[39;00m mapped_exc(message) \u001b[39mfrom\u001b[39;00m \u001b[39mexc\u001b[39;00m\n",
      "\u001b[1;31mConnectError\u001b[0m: [WinError 10061] No connection could be made because the target machine actively refused it"
     ]
    }
   ],
   "source": [
    "from tiled.client import from_uri\n",
    "client = from_uri(\"http://localhost:8000/api\")"
   ]
  },
  {
   "cell_type": "code",
   "execution_count": 7,
   "metadata": {},
   "outputs": [],
   "source": [
    "# data path\n",
    "data_path = pathlib.Path(\"D:/BNL/AIMMDB/65272_C_007\")"
   ]
  },
  {
   "cell_type": "code",
   "execution_count": 8,
   "metadata": {},
   "outputs": [],
   "source": [
    "def read_dat(path):\n",
    "    return pd.read_csv(path, sep=\"\\t\", header=None, names=[\"omega, e, k, mu, mu0, chi\"])"
   ]
  },
  {
   "cell_type": "code",
   "execution_count": 9,
   "metadata": {},
   "outputs": [],
   "source": [
    "def lower_case_dict(d):\n",
    "    out = {}\n",
    "    modified = False\n",
    "\n",
    "    for k, v in d.items():\n",
    "        if isinstance(v, dict):\n",
    "          v, modified_ = lower_case_dict(v)\n",
    "          modified = modified or modified_\n",
    "        if isinstance(k, str) and not k.islower():\n",
    "            out[k.lower()] = v\n",
    "            modified = True\n",
    "        else:\n",
    "            out[k] = v\n",
    "\n",
    "    return out, modified\n",
    "\n",
    "def load_FeffData(data_path):\n",
    "    \"\"\"\n",
    "    Load FEFF dataset into a dataframe parsing sample information from metadata\n",
    "    \"\"\"\n",
    "    files = list(data_path.rglob(\"*.dat\"))\n",
    "    print(f\"found {len(files)} dat files to ingest\")\n",
    "\n",
    "    data_list = []\n",
    "\n",
    "    for f in files:\n",
    "        name = f.stem\n",
    "        #need to parse metadata from the file name\n",
    "        df_feff, metadata = read_dat(str(f))\n",
    "        fields = metadata.pop(\"fields\")\n",
    "        fields, _ = lower_case_dict(fields)\n",
    "        metadata.update({k.lower(): v for k, v in fields.items()})\n",
    "        metadata[\"sample\"].setdefault(\"prep\", None)\n",
    "        \n",
    "        try:\n",
    "          facility_name = metadata[\"facility\"][\"name\"]\n",
    "        except:\n",
    "          metadata[\"facility\"] = {\"name\" : None}\n",
    "        try:\n",
    "          beamline_name = metadata[\"beamline\"][\"name\"]\n",
    "        except:\n",
    "          metadata[\"beamline\"] = {\"name\" : None}\n",
    "\n",
    "        data_list.append(\n",
    "            {\n",
    "                \"name\": f.stem,\n",
    "                \"file\": str(f),\n",
    "                \"metadata\": metadata,\n",
    "                \"columns\" : tuple(df_feff)\n",
    "            }\n",
    "        )\n",
    "\n",
    "    df = pd.DataFrame(data_list)\n",
    "\n",
    "    return df"
   ]
  },
  {
   "cell_type": "code",
   "execution_count": 10,
   "metadata": {},
   "outputs": [
    {
     "name": "stdout",
     "output_type": "stream",
     "text": [
      "found 1 dat files to ingest\n"
     ]
    },
    {
     "ename": "ValueError",
     "evalue": "not enough values to unpack (expected 2, got 1)",
     "output_type": "error",
     "traceback": [
      "\u001b[1;31m---------------------------------------------------------------------------\u001b[0m",
      "\u001b[1;31mValueError\u001b[0m                                Traceback (most recent call last)",
      "Cell \u001b[1;32mIn [10], line 2\u001b[0m\n\u001b[0;32m      1\u001b[0m \u001b[39m# read through all the files and extract some metadata\u001b[39;00m\n\u001b[1;32m----> 2\u001b[0m feff \u001b[39m=\u001b[39m load_FeffData(pathlib\u001b[39m.\u001b[39;49mPath(\u001b[39m\"\u001b[39;49m\u001b[39mD:/BNL/AIMMDB/65272_C_007\u001b[39;49m\u001b[39m\"\u001b[39;49m))\n\u001b[0;32m      3\u001b[0m feff\n",
      "Cell \u001b[1;32mIn [9], line 29\u001b[0m, in \u001b[0;36mload_FeffData\u001b[1;34m(data_path)\u001b[0m\n\u001b[0;32m     27\u001b[0m name \u001b[39m=\u001b[39m f\u001b[39m.\u001b[39mstem\n\u001b[0;32m     28\u001b[0m \u001b[39m#need to parse metadata from the file name\u001b[39;00m\n\u001b[1;32m---> 29\u001b[0m df_xas, metadata \u001b[39m=\u001b[39m read_dat(\u001b[39mstr\u001b[39m(f))\n\u001b[0;32m     30\u001b[0m fields \u001b[39m=\u001b[39m metadata\u001b[39m.\u001b[39mpop(\u001b[39m\"\u001b[39m\u001b[39mfields\u001b[39m\u001b[39m\"\u001b[39m)\n\u001b[0;32m     31\u001b[0m fields, _ \u001b[39m=\u001b[39m lower_case_dict(fields)\n",
      "\u001b[1;31mValueError\u001b[0m: not enough values to unpack (expected 2, got 1)"
     ]
    }
   ],
   "source": [
    "# read through all the files and extract some metadata\n",
    "feff = load_FeffData(pathlib.Path(\"D:/BNL/AIMMDB/65272_C_007\"))\n",
    "feff"
   ]
  },
  {
   "cell_type": "code",
   "execution_count": 11,
   "metadata": {},
   "outputs": [],
   "source": [
    "def ingest_feff(client, df, verbose=False):\n",
    "    \"\"\"\n",
    "    Upload the FEFF dataset to database\n",
    "    \"\"\"\n",
    "\n",
    "    for (name, prep), g in df.groupby([\"sample.name\", \"sample.prep\"]):\n",
    "        if verbose:\n",
    "            print(f\"{name}: {prep}, {len(g)}\")\n",
    "\n",
    "        sample_id = client.write_sample({\"name\" : name, \"prep\" : prep})\n",
    "\n",
    "        for i, row in g.iterrows():\n",
    "            feff_df, _ = read_dat(row.file)\n",
    "            metadata = row.metadata\n",
    "            metadata[\"dataset\"] = \"feff\"\n",
    "            metadata[\"sample_id\"] = sample_id\n",
    "            client[\"uid\"].write_dataframe(feff_df, metadata=metadata, specs=[\"FEFF\"])"
   ]
  },
  {
   "cell_type": "code",
   "execution_count": 12,
   "metadata": {},
   "outputs": [
    {
     "name": "stdout",
     "output_type": "stream",
     "text": [
      "starting ingestion...\n"
     ]
    },
    {
     "ename": "NameError",
     "evalue": "name 'client' is not defined",
     "output_type": "error",
     "traceback": [
      "\u001b[1;31m---------------------------------------------------------------------------\u001b[0m",
      "\u001b[1;31mNameError\u001b[0m                                 Traceback (most recent call last)",
      "Cell \u001b[1;32mIn [12], line 2\u001b[0m\n\u001b[0;32m      1\u001b[0m \u001b[39mprint\u001b[39m(\u001b[39m\"\u001b[39m\u001b[39mstarting ingestion...\u001b[39m\u001b[39m\"\u001b[39m)\n\u001b[1;32m----> 2\u001b[0m ingest_feff(client, feff, verbose\u001b[39m=\u001b[39m\u001b[39mTrue\u001b[39;00m)\n\u001b[0;32m      3\u001b[0m \u001b[39mprint\u001b[39m(\u001b[39m\"\u001b[39m\u001b[39mfinished.\u001b[39m\u001b[39m\"\u001b[39m)\n",
      "\u001b[1;31mNameError\u001b[0m: name 'client' is not defined"
     ]
    }
   ],
   "source": [
    "print(\"starting ingestion...\")\n",
    "ingest_feff(client, feff, verbose=True)\n",
    "print(\"finished.\")"
   ]
  },
  {
   "cell_type": "code",
   "execution_count": 13,
   "metadata": {},
   "outputs": [
    {
     "data": {
      "text/plain": [
       "{'title': 'FEFFInputMetadata',\n",
       " 'type': 'object',\n",
       " 'properties': {'element': {'$ref': '#/definitions/XDIElement'},\n",
       "  'measurement_type': {'default': 'xas',\n",
       "   'allOf': [{'$ref': '#/definitions/MeasurementEnum'}]},\n",
       "  'dataset': {'title': 'Dataset', 'type': 'string'},\n",
       "  'sample_id': {'title': 'Sample Id', 'type': 'string'},\n",
       "  'input_script': {'title': 'Input Script', 'type': 'string'}},\n",
       " 'required': ['element', 'dataset', 'sample_id', 'input_script'],\n",
       " 'definitions': {'XDIElement': {'title': 'XDIElement',\n",
       "   'type': 'object',\n",
       "   'properties': {'symbol': {'title': 'Symbol', 'type': 'string'},\n",
       "    'edge': {'title': 'Edge', 'type': 'string'}},\n",
       "   'required': ['symbol', 'edge']},\n",
       "  'MeasurementEnum': {'title': 'MeasurementEnum',\n",
       "   'description': 'An enumeration.',\n",
       "   'enum': ['xas', 'rixs'],\n",
       "   'type': 'string'}}}"
      ]
     },
     "execution_count": 13,
     "metadata": {},
     "output_type": "execute_result"
    }
   ],
   "source": [
    "FEFFInputMetadata.schema()"
   ]
  },
  {
   "cell_type": "code",
   "execution_count": 14,
   "metadata": {},
   "outputs": [
    {
     "data": {
      "text/plain": [
       "{'title': 'FEFFOutputMetadata',\n",
       " 'type': 'object',\n",
       " 'properties': {'element': {'$ref': '#/definitions/XDIElement'},\n",
       "  'measurement_type': {'default': 'xas',\n",
       "   'allOf': [{'$ref': '#/definitions/MeasurementEnum'}]},\n",
       "  'dataset': {'title': 'Dataset', 'type': 'string'},\n",
       "  'sample_id': {'title': 'Sample Id', 'type': 'string'},\n",
       "  'output_script': {'title': 'Output Script', 'type': 'string'}},\n",
       " 'required': ['element', 'dataset', 'sample_id', 'output_script'],\n",
       " 'definitions': {'XDIElement': {'title': 'XDIElement',\n",
       "   'type': 'object',\n",
       "   'properties': {'symbol': {'title': 'Symbol', 'type': 'string'},\n",
       "    'edge': {'title': 'Edge', 'type': 'string'}},\n",
       "   'required': ['symbol', 'edge']},\n",
       "  'MeasurementEnum': {'title': 'MeasurementEnum',\n",
       "   'description': 'An enumeration.',\n",
       "   'enum': ['xas', 'rixs'],\n",
       "   'type': 'string'}}}"
      ]
     },
     "execution_count": 14,
     "metadata": {},
     "output_type": "execute_result"
    }
   ],
   "source": [
    "FEFFOutputMetadata.schema()"
   ]
  },
  {
   "cell_type": "code",
   "execution_count": 15,
   "metadata": {},
   "outputs": [
    {
     "data": {
      "text/plain": [
       "{'title': 'ExperimentalXASMetadata',\n",
       " 'type': 'object',\n",
       " 'properties': {'element': {'$ref': '#/definitions/XDIElement'},\n",
       "  'measurement_type': {'default': 'xas',\n",
       "   'allOf': [{'$ref': '#/definitions/MeasurementEnum'}]},\n",
       "  'dataset': {'title': 'Dataset', 'type': 'string'},\n",
       "  'sample_id': {'title': 'Sample Id', 'type': 'string'},\n",
       "  'facility': {'$ref': '#/definitions/FacilityMetadata'},\n",
       "  'beamline': {'$ref': '#/definitions/BeamlineMetadata'}},\n",
       " 'required': ['element', 'dataset', 'facility', 'beamline'],\n",
       " 'definitions': {'XDIElement': {'title': 'XDIElement',\n",
       "   'type': 'object',\n",
       "   'properties': {'symbol': {'title': 'Symbol', 'type': 'string'},\n",
       "    'edge': {'title': 'Edge', 'type': 'string'}},\n",
       "   'required': ['symbol', 'edge']},\n",
       "  'MeasurementEnum': {'title': 'MeasurementEnum',\n",
       "   'description': 'An enumeration.',\n",
       "   'enum': ['xas', 'rixs'],\n",
       "   'type': 'string'},\n",
       "  'FacilityMetadata': {'title': 'FacilityMetadata',\n",
       "   'type': 'object',\n",
       "   'properties': {'name': {'title': 'Name', 'type': 'string'}},\n",
       "   'required': ['name']},\n",
       "  'BeamlineMetadata': {'title': 'BeamlineMetadata',\n",
       "   'type': 'object',\n",
       "   'properties': {'name': {'title': 'Name', 'type': 'string'}},\n",
       "   'required': ['name']}}}"
      ]
     },
     "execution_count": 15,
     "metadata": {},
     "output_type": "execute_result"
    }
   ],
   "source": [
    "# we will enforce that XAS metadata satisfies the following schema\n",
    "ExperimentalXASMetadata.schema()"
   ]
  },
  {
   "cell_type": "code",
   "execution_count": null,
   "metadata": {},
   "outputs": [],
   "source": [
    "client[\"uid\"]"
   ]
  },
  {
   "cell_type": "code",
   "execution_count": null,
   "metadata": {},
   "outputs": [],
   "source": [
    "# with the correct metadata we can write to the server\n",
    "# NOTE this doesn't prevent you from writing garbage but does help\n",
    "df = pd.DataFrame({\"a\" : np.random.rand(100), \"b\" : np.random.rand(100)})\n",
    "metadata = {\"dataset\" : \"feff\", \"foo\" : \"bar\", \"element\" : {\"symbol\" : \"Au\", \"edge\" : \"K\"}, \"facility\" : {\"name\" : \"ALS\"}, \"beamline\" : {\"name\" : \"8.0.1\"}}\n",
    "node = client[\"uid\"].write_dataframe(df, metadata=metadata, specs=[\"FEFF\"])\n",
    "node"
   ]
  }
 ],
 "metadata": {
  "kernelspec": {
   "display_name": "Python 3.9.13 ('aimm')",
   "language": "python",
   "name": "python3"
  },
  "language_info": {
   "codemirror_mode": {
    "name": "ipython",
    "version": 3
   },
   "file_extension": ".py",
   "mimetype": "text/x-python",
   "name": "python",
   "nbconvert_exporter": "python",
   "pygments_lexer": "ipython3",
   "version": "3.9.13"
  },
  "orig_nbformat": 4,
  "vscode": {
   "interpreter": {
    "hash": "189d756eac8438d33e11f8e23aa09bdc4c99760ed11a3bfefa464e31dcca4c4a"
   }
  }
 },
 "nbformat": 4,
 "nbformat_minor": 2
}
