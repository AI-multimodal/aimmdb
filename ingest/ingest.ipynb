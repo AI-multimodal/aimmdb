{
 "cells": [
  {
   "cell_type": "code",
   "execution_count": null,
   "id": "e3cb7b38-0e7f-4463-b844-b4af7bc5efd1",
   "metadata": {},
   "outputs": [],
   "source": [
    "import argparse\n",
    "import pathlib\n",
    "import json\n",
    "import getpass\n",
    "from collections import defaultdict\n",
    "\n",
    "import pymongo\n",
    "from pymongo import MongoClient\n",
    "\n",
    "import uuid\n",
    "import shortuuid\n",
    "import itertools\n",
    "\n",
    "import pandas as pd\n",
    "\n",
    "from tqdm.notebook import tqdm\n",
    "\n",
    "import h5py\n",
    "\n",
    "import pprint\n",
    "\n",
    "import tiled\n",
    "\n",
    "from tiled.examples.xdi import read_xdi\n",
    "\n",
    "import numpy as np\n",
    "import matplotlib.pyplot as plt"
   ]
  },
  {
   "cell_type": "code",
   "execution_count": null,
   "id": "06d4acce-f1d4-4855-99cc-ddf174697f01",
   "metadata": {},
   "outputs": [],
   "source": [
    "import models\n",
    "import ingest"
   ]
  },
  {
   "cell_type": "code",
   "execution_count": null,
   "id": "0f9992c9-6965-431b-96a0-71696d6c0207",
   "metadata": {},
   "outputs": [],
   "source": [
    "%load_ext autoreload\n",
    "%autoreload 1"
   ]
  },
  {
   "cell_type": "code",
   "execution_count": null,
   "id": "21d4699e-82d4-4c71-98fa-96b308980b51",
   "metadata": {},
   "outputs": [],
   "source": [
    "%aimport models\n",
    "%aimport ingest"
   ]
  },
  {
   "cell_type": "code",
   "execution_count": null,
   "id": "f85cdf79-9a67-45f9-abc6-599637cb8fc1",
   "metadata": {},
   "outputs": [],
   "source": [
    "mongo_uri = \"mongodb://localhost:27017/aimm?authSource=admin\"\n",
    "mongo_pass = getpass.getpass()"
   ]
  },
  {
   "cell_type": "code",
   "execution_count": null,
   "id": "f2c9d410-0e58-4c6e-8387-8d230e8ff0af",
   "metadata": {},
   "outputs": [],
   "source": [
    "db_name = \"aimm\"\n",
    "client = MongoClient(mongo_uri, username=\"root\", password=mongo_pass)\n",
    "db = client[db_name]"
   ]
  },
  {
   "cell_type": "code",
   "execution_count": null,
   "id": "12737d27-41f8-4068-8d1a-2ed6ff9b9d84",
   "metadata": {},
   "outputs": [],
   "source": [
    "# db.drop_collection(\"spike\")\n",
    "# c = db.create_collection(\"spike\")\n",
    "# c.create_index([(\"name\", pymongo.ASCENDING)])\n",
    "# c.create_index([(\"path\", pymongo.ASCENDING)], unique=True)"
   ]
  },
  {
   "cell_type": "code",
   "execution_count": null,
   "id": "a5fdc817-9c25-47df-b05d-4ff4fe395706",
   "metadata": {},
   "outputs": [],
   "source": [
    "c = db[\"tiled\"]"
   ]
  },
  {
   "cell_type": "code",
   "execution_count": null,
   "id": "e0474b9e-6536-483f-baa0-1200be64af47",
   "metadata": {},
   "outputs": [],
   "source": [
    "list(c.find({\"name\" : \"newville\"}))"
   ]
  },
  {
   "cell_type": "code",
   "execution_count": null,
   "id": "6c8c0d0c-a281-4d3c-8e4c-7b1cec778d8c",
   "metadata": {},
   "outputs": [],
   "source": [
    "c.delete_one({\"name\" : \"newville\"})"
   ]
  },
  {
   "cell_type": "code",
   "execution_count": null,
   "id": "a71a7a2e-090f-464d-a93d-9fd8a8099048",
   "metadata": {},
   "outputs": [],
   "source": [
    "c.delete_many({\"path\" : {\"$regex\" : \"/core/newville\"}})"
   ]
  },
  {
   "cell_type": "code",
   "execution_count": null,
   "id": "2bf8864b-f899-43fe-9138-cf767bd04713",
   "metadata": {},
   "outputs": [],
   "source": [
    "data_path = pathlib.Path(\"/run/media/joseph/seagate/jkleinhenz/projects/aimm/data/wanli/core/\").expanduser()\n",
    "print(data_path)\n",
    "ingest.ingest_wanli_oxygen_K(c, data_path, root=[\"core\", \"wanli\"])"
   ]
  },
  {
   "cell_type": "code",
   "execution_count": null,
   "id": "8368af62-13dc-43be-aa74-ca0ffef066c6",
   "metadata": {},
   "outputs": [],
   "source": [
    "ingest.ingest_wanli_TM_L(c, data_path, root=[\"core\", \"wanli\"])"
   ]
  },
  {
   "cell_type": "code",
   "execution_count": null,
   "id": "14acb004-c2d1-42fe-a297-03362295d58b",
   "metadata": {},
   "outputs": [],
   "source": [
    "data_path = pathlib.Path(\"/run/media/joseph/seagate/jkleinhenz/projects/aimm/data/newville/data\").expanduser()\n",
    "print(data_path)\n",
    "ingest.ingest_newville(c, data_path, root=[\"core\", \"newville\"])"
   ]
  },
  {
   "cell_type": "code",
   "execution_count": null,
   "id": "a753045b-182d-41dc-9e51-d7a73154b1db",
   "metadata": {},
   "outputs": [],
   "source": [
    "list(c.find({\"folder\" : False, \"measurements.element.symbol\" : \"Fe\"}, {\"name\" : 1, \"path\" : 1, \"_id\" : 0}))"
   ]
  },
  {
   "cell_type": "code",
   "execution_count": null,
   "id": "d85e3fe1-5414-49bf-8b6d-7c4cb5e9b0f5",
   "metadata": {},
   "outputs": [],
   "source": [
    "data_path = pathlib.Path(\"/run/media/joseph/seagate/jkleinhenz/projects/aimm/data/edrixs\").expanduser()\n",
    "print(data_path)\n",
    "files = list(data_path.rglob(\"*.h5\"))\n",
    "print(\"{:d} files\".format(len(files)))"
   ]
  },
  {
   "cell_type": "code",
   "execution_count": null,
   "id": "6b3a173d-1023-466c-b3f1-17fd0088ffbf",
   "metadata": {},
   "outputs": [],
   "source": [
    "import util\n",
    "import models"
   ]
  },
  {
   "cell_type": "code",
   "execution_count": null,
   "id": "1f013472-567d-4388-ae5e-f4fc46139570",
   "metadata": {},
   "outputs": [],
   "source": [
    "def ingest_edrixs(c, files, root=[\"edrixs\"]):\n",
    "  util.mk_path(c, root)\n",
    "  for f in tqdm(files):\n",
    "    name = shortuuid.encode(uuid.UUID(f.parent.stem))\n",
    "    \n",
    "    with h5py.File(f, \"r\") as h5f:\n",
    "      input_data = util.read_group(h5f[\"/input\"], jsoncompat=True)\n",
    "      output_data = util.read_group(h5f[\"/output\"])\n",
    "      \n",
    "    symbol = input_data[\"args\"][\"atom\"]\n",
    "    edge = \"L\"\n",
    "    element = models.XDIElement(symbol = symbol, edge=edge)\n",
    "    df = pd.DataFrame({\"energy\" : output_data[\"xas\"][\"omega_in\"], \"mu\" : output_data[\"xas\"][\"data\"][:,0]})\n",
    "    \n",
    "    xas_data = models.DataFrameData(\n",
    "            columns=list(df.columns),\n",
    "            media_type=\"application/x-parquet\",\n",
    "            blob=util.serialize_parquet(df).tobytes(),\n",
    "        )\n",
    "    xas = models.XASMeasurement(element=element, metadata={}, data=xas_data)\n",
    "    \n",
    "    rixs_array = output_data[\"rixs\"][\"data\"]\n",
    "    rixs_data = models.ArrayData(shape = rixs_array.shape, media_type=\"application/octet-stream\", blob=memoryview(rixs_array).tobytes())\n",
    "    \n",
    "    off = input_data[\"params\"][\"off\"]\n",
    "    \n",
    "    rixs_metadata = {\"e_in_min\" : input_data[\"args\"][\"omega_min\"] + off, \n",
    "                     \"e_in_max\" : input_data[\"args\"][\"omega_max\"] + off, \n",
    "                     \"n_e_in\" : input_data[\"args\"][\"n_omega\"],\n",
    "                     \"e_loss_min\" : input_data[\"args\"][\"eloss_min\"],\n",
    "                     \"e_loss_max\" : input_data[\"args\"][\"eloss_max\"],\n",
    "                     \"n_e_loss\" : input_data[\"args\"][\"n_eloss\"]}\n",
    "    \n",
    "    rixs = models.RIXSMeasurement(element=element, metadata=rixs_metadata, data=rixs_data)\n",
    "    \n",
    "    path = \"/\".join(root + [name])\n",
    "    sample = models.Sample(name=name, folder=False, path=path, metadata={}, measurements=[xas, rixs])\n",
    "    c.insert_one(sample.dict())"
   ]
  },
  {
   "cell_type": "code",
   "execution_count": null,
   "id": "e5769e7a-0755-49fd-9218-35a94923c70c",
   "metadata": {},
   "outputs": [],
   "source": [
    "ingest_edrixs(c, files)"
   ]
  },
  {
   "cell_type": "code",
   "execution_count": null,
   "id": "51dc20b0-9caf-4dc8-8ae1-4ed68ebdfca1",
   "metadata": {},
   "outputs": [],
   "source": [
    "# c.delete_many({\"path\" : {\"$regex\" : \"edrixs/\"}})"
   ]
  },
  {
   "cell_type": "code",
   "execution_count": null,
   "id": "49a0dbf9-6ef2-4856-83b9-1efea675e53f",
   "metadata": {},
   "outputs": [],
   "source": [
    "\n",
    "# match only direct children!!!\n",
    "list(c.find({\"path\" : {\"$regex\" : r\"^[^/]*$\"}}, {\"name\" : 1, \"path\" : 1, \"_id\" : 0}).limit(10))"
   ]
  },
  {
   "cell_type": "code",
   "execution_count": null,
   "id": "799408f9-7289-40a3-85ea-cb740359899a",
   "metadata": {},
   "outputs": [],
   "source": [
    "def batch(iterable, n=1):\n",
    "    l = len(iterable)\n",
    "    for ndx in range(0, l, n):\n",
    "        yield iterable[ndx:min(ndx + n, l)]"
   ]
  },
  {
   "cell_type": "code",
   "execution_count": null,
   "id": "b0d814ce-a714-4548-b7f3-26fedcf912c3",
   "metadata": {},
   "outputs": [],
   "source": [
    "def make_doc(f):\n",
    "  name = shortuuid.encode(uuid.UUID(f.parent.stem))\n",
    "  sample_id = name\n",
    "\n",
    "  with h5py.File(f, \"r\") as h5f:\n",
    "    input_data = util.read_group(h5f[\"/input\"], jsoncompat=True)\n",
    "    xas_data = util.read_group(h5f[\"/output/xas\"])\n",
    "\n",
    "  xas = xas_data[\"data\"]\n",
    "  e_in_xas = xas_data[\"omega_in\"]\n",
    "  df = pd.DataFrame({\"energy\" : e_in_xas, \"mu\" : xas[:,0]})\n",
    "\n",
    "  symbol = input_data[\"args\"][\"atom\"]\n",
    "  edge = \"L\"\n",
    "  element = {\"symbol\" : symbol, \"edge\" : edge}\n",
    "  columns = list(df.columns)\n",
    "\n",
    "  metadata = {**input_data}\n",
    "\n",
    "  tags = [\"theory\", \"edrixs\"]\n",
    "  internal = {\"tags\" : tags, \"sample_id\" : sample_id, \"type\" : \"xas\", \"element\" : element, \"columns\" : columns}\n",
    "\n",
    "  data = {\n",
    "    \"df\" : {\n",
    "      \"media_type\": \"application/x-parquet\",\n",
    "      \"structure_family\": \"dataframe\",\n",
    "      \"blob\": util.serialize_parquet(df).tobytes(),\n",
    "    }\n",
    "  }\n",
    "\n",
    "  content = {\"data\": data, \"metadata\": metadata, \"internal\" : internal}\n",
    "  doc = {\"name\" : name, \"content\" : content}\n",
    "  return doc\n",
    "\n",
    "def ingest_edrixs_xas(c, files):\n",
    "  doc = util.get_path(c, [\"edrixs\", \"xas\"])\n",
    "  parent = doc[\"_id\"]\n",
    "  ancestors = doc[\"ancestors\"]\n",
    "  ancestors.append(parent)\n",
    "  \n",
    "  for b in tqdm(batch(files, 64)):\n",
    "    docs = []\n",
    "    for f in b:\n",
    "      doc = make_doc(f)\n",
    "      doc.update({\"leaf\" : True, \"ancestors\" : ancestors, \"parent\" : parent})\n",
    "      docs.append(doc)\n",
    "      \n",
    "    c.insert_many(docs)"
   ]
  },
  {
   "cell_type": "code",
   "execution_count": null,
   "id": "9bec89c8-8d2c-4673-bd3b-c1427626ca0e",
   "metadata": {},
   "outputs": [],
   "source": [
    "files = list(data_path.rglob(\"*.h5\"))"
   ]
  },
  {
   "cell_type": "code",
   "execution_count": null,
   "id": "98da4635-64a1-41b2-9764-cff859cb4b01",
   "metadata": {},
   "outputs": [],
   "source": [
    "%%time\n",
    "\n",
    "ingest_edrixs_xas(c, files)"
   ]
  },
  {
   "cell_type": "code",
   "execution_count": null,
   "id": "08f40ef0-1b97-467d-bb72-f71080d5aea9",
   "metadata": {},
   "outputs": [],
   "source": [
    "util.mk_path(c, [\"edrixs\", \"rixs\"])"
   ]
  },
  {
   "cell_type": "code",
   "execution_count": null,
   "id": "ae92dfa9-7bfe-43f1-8482-33ed0eb5db83",
   "metadata": {},
   "outputs": [],
   "source": [
    "def make_edrixs_rixs_doc(f):\n",
    "  name = shortuuid.encode(uuid.UUID(f.parent.stem))\n",
    "  sample_id = name\n",
    "\n",
    "  with h5py.File(f, \"r\") as h5f:\n",
    "    input_data = util.read_group(h5f[\"/input\"], jsoncompat=True)\n",
    "    rixs_data = util.read_group(h5f[\"/output/rixs\"])\n",
    "\n",
    "  rixs = rixs_data[\"data\"]\n",
    "  e_in_rixs = rixs_data[\"omega_in\"]\n",
    "  e_loss = rixs_data[\"eloss\"]\n",
    "\n",
    "  symbol = input_data[\"args\"][\"atom\"]\n",
    "  edge = \"L\"\n",
    "  element = {\"symbol\" : symbol, \"edge\" : edge}\n",
    "\n",
    "  metadata = {**input_data}\n",
    "\n",
    "  tags = [\"theory\", \"edrixs\"]\n",
    "  internal = {\"tags\" : tags, \"sample_id\" : sample_id, \"type\" : \"rixs\", \"element\" : element}\n",
    "\n",
    "  data = {\n",
    "    \"rixs\" : {\n",
    "      \"media_type\": \"application/octet-stream\",\n",
    "      \"structure_family\": \"array\",\n",
    "      \"shape\" : rixs.shape,\n",
    "      \"blob\": memoryview(rixs).tobytes()\n",
    "    },\n",
    "    \"e_in\" : {\n",
    "      \"media_type\": \"application/octet-stream\",\n",
    "      \"structure_family\" : \"array\",\n",
    "      \"shape\" : e_in_rixs.shape,\n",
    "      \"blob\": memoryview(e_in_rixs).tobytes()\n",
    "    },\n",
    "    \"e_loss\" : {\n",
    "      \"media_type\" : \"application/octet-stream\",\n",
    "      \"structure_family\" : \"array\",\n",
    "      \"shape\" : e_loss.shape,\n",
    "      \"blob\" : memoryview(e_loss).tobytes()\n",
    "    }\n",
    "  }\n",
    "\n",
    "  content = {\"data\": data, \"metadata\": metadata, \"internal\" : internal}\n",
    "  doc = {\"name\" : name, \"content\" : content}\n",
    "  return doc\n",
    "\n",
    "def ingest_edrixs_rixs(c, files):\n",
    "  doc = util.get_path(c, [\"edrixs\", \"rixs\"])\n",
    "  parent = doc[\"_id\"]\n",
    "  ancestors = doc[\"ancestors\"]\n",
    "  ancestors.append(parent)\n",
    "  \n",
    "  batch_size = 64\n",
    "  total = math.ceil(len(files) / batch_size)\n",
    "  \n",
    "  for b in tqdm(batch(files, 64), total=total):\n",
    "    docs = []\n",
    "    for f in b:\n",
    "      doc = make_edrixs_rixs_doc(f)\n",
    "      doc.update({\"leaf\" : True, \"ancestors\" : ancestors, \"parent\" : parent})\n",
    "      docs.append(doc)\n",
    "      \n",
    "    c.insert_many(docs)"
   ]
  },
  {
   "cell_type": "code",
   "execution_count": null,
   "id": "bd13d156-28b7-4145-9fd3-75c6010e3a3f",
   "metadata": {},
   "outputs": [],
   "source": [
    "ingest_edrixs_rixs(c, files)"
   ]
  }
 ],
 "metadata": {
  "kernelspec": {
   "display_name": "Python [conda env:aimm]",
   "language": "python",
   "name": "conda-env-aimm-py"
  },
  "language_info": {
   "codemirror_mode": {
    "name": "ipython",
    "version": 3
   },
   "file_extension": ".py",
   "mimetype": "text/x-python",
   "name": "python",
   "nbconvert_exporter": "python",
   "pygments_lexer": "ipython3",
   "version": "3.9.7"
  }
 },
 "nbformat": 4,
 "nbformat_minor": 5
}
