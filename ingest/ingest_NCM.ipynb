{
 "cells": [
  {
   "cell_type": "code",
   "execution_count": null,
   "id": "0c0228d5-5b2b-43ec-8d17-b324b815d2b6",
   "metadata": {},
   "outputs": [],
   "source": [
    "import pathlib\n",
    "import shutil\n",
    "import itertools\n",
    "import getpass\n",
    "import re\n",
    "from collections import defaultdict\n",
    "\n",
    "import pymongo\n",
    "from pymongo import MongoClient\n",
    "\n",
    "import matplotlib.pyplot as plt\n",
    "import numpy as np\n",
    "import pandas as pd\n",
    "\n",
    "import models\n",
    "import serialization"
   ]
  },
  {
   "cell_type": "code",
   "execution_count": null,
   "id": "e21285bf-6ee0-4a20-a81a-be64e1fa9e66",
   "metadata": {},
   "outputs": [],
   "source": [
    "from aimm_adapters.heald_labview import parse_heald_labview, normalize_dataframe, mangle_dup_names"
   ]
  },
  {
   "cell_type": "code",
   "execution_count": null,
   "id": "494db10a-2f27-4ca6-be8b-d46bd6941571",
   "metadata": {},
   "outputs": [],
   "source": [
    "mongo_uri = \"mongodb://localhost:27017/aimm?authSource=admin\"\n",
    "mongo_pass = getpass.getpass()"
   ]
  },
  {
   "cell_type": "code",
   "execution_count": null,
   "id": "b88bedb4-c5e3-4d98-ae70-ad078a943c2d",
   "metadata": {},
   "outputs": [],
   "source": [
    "data_path = pathlib.Path(\"/run/media/joseph/seagate/jkleinhenz/projects/aimm/data/NCM/\")"
   ]
  },
  {
   "cell_type": "code",
   "execution_count": null,
   "id": "4cc2cac1-9cf2-4c32-8351-c7429a1cc047",
   "metadata": {},
   "outputs": [],
   "source": [
    "db_name = \"aimm\"\n",
    "client = MongoClient(mongo_uri, username=\"root\", password=mongo_pass)\n",
    "db = client[db_name]"
   ]
  },
  {
   "cell_type": "code",
   "execution_count": null,
   "id": "7338049a-3d54-4a14-95a0-218c2520b6fa",
   "metadata": {},
   "outputs": [],
   "source": [
    "# c = db.create_collection(\"import\")\n",
    "c = db[\"import\"]"
   ]
  },
  {
   "cell_type": "code",
   "execution_count": null,
   "id": "8c3bd669-70a6-49c8-905b-6f27fc175203",
   "metadata": {},
   "outputs": [],
   "source": [
    "# Ni, Co, Mn, K edges"
   ]
  },
  {
   "cell_type": "code",
   "execution_count": null,
   "id": "ba1b2462-4a6e-4439-b7cb-73d0771d0a16",
   "metadata": {},
   "outputs": [],
   "source": [
    "list(data_path.rglob(\"NCMBM24Ni*\"))\n",
    "\n",
    "samples = [\"NCM622\", \"NCM712_Al\", \"NCMA\"]\n",
    "\n",
    "# cycle, voltage, charge state\n",
    "values = [(0, 0, \"DC\"), (1, 4.3, \"C\"), (1, 4.8, \"C\"), (1, 3.0, \"DC\"), (2, 4.3, \"C\"), (2, 4.8, \"C\"), (10, 4.8, \"C\"), (10, 3.0, \"DC\")]\n",
    "keys = [\"cycle\", \"voltage\", \"state\"]\n",
    "params = [dict(zip(keys, v)) for v in values]"
   ]
  },
  {
   "cell_type": "code",
   "execution_count": null,
   "id": "ba6406cc-bc67-43ed-bbdc-992e39b047a7",
   "metadata": {},
   "outputs": [],
   "source": [
    "def get_folder_name(p):\n",
    "  cycle, V, state = p[\"cycle\"], p[\"voltage\"], p[\"state\"]\n",
    "  \n",
    "  if cycle == 0:\n",
    "    assert V == 0\n",
    "    assert state == \"DC\"\n",
    "    return \"pristine\"\n",
    "  else:\n",
    "    return f\"{cycle:02d}_{V:0.1f}V_{state}\""
   ]
  },
  {
   "cell_type": "code",
   "execution_count": null,
   "id": "88909b39-b1d5-440d-b910-824075e7f211",
   "metadata": {},
   "outputs": [],
   "source": [
    "  print(i, p, sample)"
   ]
  },
  {
   "cell_type": "code",
   "execution_count": null,
   "id": "19eb13d9-b189-443a-8e1b-0a302913a991",
   "metadata": {},
   "outputs": [],
   "source": [
    "def ingest_chenjun(c, data_path, atom, n):\n",
    "  counter = defaultdict(int)\n",
    "  \n",
    "  for i, (charge, sample) in zip(range(1, n+1), itertools.cycle(itertools.product(params, samples))):\n",
    "    path = data_path / \"chenjun\" / f\"NCMBM24{atom}.{i:04d}\"\n",
    "    with open(path) as f:\n",
    "      fname = path.name\n",
    "      print(fname)\n",
    "      df, metadata = parse_heald_labview(f)\n",
    "      df, translation = normalize_dataframe(df, standardize=True)\n",
    "      metadata[\"translation\"] = translation\n",
    "      df[\"mutrans\"] = np.log(df[\"i0\"] / df[\"itrans\"])\n",
    "      df[\"murefer\"] = np.log(df[\"i0\"] / df[\"irefer\"])\n",
    "      metadata[\"charge\"] = charge\n",
    "      metadata[\"sample\"] = sample\n",
    "      metadata[\"fname\"] = fname\n",
    "\n",
    "      element = models.XDIElement(symbol=atom, edge=\"K\")\n",
    "\n",
    "      data = models.DataFrameData.from_pandas(df)\n",
    "      \n",
    "      if charge and charge[\"cycle\"] > 0:\n",
    "        cycle, voltage, state = charge[\"cycle\"], charge[\"voltage\"], charge[\"state\"]\n",
    "        name = f\"{element.symbol}-{element.edge}-cycle{cycle:d}-{voltage:0.1f}V-{state}\"\n",
    "      else:\n",
    "        name = f\"{element.symbol}-{element.edge}-pristine\"\n",
    "\n",
    "      counter[(sample,name)] += 1\n",
    "      i = counter[(sample,name)]\n",
    "\n",
    "      name += f\"-{i}\"\n",
    "\n",
    "      print(sample, name)\n",
    "\n",
    "      doc = models.XASMeasurement(\n",
    "        name=name,\n",
    "        element=element,\n",
    "        metadata=metadata,\n",
    "        data=data)\n",
    "\n",
    "      c.insert_one(doc.dict())"
   ]
  },
  {
   "cell_type": "code",
   "execution_count": null,
   "id": "eba1a619-f8bb-4817-8115-089a39503eae",
   "metadata": {},
   "outputs": [],
   "source": [
    "ingest_chenjun(c, data_path, \"Mn\", 24)"
   ]
  },
  {
   "cell_type": "code",
   "execution_count": null,
   "id": "2900117d-bb87-47f6-a1e5-b9b262125812",
   "metadata": {},
   "outputs": [],
   "source": [
    "atom = \"Co\"\n",
    "# indices = list(range(1, 24+1))\n",
    "indices = list(range(25, 34+1))\n",
    "\n",
    "for i, (p, sample) in list(zip(indices, itertools.product(params, samples))):\n",
    "  path = data_path / \"chenjun\" / f\"NCMBM24{atom}.{i:04d}\"\n",
    "  with open(path) as f:\n",
    "    fname = path.name\n",
    "    print(fname)\n",
    "    df, metadata = parse_heald_labview(f)\n",
    "    df, translation = normalize_dataframe(df, standardize=True)\n",
    "    metadata[\"translation\"] = translation\n",
    "    df[\"mutrans\"] = np.log(df[\"i0\"] / df[\"itrans\"])\n",
    "    df[\"murefer\"] = np.log(df[\"i0\"] / df[\"irefer\"])\n",
    "    metadata[\"charge\"] = p\n",
    "    metadata[\"sample\"] = sample\n",
    "    metadata[\"fname\"] = fname\n",
    "    \n",
    "    element = models.XDIElement(symbol=atom, edge=\"K\")\n",
    "    \n",
    "    data = models.DataFrameData.from_pandas(df)\n",
    "    \n",
    "    doc = models.XASMeasurement(\n",
    "      element=element,\n",
    "      metadata=metadata,\n",
    "      data=data)\n",
    "    \n",
    "    c.insert_one(doc.dict())"
   ]
  },
  {
   "cell_type": "code",
   "execution_count": null,
   "id": "92b7e093-f2ae-431a-a114-b452239f2055",
   "metadata": {},
   "outputs": [],
   "source": [
    "models.XASMeasurement.parse_obj(c.find_one({}))"
   ]
  },
  {
   "cell_type": "code",
   "execution_count": null,
   "id": "2896b1d0-77a4-49a9-bc5a-31e817e2a530",
   "metadata": {},
   "outputs": [],
   "source": [
    "list(c.find({}, {\"metadata.sample\" : 1, \"_id\" : 0}))"
   ]
  },
  {
   "cell_type": "code",
   "execution_count": null,
   "id": "1de78a13-ad31-4595-8123-82dabb5af2bc",
   "metadata": {},
   "outputs": [],
   "source": [
    "serialization.deserialize_parquet(c.find_one({})[\"data\"][\"blob\"])"
   ]
  },
  {
   "cell_type": "code",
   "execution_count": null,
   "id": "82a38bde-c8c8-4c0f-8b04-ddf9635a256b",
   "metadata": {},
   "outputs": [],
   "source": [
    "fig, ax = plt.subplots()\n",
    "df.plot(\"energy\", \"mutrans\", ax=ax)\n",
    "df.plot(\"energy\", \"murefer\", ax=ax)"
   ]
  },
  {
   "cell_type": "code",
   "execution_count": null,
   "id": "8b764bc2-7172-4160-9712-35787099f4cb",
   "metadata": {},
   "outputs": [],
   "source": [
    "def read_header(f):\n",
    "  header = \"\"\n",
    "  for line in f:\n",
    "    if line.startswith(\"Time (s)\"):\n",
    "      header = line.split(\"\\t\")\n",
    "      return header\n",
    "  \n",
    "\n",
    "def read_wanli(f):\n",
    "  names = read_header(f)\n",
    "  names = mangle_dup_names(names)\n",
    "  df = pd.read_csv(f, sep=\"\\t\", names=names)\n",
    "  \n",
    "  translation = {\"Mono Energy\" : \"energy\", \"Counter 3\" : \"i0\", \"Counter 1\" : \"tey\", \"Counter 2\" : \"tfy\", \"Counter 0\" : \"i0_alt\"}\n",
    "  df = df.rename(columns=translation)[list(translation.values())]\n",
    "  \n",
    "  df[\"mu_tfy\"] = df[\"tfy\"] / df[\"i0\"]\n",
    "  df[\"mu_tey\"] = df[\"tey\"] / df[\"i0\"]\n",
    "  \n",
    "  return df\n",
    "\n",
    "def parse_filename(name):\n",
    "  if \"622\" in name:\n",
    "    sample = \"NCM622\"\n",
    "  elif \"NCMA\" in name:\n",
    "    sample = \"NCMA\"\n",
    "  elif \"712\" in name:\n",
    "    sample = \"NCM712_Al\"\n",
    "  elif \"metal\" in name:\n",
    "    sample = \"Ni_metal\"\n",
    "  else:\n",
    "    raise KeyError(f\"unable to parse sample from {name}\")\n",
    "    \n",
    "  if sample == \"Ni_metal\":\n",
    "    charge = None\n",
    "  elif \"Pristine\" in name:\n",
    "    charge = (0, 0.0, \"DC\")\n",
    "  else:\n",
    "    if \"1st\" in name:\n",
    "      cycle = 1\n",
    "    elif \"2nd\" in name:\n",
    "      cycle = 2\n",
    "    elif \"10th\" in name:\n",
    "      cycle = 10\n",
    "    else:\n",
    "      raise KeyError(f\"unable to parse cycle from {name}\")\n",
    "      \n",
    "    voltage_str = re.search(\"(\\d*)V\", name)[0]\n",
    "    if voltage_str == \"43V\":\n",
    "      voltage = 4.3\n",
    "      state = \"C\"\n",
    "    elif voltage_str == \"48V\":\n",
    "      voltage = 4.8\n",
    "      state = \"C\"\n",
    "    elif voltage_str == \"3V\":\n",
    "      voltage = 3.0\n",
    "      state = \"DC\"\n",
    "    else:\n",
    "      raise KeyError(f\"unable to parse voltage from {voltage_str}\")\n",
    "    \n",
    "    charge = (cycle, voltage, state)\n",
    "\n",
    "  if charge:\n",
    "    charge = dict(zip(keys, charge))\n",
    "  return sample, charge"
   ]
  },
  {
   "cell_type": "code",
   "execution_count": null,
   "id": "39f52ebc-b7ad-4f6e-8ab2-b2f847b1c226",
   "metadata": {},
   "outputs": [],
   "source": [
    "files = list((data_path / \"wanli\" / \"Unimodal NCM622_712Al-doped_NCMA_Ni L3\").glob(\"*.txt\"))"
   ]
  },
  {
   "cell_type": "code",
   "execution_count": null,
   "id": "6cd738e1-afd0-4e77-914c-bbef779b5bfc",
   "metadata": {},
   "outputs": [],
   "source": [
    "def ingest_wanli(c, files):\n",
    "  counter = defaultdict(int)\n",
    "  for file in files:\n",
    "    fname = file.name\n",
    "    sample, charge = parse_filename(fname)\n",
    "\n",
    "    metadata = {}\n",
    "    element = models.XDIElement(symbol=\"Ni\", edge=\"L3\")\n",
    "\n",
    "    with open(file, \"r\") as f:\n",
    "      df = read_wanli(f)\n",
    "\n",
    "    metadata[\"charge\"] = charge\n",
    "    metadata[\"sample\"] = sample\n",
    "    metadata[\"fname\"] = fname\n",
    "\n",
    "    data = models.DataFrameData.from_pandas(df)\n",
    "\n",
    "    if charge and charge[\"cycle\"] > 0:\n",
    "      cycle, voltage, state = charge[\"cycle\"], charge[\"voltage\"], charge[\"state\"]\n",
    "      name = f\"{element.symbol}-{element.edge}-cycle{cycle:d}-{voltage:0.1f}V-{state}\"\n",
    "    else:\n",
    "      name = f\"{element.symbol}-{element.edge}-pristine\"\n",
    "      \n",
    "    counter[(sample,name)] += 1\n",
    "    i = counter[(sample,name)]\n",
    "    \n",
    "    name += f\"-{i}\"\n",
    "\n",
    "    print(sample, name)\n",
    "\n",
    "    doc = models.XASMeasurement(\n",
    "      name=name,\n",
    "      element=element,\n",
    "      metadata=metadata,\n",
    "      data=data)\n",
    "\n",
    "    c.insert_one(doc.dict())"
   ]
  },
  {
   "cell_type": "code",
   "execution_count": null,
   "id": "a59285b9-d617-4d8b-a2e0-92a6751a89e1",
   "metadata": {},
   "outputs": [],
   "source": [
    "ingest_wanli(c, files)"
   ]
  },
  {
   "cell_type": "code",
   "execution_count": null,
   "id": "e490d882-a7af-4270-b1f4-961df578a12b",
   "metadata": {},
   "outputs": [],
   "source": [
    "c.delete_many({\"element.edge\" : \"L3\"})"
   ]
  },
  {
   "cell_type": "code",
   "execution_count": null,
   "id": "73697873-c861-4672-b6fc-cfd998c1f9d4",
   "metadata": {},
   "outputs": [],
   "source": [
    "fig, ax = plt.subplots()\n",
    "\n",
    "x.plot(\"energy\", \"mu_tfy\", ax=ax)\n",
    "x.plot(\"energy\", \"mu_tey\", ax=ax)"
   ]
  },
  {
   "cell_type": "code",
   "execution_count": null,
   "id": "99d374e1-cd92-48b3-94c7-f22b42bbd581",
   "metadata": {},
   "outputs": [],
   "source": [
    "c.find({}).distinct(\"metadata.sample\")"
   ]
  },
  {
   "cell_type": "code",
   "execution_count": null,
   "id": "0f08c0fa-1244-4eb8-828d-a02954f51c11",
   "metadata": {},
   "outputs": [],
   "source": [
    "c.find({}).distinct(\"metadata.charge\")"
   ]
  },
  {
   "cell_type": "code",
   "execution_count": null,
   "id": "d26be968-beff-40c1-8d7c-d2919793f3e5",
   "metadata": {},
   "outputs": [],
   "source": [
    "db[\"spike\"].count_documents({})"
   ]
  },
  {
   "cell_type": "code",
   "execution_count": null,
   "id": "db78fbc0-23c1-4169-8a4a-db2ea191038d",
   "metadata": {},
   "outputs": [],
   "source": [
    "tiled_collection = db[\"tiled\"]"
   ]
  },
  {
   "cell_type": "code",
   "execution_count": null,
   "id": "4f2cdf75-a188-4ffe-a509-81f84c0bbbc7",
   "metadata": {},
   "outputs": [],
   "source": [
    "list(tiled_collection.find({}))"
   ]
  },
  {
   "cell_type": "code",
   "execution_count": null,
   "id": "d69bbc6b-9c7f-4e82-b7b9-e4b47f2434b2",
   "metadata": {},
   "outputs": [],
   "source": [
    "import util"
   ]
  },
  {
   "cell_type": "code",
   "execution_count": null,
   "id": "aacda064-b7fb-4e58-bd28-7c3661582161",
   "metadata": {},
   "outputs": [],
   "source": [
    "tiled_collection.delete_many({})"
   ]
  },
  {
   "cell_type": "code",
   "execution_count": null,
   "id": "496ee047-e157-4c4b-973a-a7f9b8ade718",
   "metadata": {},
   "outputs": [],
   "source": [
    "util.mk_path(tiled_collection, [\"NCM\", \"BM\"])"
   ]
  },
  {
   "cell_type": "code",
   "execution_count": null,
   "id": "7949b00e-6aed-496a-9b32-fb696ab3c749",
   "metadata": {},
   "outputs": [],
   "source": [
    "list(tiled_collection.find({}))"
   ]
  },
  {
   "cell_type": "code",
   "execution_count": null,
   "id": "7d5011af-5fe1-475e-8e63-27577034ee67",
   "metadata": {},
   "outputs": [],
   "source": [
    "g = c.aggregate([\n",
    "  {\"$group\" : {\"_id\" : \"$metadata.sample\", \"measurements\" : {\"$push\": \"$$ROOT\"}}},\n",
    "  {\"$project\" : {\"_id\" : 0, \"metadata.sample\" : \"$_id\", \"measurements\" : \"$measurements\"}},\n",
    "])\n",
    "\n",
    "for x in g:\n",
    "  sample_name = x[\"metadata\"][\"sample\"]\n",
    "  if sample_name.startswith(\"NCM\"):\n",
    "    x[\"metadata\"][\"particle_size_configuration\"] = \"BM\"\n",
    "  print(sample_name)\n",
    "  measurements = list(map(lambda x: models.XASMeasurement.parse_obj(x), x[\"measurements\"]))\n",
    "  \n",
    "  path = \"/\" + \"/\".join([\"NCM\", \"BM\", sample_name])\n",
    "  sample = models.Sample(name=sample_name, folder=False, path=path, metadata=x[\"metadata\"], measurements=measurements)\n",
    "  tiled_collection.insert_one(sample.dict())"
   ]
  },
  {
   "cell_type": "code",
   "execution_count": null,
   "id": "db0318a7-d3ed-47d0-bc5f-bc913a7ffb41",
   "metadata": {},
   "outputs": [],
   "source": [
    "path = \"/NCM/\"\n",
    "list(tiled_collection.find({\"$and\" : [{\"path\" : {\"$regex\" : f\"^{path}[^/]*$\"}}]}))"
   ]
  },
  {
   "cell_type": "code",
   "execution_count": null,
   "id": "abd486fc-a6dc-4b80-8c62-eeda61949de0",
   "metadata": {},
   "outputs": [],
   "source": [
    "list(tiled_collection.find({}))"
   ]
  },
  {
   "cell_type": "code",
   "execution_count": null,
   "id": "7bae50d2-b7ef-4d1a-bbf5-44e47ae757ae",
   "metadata": {},
   "outputs": [],
   "source": [
    "from pathlib import PurePosixPath"
   ]
  },
  {
   "cell_type": "code",
   "execution_count": null,
   "id": "f3a70ac9-1a91-41f2-a5dc-816cb2231f5e",
   "metadata": {},
   "outputs": [],
   "source": [
    "p = PurePosixPath(\"/\")"
   ]
  },
  {
   "cell_type": "code",
   "execution_count": null,
   "id": "9df87997-e32a-4a20-b784-d8b8cc48d51e",
   "metadata": {},
   "outputs": [],
   "source": [
    "str((p / \"abc\" / \"123\" / \"fdsafsda\"))"
   ]
  },
  {
   "cell_type": "code",
   "execution_count": null,
   "id": "46965bf1-434d-40c7-b874-cc7a971233dc",
   "metadata": {},
   "outputs": [],
   "source": [
    "PurePosixPath(\"fdasfda\")"
   ]
  },
  {
   "cell_type": "code",
   "execution_count": null,
   "id": "4467f3a1-7e2f-483a-8d9d-a90de39de50e",
   "metadata": {},
   "outputs": [],
   "source": []
  }
 ],
 "metadata": {
  "kernelspec": {
   "display_name": "Python [conda env:aimm]",
   "language": "python",
   "name": "conda-env-aimm-py"
  },
  "language_info": {
   "codemirror_mode": {
    "name": "ipython",
    "version": 3
   },
   "file_extension": ".py",
   "mimetype": "text/x-python",
   "name": "python",
   "nbconvert_exporter": "python",
   "pygments_lexer": "ipython3",
   "version": "3.9.7"
  }
 },
 "nbformat": 4,
 "nbformat_minor": 5
}
