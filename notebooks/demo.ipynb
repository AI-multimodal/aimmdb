{
 "cells": [
  {
   "cell_type": "code",
   "execution_count": null,
   "id": "368a75c1-e1b5-4f4b-9169-19413b471bd0",
   "metadata": {},
   "outputs": [],
   "source": [
    "from tiled.client import from_uri\n",
    "\n",
    "import matplotlib.pyplot as plt\n",
    "import numpy as np\n",
    "import pandas as pd"
   ]
  },
  {
   "cell_type": "code",
   "execution_count": null,
   "id": "8600f785-e56f-46f4-9439-218c85cdf896",
   "metadata": {},
   "outputs": [],
   "source": [
    "client = from_uri(\"https://aimm.lbl.gov\")\n",
    "client"
   ]
  },
  {
   "cell_type": "code",
   "execution_count": null,
   "id": "0885b843-9f0b-476c-b86d-89e99ba14bd6",
   "metadata": {},
   "outputs": [],
   "source": [
    "# lets look at some feff data\n",
    "\n",
    "node = client[\"xas_feff_nmc\"].values_indexer[0]\n",
    "\n",
    "# print metadata keys\n",
    "for k in node.metadata:\n",
    "  print(f\"- {k}\")\n",
    "  \n",
    "# read the datatable\n",
    "df = node.read()\n",
    "display(df)"
   ]
  },
  {
   "cell_type": "code",
   "execution_count": null,
   "id": "67ae5ac2-d594-4854-bdf6-b22dae0f834d",
   "metadata": {},
   "outputs": [],
   "source": [
    "# we can do the same thing with some experimental data from https://github.com/XraySpectroscopy/XASDataLibrary\n",
    "\n",
    "node = client[\"newville\"].values_indexer[0]\n",
    "\n",
    "# print metadata keys\n",
    "for k in node.metadata:\n",
    "  print(f\"- {k}\")\n",
    "  \n",
    "# read the datatable\n",
    "df = node.read()\n",
    "display(df)"
   ]
  },
  {
   "cell_type": "code",
   "execution_count": null,
   "id": "8e26fa6b-7014-4502-99d1-a2e75b92d194",
   "metadata": {},
   "outputs": [],
   "source": [
    "# we need to register our queries manually since we don't have an aimm-tiled package\n",
    "\n",
    "from tiled.query_registration import QueryTranslationRegistry, register\n",
    "from dataclasses import dataclass\n",
    "import collections\n",
    "import json\n",
    "\n",
    "@register(name=\"raw_mongo\")\n",
    "@dataclass\n",
    "class RawMongo:\n",
    "    \"\"\"\n",
    "    Run a MongoDB query against a given collection.\n",
    "    \"\"\"\n",
    "\n",
    "    query: str  # We cannot put a dict in a URL, so this a JSON str.\n",
    "\n",
    "    def __init__(self, query):\n",
    "        if isinstance(query, collections.abc.Mapping):\n",
    "            query = json.dumps(query)\n",
    "        self.query = query\n",
    "        \n",
    "@register(name=\"element\")\n",
    "@dataclass\n",
    "class ElementQuery:\n",
    "\n",
    "    symbol: str\n",
    "    edge: str\n",
    "\n",
    "    def __init__(self, symbol, edge):\n",
    "        self.symbol = symbol\n",
    "        self.edge = edge"
   ]
  },
  {
   "cell_type": "code",
   "execution_count": null,
   "id": "bcc9a9e5-1e8b-41fe-a833-d1b09047720d",
   "metadata": {},
   "outputs": [],
   "source": [
    "# lets look at all data for the Cobolt K edge\n",
    "\n",
    "results_feff = client[\"xas_feff_nmc\"].search(ElementQuery(symbol=\"Co\", edge=\"K\"))\n",
    "print(f\"{len(results_feff)=}\")\n",
    "\n",
    "results_newville = client[\"newville\"].search(ElementQuery(symbol=\"Co\", edge=\"K\"))\n",
    "print(f\"{len(results_newville)=}\")"
   ]
  },
  {
   "cell_type": "code",
   "execution_count": null,
   "id": "159a80e2-20dc-438c-9fe9-f82ac4629f6a",
   "metadata": {},
   "outputs": [],
   "source": [
    "# now we can plot some results\n",
    "\n",
    "results_feff.values_indexer[0].read().plot(\"energy\", \"mu\")\n",
    "\n",
    "df = results_newville.values_indexer[0].read()\n",
    "df[\"mu\"] = np.log(df[\"i0\"] / df[\"itrans\"])\n",
    "df.plot(\"energy\", \"mu\")"
   ]
  }
 ],
 "metadata": {
  "kernelspec": {
   "display_name": "Python [conda env:tiled-dev]",
   "language": "python",
   "name": "conda-env-tiled-dev-py"
  },
  "language_info": {
   "codemirror_mode": {
    "name": "ipython",
    "version": 3
   },
   "file_extension": ".py",
   "mimetype": "text/x-python",
   "name": "python",
   "nbconvert_exporter": "python",
   "pygments_lexer": "ipython3",
   "version": "3.9.5"
  }
 },
 "nbformat": 4,
 "nbformat_minor": 5
}
