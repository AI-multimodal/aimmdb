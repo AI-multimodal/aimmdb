{
 "cells": [
  {
   "cell_type": "code",
   "execution_count": null,
   "metadata": {},
   "outputs": [],
   "source": [
    "import copy\n",
    "from pathlib import Path\n",
    "\n",
    "import numpy as np\n",
    "import pandas as pd\n",
    "import nbconvert"
   ]
  },
  {
   "cell_type": "code",
   "execution_count": null,
   "metadata": {},
   "outputs": [],
   "source": [
    "from tiled.client import from_uri\n",
    "client = from_uri(\"http://localhost:8000/api\")"
   ]
  },
  {
   "cell_type": "code",
   "execution_count": null,
   "metadata": {},
   "outputs": [],
   "source": [
    "\n",
    "import os\n",
    "from pathlib import Path\n",
    "\n",
    "\n",
    "DATA_PATH = Path(\"C:/Users/msega/aimmdb/aimmdb/_tests/data/feff/65272_C_007/\")\n",
    "\n",
    "#DATA_PATH = Path(\"aimmdb/data/feff/65272_C_007\")\n",
    "print(\"Data Path:\", DATA_PATH)\n",
    "\n",
    "contents = os.listdir(DATA_PATH)\n",
    "print(\"Contents:\", contents)\n"
   ]
  },
  {
   "cell_type": "code",
   "execution_count": null,
   "metadata": {},
   "outputs": [],
   "source": [
    "from aimmdb.ingest.load_FEFF_Data import load_feff_data\n",
    "\n",
    "data, metadata = load_feff_data(DATA_PATH)"
   ]
  },
  {
   "cell_type": "code",
   "execution_count": null,
   "metadata": {},
   "outputs": [],
   "source": [
    "def ingest_feff(client, data_path, verbose=False):\n",
    "    \"\"\"\n",
    "    Parameters\n",
    "    ----------\n",
    "    client : tiled.client.Client\n",
    "        The client to use to connect to the server.\n",
    "    data : os.PathLike\n",
    "        path to the feff.inp, feff.out, and xmu.dat files.\n",
    "    verbose : bool, optional\n",
    "        Prints debug information if True.\n",
    "    \"\"\"\n",
    "    client = from_uri(\"http://localhost:8000/api\")\n",
    "    data_path = Path(\"C:/Users/msega/aimmdb/aimmdb/_tests/data/feff/65272_C_007/\")\n",
    "\n",
    "    files = list(data_path.rglob(\"*\"))\n",
    "    print(\"found {len(files)} files to ingest\")\n",
    "    print(\"Ingesting FEFF data from:\", data_path)\n",
    "\n",
    "\n",
    "    feff_data, metadata = load_feff_data(data_path, verbose=False)\n"
   ]
  },
  {
   "cell_type": "code",
   "execution_count": null,
   "metadata": {},
   "outputs": [],
   "source": [
    "from aimmdb.ingest.load_FEFF_Data import load_feff_data\n",
    "from tiled.client import from_uri\n",
    "from aimmdb.ingest.load_FEFF_Data import load_feff_data\n",
    "\n",
    "client = from_uri(\"http://localhost:8000/api\")\n",
    "\n",
    "data, metadata = load_feff_data(DATA_PATH, verbose=False)\n",
    "\n",
    "client[\"uid\"].write_dataframe(data, metadata, specs=[\"FEFF\"])\n",
    "\n",
    "#ingest_feff(client, DATA_PATH, verbose=True)"
   ]
  },
  {
   "cell_type": "code",
   "execution_count": null,
   "metadata": {},
   "outputs": [],
   "source": [
    "print(\"starting ingestion...\")\n",
    "ingest_feff(client, DATA_PATH, verbose=True)\n",
    "print(\"finished.\")"
   ]
  },
  {
   "cell_type": "code",
   "execution_count": null,
   "metadata": {},
   "outputs": [],
   "source": [
    "import aimmdb.schemas as schemas\n",
    "\n",
    "schemas.FEFFInputMetadata.schema()"
   ]
  },
  {
   "cell_type": "code",
   "execution_count": null,
   "metadata": {},
   "outputs": [],
   "source": [
    "import aimmdb.schemas as schemas\n",
    "\n",
    "schemas.FEFFOutputMetadata.schema()"
   ]
  },
  {
   "cell_type": "code",
   "execution_count": null,
   "metadata": {},
   "outputs": [],
   "source": [
    "\n",
    "import aimmdb.schemas as schemas\n",
    "schemas.FEFFcards.schema()"
   ]
  },
  {
   "cell_type": "code",
   "execution_count": null,
   "metadata": {},
   "outputs": [],
   "source": [
    "#show feff.inp as a schema\n",
    "import aimmdb.schemas as schemas\n",
    "\n",
    "schemas.FEFFInputMetadata.schema()\n"
   ]
  }
 ],
 "metadata": {
  "kernelspec": {
   "display_name": "Python 3.9.13 ('aimm')",
   "language": "python",
   "name": "python3"
  },
  "language_info": {
   "codemirror_mode": {
    "name": "ipython",
    "version": 3
   },
   "file_extension": ".py",
   "mimetype": "text/x-python",
   "name": "python",
   "nbconvert_exporter": "python",
   "pygments_lexer": "ipython3",
   "version": "3.9.13"
  },
  "orig_nbformat": 4,
  "vscode": {
   "interpreter": {
    "hash": "189d756eac8438d33e11f8e23aa09bdc4c99760ed11a3bfefa464e31dcca4c4a"
   }
  }
 },
 "nbformat": 4,
 "nbformat_minor": 2
}
