{
 "cells": [
  {
   "cell_type": "code",
   "execution_count": 1,
   "metadata": {},
   "outputs": [],
   "source": [
    "import copy\n",
    "from pathlib import Path\n",
    "\n",
    "import numpy as np\n",
    "import pandas as pd\n",
    "import nbconvert"
   ]
  },
  {
   "cell_type": "code",
   "execution_count": null,
   "metadata": {},
   "outputs": [],
   "source": [
    "from tiled.client import from_uri\n",
    "client = from_uri(\"http://localhost:8000/api\")"
   ]
  },
  {
   "cell_type": "code",
   "execution_count": 5,
   "metadata": {},
   "outputs": [
    {
     "name": "stdout",
     "output_type": "stream",
     "text": [
      "Data Path: aimmdb\\data\\feff\\65272_C_007\n"
     ]
    },
    {
     "ename": "FileNotFoundError",
     "evalue": "[WinError 3] The system cannot find the path specified: 'aimmdb\\\\data\\\\feff\\\\65272_C_007'",
     "output_type": "error",
     "traceback": [
      "\u001b[1;31m---------------------------------------------------------------------------\u001b[0m",
      "\u001b[1;31mFileNotFoundError\u001b[0m                         Traceback (most recent call last)",
      "Cell \u001b[1;32mIn [5], line 8\u001b[0m\n\u001b[0;32m      5\u001b[0m DATA_PATH \u001b[39m=\u001b[39m Path(\u001b[39m\"\u001b[39m\u001b[39maimmdb/data/feff/65272_C_007\u001b[39m\u001b[39m\"\u001b[39m)\n\u001b[0;32m      6\u001b[0m \u001b[39mprint\u001b[39m(\u001b[39m\"\u001b[39m\u001b[39mData Path:\u001b[39m\u001b[39m\"\u001b[39m, DATA_PATH)\n\u001b[1;32m----> 8\u001b[0m contents \u001b[39m=\u001b[39m os\u001b[39m.\u001b[39;49mlistdir(DATA_PATH)\n\u001b[0;32m      9\u001b[0m \u001b[39mprint\u001b[39m(\u001b[39m\"\u001b[39m\u001b[39mContents:\u001b[39m\u001b[39m\"\u001b[39m, contents)\n",
      "\u001b[1;31mFileNotFoundError\u001b[0m: [WinError 3] The system cannot find the path specified: 'aimmdb\\\\data\\\\feff\\\\65272_C_007'"
     ]
    }
   ],
   "source": [
    "\n",
    "import os\n",
    "from pathlib import Path\n",
    "\n",
    "\n",
    "DATA_PATH = Path(\"aimmdb/data/feff/65272_C_007\")\n",
    "print(\"Data Path:\", DATA_PATH)\n",
    "\n",
    "contents = os.listdir(DATA_PATH)\n",
    "print(\"Contents:\", contents)\n"
   ]
  },
  {
   "cell_type": "code",
   "execution_count": null,
   "metadata": {},
   "outputs": [],
   "source": [
    "from aimmdb.ingest.load_FEFF_Data import load_feff_data\n",
    "\n",
    "data, metadata = load_feff_data(DATA_PATH)"
   ]
  },
  {
   "cell_type": "code",
   "execution_count": 7,
   "metadata": {},
   "outputs": [],
   "source": [
    "def ingest_feff(client, df, verbose=False):\n",
    "    \"\"\"\n",
    "    Upload the FEFF dataset to database\n",
    "    \"\"\"\n",
    "\n",
    "    for (name, prep), g in df.groupby([\"sample.name\", \"sample.prep\"]):\n",
    "        if verbose:\n",
    "            print(f\"{name}: {prep}, {len(g)}\")\n",
    "\n",
    "        sample_id = client.write_sample({\"name\" : name, \"prep\" : prep})\n",
    "\n",
    "        for i, row in g.iterrows():\n",
    "            feff_df, _ = load_feff_data.dat(row.file)\n",
    "            metadata = row.metadata\n",
    "            metadata[\"dataset\"] = \"feff\"\n",
    "            metadata[\"sample_id\"] = sample_id\n",
    "            client[\"uid\"].write_dataframe(feff_df, metadata=metadata, specs=[\"FEFF\"])"
   ]
  },
  {
   "cell_type": "code",
   "execution_count": 9,
   "metadata": {},
   "outputs": [
    {
     "name": "stdout",
     "output_type": "stream",
     "text": [
      "starting ingestion...\n"
     ]
    },
    {
     "ename": "NameError",
     "evalue": "name 'client' is not defined",
     "output_type": "error",
     "traceback": [
      "\u001b[1;31m---------------------------------------------------------------------------\u001b[0m",
      "\u001b[1;31mNameError\u001b[0m                                 Traceback (most recent call last)",
      "Cell \u001b[1;32mIn [9], line 2\u001b[0m\n\u001b[0;32m      1\u001b[0m \u001b[39mprint\u001b[39m(\u001b[39m\"\u001b[39m\u001b[39mstarting ingestion...\u001b[39m\u001b[39m\"\u001b[39m)\n\u001b[1;32m----> 2\u001b[0m ingest_feff(client, load_feff_data\u001b[39m.\u001b[39mdata, verbose\u001b[39m=\u001b[39m\u001b[39mTrue\u001b[39;00m)\n\u001b[0;32m      3\u001b[0m \u001b[39mprint\u001b[39m(\u001b[39m\"\u001b[39m\u001b[39mfinished.\u001b[39m\u001b[39m\"\u001b[39m)\n",
      "\u001b[1;31mNameError\u001b[0m: name 'client' is not defined"
     ]
    }
   ],
   "source": [
    "print(\"starting ingestion...\")\n",
    "ingest_feff(client, load_feff_data.data, verbose=True)\n",
    "print(\"finished.\")"
   ]
  },
  {
   "cell_type": "code",
   "execution_count": 12,
   "metadata": {},
   "outputs": [
    {
     "data": {
      "text/plain": [
       "{'title': 'FEFFInputMetadata',\n",
       " 'type': 'object',\n",
       " 'properties': {'element': {'$ref': '#/definitions/XDIElement'},\n",
       "  'measurement_type': {'default': 'FEFF',\n",
       "   'allOf': [{'$ref': '#/definitions/MeasurementEnum'}]},\n",
       "  'dataset': {'title': 'Dataset', 'type': 'string'},\n",
       "  'sample_id': {'title': 'Sample Id', 'type': 'string'},\n",
       "  'input_script': {'title': 'Input Script', 'type': 'string'}},\n",
       " 'required': ['element', 'dataset', 'sample_id', 'input_script'],\n",
       " 'definitions': {'XDIElement': {'title': 'XDIElement',\n",
       "   'type': 'object',\n",
       "   'properties': {'symbol': {'title': 'Symbol', 'type': 'string'},\n",
       "    'edge': {'title': 'Edge', 'type': 'string'}},\n",
       "   'required': ['symbol', 'edge']},\n",
       "  'MeasurementEnum': {'title': 'MeasurementEnum',\n",
       "   'description': 'An enumeration.',\n",
       "   'enum': ['xas', 'rixs'],\n",
       "   'type': 'string'}}}"
      ]
     },
     "execution_count": 12,
     "metadata": {},
     "output_type": "execute_result"
    }
   ],
   "source": [
    "import aimmdb.schemas as schemas\n",
    "\n",
    "schemas.FEFFInputMetadata.schema()"
   ]
  },
  {
   "cell_type": "code",
   "execution_count": 13,
   "metadata": {},
   "outputs": [
    {
     "data": {
      "text/plain": [
       "{'title': 'FEFFOutputMetadata',\n",
       " 'type': 'object',\n",
       " 'properties': {'element': {'$ref': '#/definitions/XDIElement'},\n",
       "  'measurement_type': {'default': 'FEFF',\n",
       "   'allOf': [{'$ref': '#/definitions/MeasurementEnum'}]},\n",
       "  'dataset': {'title': 'Dataset', 'type': 'string'},\n",
       "  'sample_id': {'title': 'Sample Id', 'type': 'string'},\n",
       "  'output_log': {'title': 'Output Log', 'type': 'string'}},\n",
       " 'required': ['element', 'dataset', 'sample_id', 'output_log'],\n",
       " 'definitions': {'XDIElement': {'title': 'XDIElement',\n",
       "   'type': 'object',\n",
       "   'properties': {'symbol': {'title': 'Symbol', 'type': 'string'},\n",
       "    'edge': {'title': 'Edge', 'type': 'string'}},\n",
       "   'required': ['symbol', 'edge']},\n",
       "  'MeasurementEnum': {'title': 'MeasurementEnum',\n",
       "   'description': 'An enumeration.',\n",
       "   'enum': ['xas', 'rixs'],\n",
       "   'type': 'string'}}}"
      ]
     },
     "execution_count": 13,
     "metadata": {},
     "output_type": "execute_result"
    }
   ],
   "source": [
    "import aimmdb.schemas as schemas\n",
    "\n",
    "schemas.FEFFOutputMetadata.schema()"
   ]
  },
  {
   "cell_type": "code",
   "execution_count": 14,
   "metadata": {},
   "outputs": [
    {
     "data": {
      "text/plain": [
       "{'title': 'FEFFcards',\n",
       " 'type': 'object',\n",
       " 'properties': {'atoms': {'title': 'Atoms', 'type': 'number'},\n",
       "  'control': {'title': 'Control', 'type': 'integer'},\n",
       "  'exchange': {'title': 'Exchange', 'type': 'number'},\n",
       "  'title': {'title': 'Title', 'type': 'string'},\n",
       "  'rpath': {'title': 'Rpath', 'type': 'integer'},\n",
       "  'potentials': {'title': 'Potentials', 'type': 'number'},\n",
       "  'xanes': {'title': 'Xanes', 'type': 'number'},\n",
       "  'edge': {'title': 'Edge', 'type': 'string'},\n",
       "  'scf': {'title': 'Scf', 'type': 'number'},\n",
       "  'fms': {'title': 'Fms', 'type': 'number'},\n",
       "  'S02': {'title': 'S02', 'type': 'number'},\n",
       "  'corehole': {'title': 'Corehole', 'type': 'string'}},\n",
       " 'required': ['atoms',\n",
       "  'control',\n",
       "  'exchange',\n",
       "  'rpath',\n",
       "  'potentials',\n",
       "  'xanes',\n",
       "  'edge',\n",
       "  'scf',\n",
       "  'fms',\n",
       "  'S02',\n",
       "  'corehole']}"
      ]
     },
     "execution_count": 14,
     "metadata": {},
     "output_type": "execute_result"
    }
   ],
   "source": [
    "\n",
    "import aimmdb.schemas as schemas\n",
    "schemas.FEFFcards.schema()"
   ]
  },
  {
   "cell_type": "code",
   "execution_count": null,
   "metadata": {},
   "outputs": [],
   "source": [
    "client[\"uid\"]"
   ]
  },
  {
   "cell_type": "code",
   "execution_count": null,
   "metadata": {},
   "outputs": [],
   "source": [
    "# with the correct metadata we can write to the server\n",
    "# NOTE this doesn't prevent you from writing garbage but does help\n",
    "df = pd.DataFrame({\"a\" : np.random.rand(100), \"b\" : np.random.rand(100)})\n",
    "metadata = {\"dataset\" : \"feff\", \"foo\" : \"bar\", \"element\" : {\"symbol\" : \"Au\", \"edge\" : \"K\"}, \"facility\" : {\"name\" : \"ALS\"}, \"beamline\" : {\"name\" : \"8.0.1\"}}\n",
    "node = client[\"uid\"].write_dataframe(df, metadata=metadata, specs=[\"FEFF\"])\n",
    "node"
   ]
  },
  {
   "cell_type": "code",
   "execution_count": 4,
   "metadata": {},
   "outputs": [
    {
     "name": "stderr",
     "output_type": "stream",
     "text": [
      "[NbConvertApp] Converting notebook ingest_FEFF.ipynb to notebook\n",
      "[NbConvertApp] Writing 4109 bytes to ingest_FEFF.ipynb\n"
     ]
    }
   ],
   "source": [
    "# clear outputs\n",
    "!jupyter nbconvert --ClearOutputPreprocessor.enabled=True --inplace ingest_FEFF.ipynb"
   ]
  }
 ],
 "metadata": {
  "kernelspec": {
   "display_name": "Python 3.9.13 ('aimm')",
   "language": "python",
   "name": "python3"
  },
  "language_info": {
   "codemirror_mode": {
    "name": "ipython",
    "version": 3
   },
   "file_extension": ".py",
   "mimetype": "text/x-python",
   "name": "python",
   "nbconvert_exporter": "python",
   "pygments_lexer": "ipython3",
   "version": "3.9.13"
  },
  "orig_nbformat": 4,
  "vscode": {
   "interpreter": {
    "hash": "189d756eac8438d33e11f8e23aa09bdc4c99760ed11a3bfefa464e31dcca4c4a"
   }
  }
 },
 "nbformat": 4,
 "nbformat_minor": 2
}
